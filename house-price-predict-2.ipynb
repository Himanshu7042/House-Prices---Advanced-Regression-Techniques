{
 "cells": [
  {
   "cell_type": "code",
   "execution_count": 1,
   "id": "bf05d94b",
   "metadata": {
    "_cell_guid": "b1076dfc-b9ad-4769-8c92-a6c4dae69d19",
    "_uuid": "8f2839f25d086af736a60e9eeb907d3b93b6e0e5",
    "execution": {
     "iopub.execute_input": "2024-01-07T10:47:47.736834Z",
     "iopub.status.busy": "2024-01-07T10:47:47.736541Z",
     "iopub.status.idle": "2024-01-07T10:47:48.495897Z",
     "shell.execute_reply": "2024-01-07T10:47:48.494505Z"
    },
    "papermill": {
     "duration": 0.781698,
     "end_time": "2024-01-07T10:47:48.498368",
     "exception": false,
     "start_time": "2024-01-07T10:47:47.716670",
     "status": "completed"
    },
    "tags": []
   },
   "outputs": [
    {
     "name": "stdout",
     "output_type": "stream",
     "text": [
      "/kaggle/input/house-prices-advanced-regression-techniques/sample_submission.csv\n",
      "/kaggle/input/house-prices-advanced-regression-techniques/data_description.txt\n",
      "/kaggle/input/house-prices-advanced-regression-techniques/train.csv\n",
      "/kaggle/input/house-prices-advanced-regression-techniques/test.csv\n"
     ]
    }
   ],
   "source": [
    "# This Python 3 environment comes with many helpful analytics libraries installed\n",
    "# It is defined by the kaggle/python Docker image: https://github.com/kaggle/docker-python\n",
    "# For example, here's several helpful packages to load\n",
    "\n",
    "import numpy as np # linear algebra\n",
    "import pandas as pd # data processing, CSV file I/O (e.g. pd.read_csv)\n",
    "\n",
    "# Input data files are available in the read-only \"../input/\" directory\n",
    "# For example, running this (by clicking run or pressing Shift+Enter) will list all files under the input directory\n",
    "\n",
    "import os\n",
    "for dirname, _, filenames in os.walk('/kaggle/input'):\n",
    "    for filename in filenames:\n",
    "        print(os.path.join(dirname, filename))\n",
    "\n",
    "# You can write up to 20GB to the current directory (/kaggle/working/) that gets preserved as output when you create a version using \"Save & Run All\" \n",
    "# You can also write temporary files to /kaggle/temp/, but they won't be saved outside of the current session"
   ]
  },
  {
   "cell_type": "markdown",
   "id": "46561853",
   "metadata": {
    "papermill": {
     "duration": 0.018264,
     "end_time": "2024-01-07T10:47:48.535113",
     "exception": false,
     "start_time": "2024-01-07T10:47:48.516849",
     "status": "completed"
    },
    "tags": []
   },
   "source": [
    "#  **EDA**"
   ]
  },
  {
   "cell_type": "code",
   "execution_count": 2,
   "id": "0d9116a9",
   "metadata": {
    "execution": {
     "iopub.execute_input": "2024-01-07T10:47:48.572405Z",
     "iopub.status.busy": "2024-01-07T10:47:48.571942Z",
     "iopub.status.idle": "2024-01-07T10:47:48.650328Z",
     "shell.execute_reply": "2024-01-07T10:47:48.649227Z"
    },
    "papermill": {
     "duration": 0.099594,
     "end_time": "2024-01-07T10:47:48.652416",
     "exception": false,
     "start_time": "2024-01-07T10:47:48.552822",
     "status": "completed"
    },
    "tags": []
   },
   "outputs": [
    {
     "data": {
      "text/html": [
       "<div>\n",
       "<style scoped>\n",
       "    .dataframe tbody tr th:only-of-type {\n",
       "        vertical-align: middle;\n",
       "    }\n",
       "\n",
       "    .dataframe tbody tr th {\n",
       "        vertical-align: top;\n",
       "    }\n",
       "\n",
       "    .dataframe thead th {\n",
       "        text-align: right;\n",
       "    }\n",
       "</style>\n",
       "<table border=\"1\" class=\"dataframe\">\n",
       "  <thead>\n",
       "    <tr style=\"text-align: right;\">\n",
       "      <th></th>\n",
       "      <th>MSSubClass</th>\n",
       "      <th>MSZoning</th>\n",
       "      <th>LotFrontage</th>\n",
       "      <th>LotArea</th>\n",
       "      <th>Street</th>\n",
       "      <th>Alley</th>\n",
       "      <th>LotShape</th>\n",
       "      <th>LandContour</th>\n",
       "      <th>Utilities</th>\n",
       "      <th>LotConfig</th>\n",
       "      <th>...</th>\n",
       "      <th>PoolArea</th>\n",
       "      <th>PoolQC</th>\n",
       "      <th>Fence</th>\n",
       "      <th>MiscFeature</th>\n",
       "      <th>MiscVal</th>\n",
       "      <th>MoSold</th>\n",
       "      <th>YrSold</th>\n",
       "      <th>SaleType</th>\n",
       "      <th>SaleCondition</th>\n",
       "      <th>SalePrice</th>\n",
       "    </tr>\n",
       "    <tr>\n",
       "      <th>Id</th>\n",
       "      <th></th>\n",
       "      <th></th>\n",
       "      <th></th>\n",
       "      <th></th>\n",
       "      <th></th>\n",
       "      <th></th>\n",
       "      <th></th>\n",
       "      <th></th>\n",
       "      <th></th>\n",
       "      <th></th>\n",
       "      <th></th>\n",
       "      <th></th>\n",
       "      <th></th>\n",
       "      <th></th>\n",
       "      <th></th>\n",
       "      <th></th>\n",
       "      <th></th>\n",
       "      <th></th>\n",
       "      <th></th>\n",
       "      <th></th>\n",
       "      <th></th>\n",
       "    </tr>\n",
       "  </thead>\n",
       "  <tbody>\n",
       "    <tr>\n",
       "      <th>1</th>\n",
       "      <td>60</td>\n",
       "      <td>RL</td>\n",
       "      <td>65.0</td>\n",
       "      <td>8450</td>\n",
       "      <td>Pave</td>\n",
       "      <td>NaN</td>\n",
       "      <td>Reg</td>\n",
       "      <td>Lvl</td>\n",
       "      <td>AllPub</td>\n",
       "      <td>Inside</td>\n",
       "      <td>...</td>\n",
       "      <td>0</td>\n",
       "      <td>NaN</td>\n",
       "      <td>NaN</td>\n",
       "      <td>NaN</td>\n",
       "      <td>0</td>\n",
       "      <td>2</td>\n",
       "      <td>2008</td>\n",
       "      <td>WD</td>\n",
       "      <td>Normal</td>\n",
       "      <td>208500</td>\n",
       "    </tr>\n",
       "  </tbody>\n",
       "</table>\n",
       "<p>1 rows × 80 columns</p>\n",
       "</div>"
      ],
      "text/plain": [
       "    MSSubClass MSZoning  LotFrontage  LotArea Street Alley LotShape  \\\n",
       "Id                                                                    \n",
       "1           60       RL         65.0     8450   Pave   NaN      Reg   \n",
       "\n",
       "   LandContour Utilities LotConfig  ... PoolArea PoolQC Fence MiscFeature  \\\n",
       "Id                                  ...                                     \n",
       "1          Lvl    AllPub    Inside  ...        0    NaN   NaN         NaN   \n",
       "\n",
       "   MiscVal MoSold  YrSold  SaleType  SaleCondition  SalePrice  \n",
       "Id                                                             \n",
       "1        0      2    2008        WD         Normal     208500  \n",
       "\n",
       "[1 rows x 80 columns]"
      ]
     },
     "execution_count": 2,
     "metadata": {},
     "output_type": "execute_result"
    }
   ],
   "source": [
    "df = pd.read_csv(\"/kaggle/input/house-prices-advanced-regression-techniques/train.csv\",index_col=0)\n",
    "df.head(1)"
   ]
  },
  {
   "cell_type": "code",
   "execution_count": 3,
   "id": "17d3db41",
   "metadata": {
    "execution": {
     "iopub.execute_input": "2024-01-07T10:47:48.690785Z",
     "iopub.status.busy": "2024-01-07T10:47:48.690498Z",
     "iopub.status.idle": "2024-01-07T10:47:48.713427Z",
     "shell.execute_reply": "2024-01-07T10:47:48.712250Z"
    },
    "papermill": {
     "duration": 0.044851,
     "end_time": "2024-01-07T10:47:48.715852",
     "exception": false,
     "start_time": "2024-01-07T10:47:48.671001",
     "status": "completed"
    },
    "tags": []
   },
   "outputs": [
    {
     "name": "stdout",
     "output_type": "stream",
     "text": [
      "<class 'pandas.core.frame.DataFrame'>\n",
      "Index: 1460 entries, 1 to 1460\n",
      "Data columns (total 80 columns):\n",
      " #   Column         Non-Null Count  Dtype  \n",
      "---  ------         --------------  -----  \n",
      " 0   MSSubClass     1460 non-null   int64  \n",
      " 1   MSZoning       1460 non-null   object \n",
      " 2   LotFrontage    1201 non-null   float64\n",
      " 3   LotArea        1460 non-null   int64  \n",
      " 4   Street         1460 non-null   object \n",
      " 5   Alley          91 non-null     object \n",
      " 6   LotShape       1460 non-null   object \n",
      " 7   LandContour    1460 non-null   object \n",
      " 8   Utilities      1460 non-null   object \n",
      " 9   LotConfig      1460 non-null   object \n",
      " 10  LandSlope      1460 non-null   object \n",
      " 11  Neighborhood   1460 non-null   object \n",
      " 12  Condition1     1460 non-null   object \n",
      " 13  Condition2     1460 non-null   object \n",
      " 14  BldgType       1460 non-null   object \n",
      " 15  HouseStyle     1460 non-null   object \n",
      " 16  OverallQual    1460 non-null   int64  \n",
      " 17  OverallCond    1460 non-null   int64  \n",
      " 18  YearBuilt      1460 non-null   int64  \n",
      " 19  YearRemodAdd   1460 non-null   int64  \n",
      " 20  RoofStyle      1460 non-null   object \n",
      " 21  RoofMatl       1460 non-null   object \n",
      " 22  Exterior1st    1460 non-null   object \n",
      " 23  Exterior2nd    1460 non-null   object \n",
      " 24  MasVnrType     588 non-null    object \n",
      " 25  MasVnrArea     1452 non-null   float64\n",
      " 26  ExterQual      1460 non-null   object \n",
      " 27  ExterCond      1460 non-null   object \n",
      " 28  Foundation     1460 non-null   object \n",
      " 29  BsmtQual       1423 non-null   object \n",
      " 30  BsmtCond       1423 non-null   object \n",
      " 31  BsmtExposure   1422 non-null   object \n",
      " 32  BsmtFinType1   1423 non-null   object \n",
      " 33  BsmtFinSF1     1460 non-null   int64  \n",
      " 34  BsmtFinType2   1422 non-null   object \n",
      " 35  BsmtFinSF2     1460 non-null   int64  \n",
      " 36  BsmtUnfSF      1460 non-null   int64  \n",
      " 37  TotalBsmtSF    1460 non-null   int64  \n",
      " 38  Heating        1460 non-null   object \n",
      " 39  HeatingQC      1460 non-null   object \n",
      " 40  CentralAir     1460 non-null   object \n",
      " 41  Electrical     1459 non-null   object \n",
      " 42  1stFlrSF       1460 non-null   int64  \n",
      " 43  2ndFlrSF       1460 non-null   int64  \n",
      " 44  LowQualFinSF   1460 non-null   int64  \n",
      " 45  GrLivArea      1460 non-null   int64  \n",
      " 46  BsmtFullBath   1460 non-null   int64  \n",
      " 47  BsmtHalfBath   1460 non-null   int64  \n",
      " 48  FullBath       1460 non-null   int64  \n",
      " 49  HalfBath       1460 non-null   int64  \n",
      " 50  BedroomAbvGr   1460 non-null   int64  \n",
      " 51  KitchenAbvGr   1460 non-null   int64  \n",
      " 52  KitchenQual    1460 non-null   object \n",
      " 53  TotRmsAbvGrd   1460 non-null   int64  \n",
      " 54  Functional     1460 non-null   object \n",
      " 55  Fireplaces     1460 non-null   int64  \n",
      " 56  FireplaceQu    770 non-null    object \n",
      " 57  GarageType     1379 non-null   object \n",
      " 58  GarageYrBlt    1379 non-null   float64\n",
      " 59  GarageFinish   1379 non-null   object \n",
      " 60  GarageCars     1460 non-null   int64  \n",
      " 61  GarageArea     1460 non-null   int64  \n",
      " 62  GarageQual     1379 non-null   object \n",
      " 63  GarageCond     1379 non-null   object \n",
      " 64  PavedDrive     1460 non-null   object \n",
      " 65  WoodDeckSF     1460 non-null   int64  \n",
      " 66  OpenPorchSF    1460 non-null   int64  \n",
      " 67  EnclosedPorch  1460 non-null   int64  \n",
      " 68  3SsnPorch      1460 non-null   int64  \n",
      " 69  ScreenPorch    1460 non-null   int64  \n",
      " 70  PoolArea       1460 non-null   int64  \n",
      " 71  PoolQC         7 non-null      object \n",
      " 72  Fence          281 non-null    object \n",
      " 73  MiscFeature    54 non-null     object \n",
      " 74  MiscVal        1460 non-null   int64  \n",
      " 75  MoSold         1460 non-null   int64  \n",
      " 76  YrSold         1460 non-null   int64  \n",
      " 77  SaleType       1460 non-null   object \n",
      " 78  SaleCondition  1460 non-null   object \n",
      " 79  SalePrice      1460 non-null   int64  \n",
      "dtypes: float64(3), int64(34), object(43)\n",
      "memory usage: 923.9+ KB\n"
     ]
    }
   ],
   "source": [
    "df.info()"
   ]
  },
  {
   "cell_type": "code",
   "execution_count": 4,
   "id": "93803656",
   "metadata": {
    "execution": {
     "iopub.execute_input": "2024-01-07T10:47:48.756311Z",
     "iopub.status.busy": "2024-01-07T10:47:48.755952Z",
     "iopub.status.idle": "2024-01-07T10:47:48.762729Z",
     "shell.execute_reply": "2024-01-07T10:47:48.761436Z"
    },
    "papermill": {
     "duration": 0.029515,
     "end_time": "2024-01-07T10:47:48.765002",
     "exception": false,
     "start_time": "2024-01-07T10:47:48.735487",
     "status": "completed"
    },
    "tags": []
   },
   "outputs": [],
   "source": [
    "x_df = df.drop(\"SalePrice\",axis=1)\n",
    "y_df = df[\"SalePrice\"]"
   ]
  },
  {
   "cell_type": "code",
   "execution_count": 5,
   "id": "c7a3fba2",
   "metadata": {
    "execution": {
     "iopub.execute_input": "2024-01-07T10:47:48.860590Z",
     "iopub.status.busy": "2024-01-07T10:47:48.859536Z",
     "iopub.status.idle": "2024-01-07T10:47:48.872565Z",
     "shell.execute_reply": "2024-01-07T10:47:48.871239Z"
    },
    "papermill": {
     "duration": 0.035513,
     "end_time": "2024-01-07T10:47:48.874956",
     "exception": false,
     "start_time": "2024-01-07T10:47:48.839443",
     "status": "completed"
    },
    "tags": []
   },
   "outputs": [
    {
     "data": {
      "text/plain": [
       "count      1460.000000\n",
       "mean     180921.195890\n",
       "std       79442.502883\n",
       "min       34900.000000\n",
       "25%      129975.000000\n",
       "50%      163000.000000\n",
       "75%      214000.000000\n",
       "max      755000.000000\n",
       "Name: SalePrice, dtype: float64"
      ]
     },
     "execution_count": 5,
     "metadata": {},
     "output_type": "execute_result"
    }
   ],
   "source": [
    "y_df.describe()"
   ]
  },
  {
   "cell_type": "code",
   "execution_count": 6,
   "id": "29f58b82",
   "metadata": {
    "execution": {
     "iopub.execute_input": "2024-01-07T10:47:48.915633Z",
     "iopub.status.busy": "2024-01-07T10:47:48.915308Z",
     "iopub.status.idle": "2024-01-07T10:47:48.926076Z",
     "shell.execute_reply": "2024-01-07T10:47:48.924696Z"
    },
    "papermill": {
     "duration": 0.033761,
     "end_time": "2024-01-07T10:47:48.927962",
     "exception": false,
     "start_time": "2024-01-07T10:47:48.894201",
     "status": "completed"
    },
    "tags": []
   },
   "outputs": [
    {
     "data": {
      "text/plain": [
       "LotFrontage      259\n",
       "Alley           1369\n",
       "MasVnrType       872\n",
       "MasVnrArea         8\n",
       "BsmtQual          37\n",
       "BsmtCond          37\n",
       "BsmtExposure      38\n",
       "BsmtFinType1      37\n",
       "BsmtFinType2      38\n",
       "Electrical         1\n",
       "FireplaceQu      690\n",
       "GarageType        81\n",
       "GarageYrBlt       81\n",
       "GarageFinish      81\n",
       "GarageQual        81\n",
       "GarageCond        81\n",
       "PoolQC          1453\n",
       "Fence           1179\n",
       "MiscFeature     1406\n",
       "dtype: int64"
      ]
     },
     "execution_count": 6,
     "metadata": {},
     "output_type": "execute_result"
    }
   ],
   "source": [
    "missing_xdf_values = x_df.isnull().sum()\n",
    "filter_miss_xdf = missing_xdf_values.loc[missing_xdf_values != 0]\n",
    "filter_miss_xdf"
   ]
  },
  {
   "cell_type": "code",
   "execution_count": 7,
   "id": "a7f54950",
   "metadata": {
    "execution": {
     "iopub.execute_input": "2024-01-07T10:47:48.970046Z",
     "iopub.status.busy": "2024-01-07T10:47:48.969448Z",
     "iopub.status.idle": "2024-01-07T10:47:51.307418Z",
     "shell.execute_reply": "2024-01-07T10:47:51.305865Z"
    },
    "papermill": {
     "duration": 2.36096,
     "end_time": "2024-01-07T10:47:51.310238",
     "exception": false,
     "start_time": "2024-01-07T10:47:48.949278",
     "status": "completed"
    },
    "tags": []
   },
   "outputs": [
    {
     "data": {
      "text/html": [
       "        <script type=\"text/javascript\">\n",
       "        window.PlotlyConfig = {MathJaxConfig: 'local'};\n",
       "        if (window.MathJax && window.MathJax.Hub && window.MathJax.Hub.Config) {window.MathJax.Hub.Config({SVG: {font: \"STIX-Web\"}});}\n",
       "        if (typeof require !== 'undefined') {\n",
       "        require.undef(\"plotly\");\n",
       "        requirejs.config({\n",
       "            paths: {\n",
       "                'plotly': ['https://cdn.plot.ly/plotly-2.24.1.min']\n",
       "            }\n",
       "        });\n",
       "        require(['plotly'], function(Plotly) {\n",
       "            window._Plotly = Plotly;\n",
       "        });\n",
       "        }\n",
       "        </script>\n",
       "        "
      ]
     },
     "metadata": {},
     "output_type": "display_data"
    },
    {
     "data": {
      "text/html": [
       "<div>                            <div id=\"11773f41-fea5-4a0f-bcfc-c27d37c482bd\" class=\"plotly-graph-div\" style=\"height:525px; width:100%;\"></div>            <script type=\"text/javascript\">                require([\"plotly\"], function(Plotly) {                    window.PLOTLYENV=window.PLOTLYENV || {};                                    if (document.getElementById(\"11773f41-fea5-4a0f-bcfc-c27d37c482bd\")) {                    Plotly.newPlot(                        \"11773f41-fea5-4a0f-bcfc-c27d37c482bd\",                        [{\"alignmentgroup\":\"True\",\"bingroup\":\"x\",\"hovertemplate\":\"SalePrice=%{x}\\u003cbr\\u003ecount=%{y}\\u003cextra\\u003e\\u003c\\u002fextra\\u003e\",\"legendgroup\":\"\",\"marker\":{\"color\":\"#636efa\",\"pattern\":{\"shape\":\"\"}},\"name\":\"\",\"offsetgroup\":\"\",\"orientation\":\"v\",\"showlegend\":false,\"x\":[208500,181500,223500,140000,250000,143000,307000,200000,129900,118000,129500,345000,144000,279500,157000,132000,149000,90000,159000,139000,325300,139400,230000,129900,154000,256300,134800,306000,207500,68500,40000,149350,179900,165500,277500,309000,145000,153000,109000,82000,160000,170000,144000,130250,141000,319900,239686,249700,113000,127000,177000,114500,110000,385000,130000,180500,172500,196500,438780,124900,158000,101000,202500,140000,219500,317000,180000,226000,80000,225000,244000,129500,185000,144900,107400,91000,135750,127000,136500,110000,193500,153500,245000,126500,168500,260000,174000,164500,85000,123600,109900,98600,163500,133900,204750,185000,214000,94750,83000,128950,205000,178000,118964,198900,169500,250000,100000,115000,115000,190000,136900,180000,383970,217000,259500,176000,139000,155000,320000,163990,180000,100000,136000,153900,181000,84500,128000,87000,155000,150000,226000,244000,150750,220000,180000,174000,143000,171000,230000,231500,115000,260000,166000,204000,125000,130000,105000,222500,141000,115000,122000,372402,190000,235000,125000,79000,109500,269500,254900,320000,162500,412500,220000,103200,152000,127500,190000,325624,183500,228000,128500,215000,239000,163000,184000,243000,211000,172500,501837,100000,177000,200100,120000,200000,127000,475000,173000,135000,153337,286000,315000,184000,192000,130000,127000,148500,311872,235000,104000,274900,140000,171500,112000,149000,110000,180500,143900,141000,277000,145000,98000,186000,252678,156000,161750,134450,210000,107000,311500,167240,204900,200000,179900,97000,386250,112000,290000,106000,125000,192500,148000,403000,94500,128200,216500,89500,185500,194500,318000,113000,262500,110500,79000,120000,205000,241500,137000,140000,180000,277000,76500,235000,173000,158000,145000,230000,207500,220000,231500,97000,176000,276000,151000,130000,73000,175500,185000,179500,120500,148000,266000,241500,290000,139000,124500,205000,201000,141000,415298,192000,228500,185000,207500,244600,179200,164700,159000,88000,122000,153575,233230,135900,131000,235000,167000,142500,152000,239000,175000,158500,157000,267000,205000,149900,295000,305900,225000,89500,82500,360000,165600,132000,119900,375000,178000,188500,260000,270000,260000,187500,342643,354000,301000,126175,242000,87000,324000,145250,214500,78000,119000,139000,284000,207000,192000,228950,377426,214000,202500,155000,202900,82000,87500,266000,85000,140200,151500,157500,154000,437154,318061,190000,95000,105900,140000,177500,173000,134000,130000,280000,156000,145000,198500,118000,190000,147000,159000,165000,132000,162000,172400,134432,125000,123000,219500,61000,148000,340000,394432,179000,127000,187750,213500,76000,240000,192000,81000,125000,191000,426000,119000,215000,106500,100000,109000,129000,123000,169500,67000,241000,245500,164990,108000,258000,168000,150000,115000,177000,280000,339750,60000,145000,222000,115000,228000,181134,149500,239000,126000,142000,206300,215000,113000,315000,139000,135000,275000,109008,195400,175000,85400,79900,122500,181000,81000,212000,116000,119000,90350,110000,555000,118000,162900,172500,210000,127500,190000,199900,119500,120000,110000,280000,204000,210000,188000,175500,98000,256000,161000,110000,263435,155000,62383,188700,124000,178740,167000,146500,250000,187000,212000,190000,148000,440000,251000,132500,208900,380000,297000,89471,326000,374000,155000,164000,132500,147000,156000,175000,160000,86000,115000,133000,172785,155000,91300,34900,430000,184000,130000,120000,113000,226700,140000,289000,147000,124500,215000,208300,161000,124500,164900,202665,129900,134000,96500,402861,158000,265000,211000,234000,106250,150000,159000,184750,315750,176000,132000,446261,86000,200624,175000,128000,107500,39300,178000,107500,188000,111250,158000,272000,315000,248000,213250,133000,179665,229000,210000,129500,125000,263000,140000,112500,255500,108000,284000,113000,141000,108000,175000,234000,121500,170000,108000,185000,268000,128000,325000,214000,316600,135960,142600,120000,224500,170000,139000,118500,145000,164500,146000,131500,181900,253293,118500,325000,133000,369900,130000,137000,143000,79500,185900,451950,138000,140000,110000,319000,114504,194201,217500,151000,275000,141000,220000,151000,221000,205000,152000,225000,359100,118500,313000,148000,261500,147000,75500,137500,183200,105500,314813,305000,67000,240000,135000,168500,165150,160000,139900,153000,135000,168500,124000,209500,82500,139400,144000,200000,60000,93000,85000,264561,274000,226000,345000,152000,370878,143250,98300,155000,155000,84500,205950,108000,191000,135000,350000,88000,145500,149000,97500,167000,197900,402000,110000,137500,423000,230500,129000,193500,168000,137500,173500,103600,165000,257500,140000,148500,87000,109500,372500,128500,143000,159434,173000,285000,221000,207500,227875,148800,392000,194700,141000,755000,335000,108480,141500,176000,89000,123500,138500,196000,312500,140000,361919,140000,213000,55000,302000,254000,179540,109900,52000,102776,189000,129000,130500,165000,159500,157000,341000,128500,275000,143000,124500,135000,320000,120500,222000,194500,110000,103000,236500,187500,222500,131400,108000,163000,93500,239900,179000,190000,132000,142000,179000,175000,180000,299800,236000,265979,260400,98000,96500,162000,217000,275500,156000,172500,212000,158900,179400,290000,127500,100000,215200,337000,270000,264132,196500,160000,216837,538000,134900,102000,107000,114500,395000,162000,221500,142500,144000,135000,176000,175900,187100,165500,128000,161500,139000,233000,107900,187500,160200,146800,269790,225000,194500,171000,143500,110000,485000,175000,200000,109900,189000,582933,118000,227680,135500,223500,159950,106000,181000,144500,55993,157900,116000,224900,137000,271000,155000,224000,183000,93000,225000,139500,232600,385000,109500,189000,185000,147400,166000,151000,237000,167000,139950,128000,153500,100000,144000,130500,140000,157500,174900,141000,153900,171000,213000,133500,240000,187000,131500,215000,164000,158000,170000,127000,147000,174000,152000,250000,189950,131500,152000,132500,250580,148500,248900,129000,169000,236000,109500,200500,116000,133000,66500,303477,132250,350000,148000,136500,157000,187500,178000,118500,100000,328900,145000,135500,268000,149500,122900,172500,154500,165000,118858,140000,106500,142953,611657,135000,110000,153000,180000,240000,125500,128000,255000,250000,131000,174000,154300,143500,88000,145000,173733,75000,35311,135000,238000,176500,201000,145900,169990,193000,207500,175000,285000,176000,236500,222000,201000,117500,320000,190000,242000,79900,184900,253000,239799,244400,150900,214000,150000,143000,137500,124900,143000,270000,192500,197500,129000,119900,133900,172000,127500,145000,124000,132000,185000,155000,116500,272000,155000,239000,214900,178900,160000,135000,37900,140000,135000,173000,99500,182000,167500,165000,85500,199900,110000,139000,178400,336000,159895,255900,126000,125000,117000,395192,195000,197000,348000,168000,187000,173900,337500,121600,136500,185000,91000,206000,82000,86000,232000,136905,181000,149900,163500,88000,240000,102000,135000,100000,165000,85000,119200,227000,203000,187500,160000,213490,176000,194000,87000,191000,287000,112500,167500,293077,105000,118000,160000,197000,310000,230000,119750,84000,315500,287000,97000,80000,155000,173000,196000,262280,278000,139600,556581,145000,115000,84900,176485,200141,165000,144500,255000,180000,185850,248000,335000,220000,213500,81000,90000,110500,154000,328000,178000,167900,151400,135000,135000,154000,91500,159500,194000,219500,170000,138800,155900,126000,145000,133000,192000,160000,187500,147000,83500,252000,137500,197000,92900,160000,136500,146000,129000,176432,127000,170000,128000,157000,60000,119500,135000,159500,106000,325000,179900,274725,181000,280000,188000,205000,129900,134500,117000,318000,184100,130000,140000,133700,118400,212900,112000,118000,163900,115000,174000,259000,215000,140000,135000,93500,117500,239500,169000,102000,119000,94000,196000,144000,139000,197500,424870,80000,80000,149000,180000,174500,116900,143000,124000,149900,230000,120500,201800,218000,179900,230000,235128,185000,146000,224000,129000,108959,194000,233170,245350,173000,235000,625000,171000,163000,171900,200500,239000,285000,119500,115000,154900,93000,250000,392500,745000,120000,186700,104900,95000,262000,195000,189000,168000,174000,125000,165000,158000,176000,219210,144000,178000,148000,116050,197900,117000,213000,153500,271900,107000,200000,140000,290000,189000,164000,113000,145000,134500,125000,112000,229456,80500,91500,115000,134000,143000,137900,184000,145000,214000,147000,367294,127000,190000,132500,101800,142000,130000,138887,175500,195000,142500,265900,224900,248328,170000,465000,230000,178000,186500,169900,129500,119000,244000,171750,130000,294000,165400,127500,301500,99900,190000,151000,181000,128900,161500,180500,181000,183900,122000,378500,381000,144000,260000,185750,137000,177000,139000,137000,162000,197900,237000,68400,227000,180000,150500,139000,169000,132500,143000,190000,278000,281000,180500,119500,107500,162900,115000,138500,155000,140000,160000,154000,225000,177500,290000,232000,130000,325000,202500,138000,147000,179200,335000,203000,302000,333168,119000,206900,295493,208900,275000,111000,156500,72500,190000,82500,147000,55000,79000,130500,256000,176500,227000,132500,100000,125500,125000,167900,135000,52500,200000,128500,123000,155000,228500,177000,155835,108500,262500,283463,215000,122000,200000,171000,134900,410000,235000,170000,110000,149900,177500,315000,189000,260000,104900,156932,144152,216000,193000,127000,144000,232000,105000,165500,274300,466500,250000,239000,91000,117000,83000,167500,58500,237500,157000,112000,105000,125500,250000,136000,377500,131000,235000,124000,123000,163000,246578,281213,160000,137500,138000,137450,120000,193000,193879,282922,105000,275000,133000,112000,125500,215000,230000,140000,90000,257000,207000,175900,122500,340000,124000,223000,179900,127500,136500,274970,144000,142000,271000,140000,119000,182900,192140,143750,64500,186500,160000,174000,120500,394617,149700,197000,191000,149300,310000,121000,179600,129000,157900,240000,112000,92000,136000,287090,145000,84500,185000,175000,210000,266500,142125,147500],\"xaxis\":\"x\",\"yaxis\":\"y\",\"type\":\"histogram\"}],                        {\"template\":{\"data\":{\"histogram2dcontour\":[{\"type\":\"histogram2dcontour\",\"colorbar\":{\"outlinewidth\":0,\"ticks\":\"\"},\"colorscale\":[[0.0,\"#0d0887\"],[0.1111111111111111,\"#46039f\"],[0.2222222222222222,\"#7201a8\"],[0.3333333333333333,\"#9c179e\"],[0.4444444444444444,\"#bd3786\"],[0.5555555555555556,\"#d8576b\"],[0.6666666666666666,\"#ed7953\"],[0.7777777777777778,\"#fb9f3a\"],[0.8888888888888888,\"#fdca26\"],[1.0,\"#f0f921\"]]}],\"choropleth\":[{\"type\":\"choropleth\",\"colorbar\":{\"outlinewidth\":0,\"ticks\":\"\"}}],\"histogram2d\":[{\"type\":\"histogram2d\",\"colorbar\":{\"outlinewidth\":0,\"ticks\":\"\"},\"colorscale\":[[0.0,\"#0d0887\"],[0.1111111111111111,\"#46039f\"],[0.2222222222222222,\"#7201a8\"],[0.3333333333333333,\"#9c179e\"],[0.4444444444444444,\"#bd3786\"],[0.5555555555555556,\"#d8576b\"],[0.6666666666666666,\"#ed7953\"],[0.7777777777777778,\"#fb9f3a\"],[0.8888888888888888,\"#fdca26\"],[1.0,\"#f0f921\"]]}],\"heatmap\":[{\"type\":\"heatmap\",\"colorbar\":{\"outlinewidth\":0,\"ticks\":\"\"},\"colorscale\":[[0.0,\"#0d0887\"],[0.1111111111111111,\"#46039f\"],[0.2222222222222222,\"#7201a8\"],[0.3333333333333333,\"#9c179e\"],[0.4444444444444444,\"#bd3786\"],[0.5555555555555556,\"#d8576b\"],[0.6666666666666666,\"#ed7953\"],[0.7777777777777778,\"#fb9f3a\"],[0.8888888888888888,\"#fdca26\"],[1.0,\"#f0f921\"]]}],\"heatmapgl\":[{\"type\":\"heatmapgl\",\"colorbar\":{\"outlinewidth\":0,\"ticks\":\"\"},\"colorscale\":[[0.0,\"#0d0887\"],[0.1111111111111111,\"#46039f\"],[0.2222222222222222,\"#7201a8\"],[0.3333333333333333,\"#9c179e\"],[0.4444444444444444,\"#bd3786\"],[0.5555555555555556,\"#d8576b\"],[0.6666666666666666,\"#ed7953\"],[0.7777777777777778,\"#fb9f3a\"],[0.8888888888888888,\"#fdca26\"],[1.0,\"#f0f921\"]]}],\"contourcarpet\":[{\"type\":\"contourcarpet\",\"colorbar\":{\"outlinewidth\":0,\"ticks\":\"\"}}],\"contour\":[{\"type\":\"contour\",\"colorbar\":{\"outlinewidth\":0,\"ticks\":\"\"},\"colorscale\":[[0.0,\"#0d0887\"],[0.1111111111111111,\"#46039f\"],[0.2222222222222222,\"#7201a8\"],[0.3333333333333333,\"#9c179e\"],[0.4444444444444444,\"#bd3786\"],[0.5555555555555556,\"#d8576b\"],[0.6666666666666666,\"#ed7953\"],[0.7777777777777778,\"#fb9f3a\"],[0.8888888888888888,\"#fdca26\"],[1.0,\"#f0f921\"]]}],\"surface\":[{\"type\":\"surface\",\"colorbar\":{\"outlinewidth\":0,\"ticks\":\"\"},\"colorscale\":[[0.0,\"#0d0887\"],[0.1111111111111111,\"#46039f\"],[0.2222222222222222,\"#7201a8\"],[0.3333333333333333,\"#9c179e\"],[0.4444444444444444,\"#bd3786\"],[0.5555555555555556,\"#d8576b\"],[0.6666666666666666,\"#ed7953\"],[0.7777777777777778,\"#fb9f3a\"],[0.8888888888888888,\"#fdca26\"],[1.0,\"#f0f921\"]]}],\"mesh3d\":[{\"type\":\"mesh3d\",\"colorbar\":{\"outlinewidth\":0,\"ticks\":\"\"}}],\"scatter\":[{\"fillpattern\":{\"fillmode\":\"overlay\",\"size\":10,\"solidity\":0.2},\"type\":\"scatter\"}],\"parcoords\":[{\"type\":\"parcoords\",\"line\":{\"colorbar\":{\"outlinewidth\":0,\"ticks\":\"\"}}}],\"scatterpolargl\":[{\"type\":\"scatterpolargl\",\"marker\":{\"colorbar\":{\"outlinewidth\":0,\"ticks\":\"\"}}}],\"bar\":[{\"error_x\":{\"color\":\"#2a3f5f\"},\"error_y\":{\"color\":\"#2a3f5f\"},\"marker\":{\"line\":{\"color\":\"#E5ECF6\",\"width\":0.5},\"pattern\":{\"fillmode\":\"overlay\",\"size\":10,\"solidity\":0.2}},\"type\":\"bar\"}],\"scattergeo\":[{\"type\":\"scattergeo\",\"marker\":{\"colorbar\":{\"outlinewidth\":0,\"ticks\":\"\"}}}],\"scatterpolar\":[{\"type\":\"scatterpolar\",\"marker\":{\"colorbar\":{\"outlinewidth\":0,\"ticks\":\"\"}}}],\"histogram\":[{\"marker\":{\"pattern\":{\"fillmode\":\"overlay\",\"size\":10,\"solidity\":0.2}},\"type\":\"histogram\"}],\"scattergl\":[{\"type\":\"scattergl\",\"marker\":{\"colorbar\":{\"outlinewidth\":0,\"ticks\":\"\"}}}],\"scatter3d\":[{\"type\":\"scatter3d\",\"line\":{\"colorbar\":{\"outlinewidth\":0,\"ticks\":\"\"}},\"marker\":{\"colorbar\":{\"outlinewidth\":0,\"ticks\":\"\"}}}],\"scattermapbox\":[{\"type\":\"scattermapbox\",\"marker\":{\"colorbar\":{\"outlinewidth\":0,\"ticks\":\"\"}}}],\"scatterternary\":[{\"type\":\"scatterternary\",\"marker\":{\"colorbar\":{\"outlinewidth\":0,\"ticks\":\"\"}}}],\"scattercarpet\":[{\"type\":\"scattercarpet\",\"marker\":{\"colorbar\":{\"outlinewidth\":0,\"ticks\":\"\"}}}],\"carpet\":[{\"aaxis\":{\"endlinecolor\":\"#2a3f5f\",\"gridcolor\":\"white\",\"linecolor\":\"white\",\"minorgridcolor\":\"white\",\"startlinecolor\":\"#2a3f5f\"},\"baxis\":{\"endlinecolor\":\"#2a3f5f\",\"gridcolor\":\"white\",\"linecolor\":\"white\",\"minorgridcolor\":\"white\",\"startlinecolor\":\"#2a3f5f\"},\"type\":\"carpet\"}],\"table\":[{\"cells\":{\"fill\":{\"color\":\"#EBF0F8\"},\"line\":{\"color\":\"white\"}},\"header\":{\"fill\":{\"color\":\"#C8D4E3\"},\"line\":{\"color\":\"white\"}},\"type\":\"table\"}],\"barpolar\":[{\"marker\":{\"line\":{\"color\":\"#E5ECF6\",\"width\":0.5},\"pattern\":{\"fillmode\":\"overlay\",\"size\":10,\"solidity\":0.2}},\"type\":\"barpolar\"}],\"pie\":[{\"automargin\":true,\"type\":\"pie\"}]},\"layout\":{\"autotypenumbers\":\"strict\",\"colorway\":[\"#636efa\",\"#EF553B\",\"#00cc96\",\"#ab63fa\",\"#FFA15A\",\"#19d3f3\",\"#FF6692\",\"#B6E880\",\"#FF97FF\",\"#FECB52\"],\"font\":{\"color\":\"#2a3f5f\"},\"hovermode\":\"closest\",\"hoverlabel\":{\"align\":\"left\"},\"paper_bgcolor\":\"white\",\"plot_bgcolor\":\"#E5ECF6\",\"polar\":{\"bgcolor\":\"#E5ECF6\",\"angularaxis\":{\"gridcolor\":\"white\",\"linecolor\":\"white\",\"ticks\":\"\"},\"radialaxis\":{\"gridcolor\":\"white\",\"linecolor\":\"white\",\"ticks\":\"\"}},\"ternary\":{\"bgcolor\":\"#E5ECF6\",\"aaxis\":{\"gridcolor\":\"white\",\"linecolor\":\"white\",\"ticks\":\"\"},\"baxis\":{\"gridcolor\":\"white\",\"linecolor\":\"white\",\"ticks\":\"\"},\"caxis\":{\"gridcolor\":\"white\",\"linecolor\":\"white\",\"ticks\":\"\"}},\"coloraxis\":{\"colorbar\":{\"outlinewidth\":0,\"ticks\":\"\"}},\"colorscale\":{\"sequential\":[[0.0,\"#0d0887\"],[0.1111111111111111,\"#46039f\"],[0.2222222222222222,\"#7201a8\"],[0.3333333333333333,\"#9c179e\"],[0.4444444444444444,\"#bd3786\"],[0.5555555555555556,\"#d8576b\"],[0.6666666666666666,\"#ed7953\"],[0.7777777777777778,\"#fb9f3a\"],[0.8888888888888888,\"#fdca26\"],[1.0,\"#f0f921\"]],\"sequentialminus\":[[0.0,\"#0d0887\"],[0.1111111111111111,\"#46039f\"],[0.2222222222222222,\"#7201a8\"],[0.3333333333333333,\"#9c179e\"],[0.4444444444444444,\"#bd3786\"],[0.5555555555555556,\"#d8576b\"],[0.6666666666666666,\"#ed7953\"],[0.7777777777777778,\"#fb9f3a\"],[0.8888888888888888,\"#fdca26\"],[1.0,\"#f0f921\"]],\"diverging\":[[0,\"#8e0152\"],[0.1,\"#c51b7d\"],[0.2,\"#de77ae\"],[0.3,\"#f1b6da\"],[0.4,\"#fde0ef\"],[0.5,\"#f7f7f7\"],[0.6,\"#e6f5d0\"],[0.7,\"#b8e186\"],[0.8,\"#7fbc41\"],[0.9,\"#4d9221\"],[1,\"#276419\"]]},\"xaxis\":{\"gridcolor\":\"white\",\"linecolor\":\"white\",\"ticks\":\"\",\"title\":{\"standoff\":15},\"zerolinecolor\":\"white\",\"automargin\":true,\"zerolinewidth\":2},\"yaxis\":{\"gridcolor\":\"white\",\"linecolor\":\"white\",\"ticks\":\"\",\"title\":{\"standoff\":15},\"zerolinecolor\":\"white\",\"automargin\":true,\"zerolinewidth\":2},\"scene\":{\"xaxis\":{\"backgroundcolor\":\"#E5ECF6\",\"gridcolor\":\"white\",\"linecolor\":\"white\",\"showbackground\":true,\"ticks\":\"\",\"zerolinecolor\":\"white\",\"gridwidth\":2},\"yaxis\":{\"backgroundcolor\":\"#E5ECF6\",\"gridcolor\":\"white\",\"linecolor\":\"white\",\"showbackground\":true,\"ticks\":\"\",\"zerolinecolor\":\"white\",\"gridwidth\":2},\"zaxis\":{\"backgroundcolor\":\"#E5ECF6\",\"gridcolor\":\"white\",\"linecolor\":\"white\",\"showbackground\":true,\"ticks\":\"\",\"zerolinecolor\":\"white\",\"gridwidth\":2}},\"shapedefaults\":{\"line\":{\"color\":\"#2a3f5f\"}},\"annotationdefaults\":{\"arrowcolor\":\"#2a3f5f\",\"arrowhead\":0,\"arrowwidth\":1},\"geo\":{\"bgcolor\":\"white\",\"landcolor\":\"#E5ECF6\",\"subunitcolor\":\"white\",\"showland\":true,\"showlakes\":true,\"lakecolor\":\"white\"},\"title\":{\"x\":0.05},\"mapbox\":{\"style\":\"light\"}}},\"xaxis\":{\"anchor\":\"y\",\"domain\":[0.0,1.0],\"title\":{\"text\":\"SalePrice\"}},\"yaxis\":{\"anchor\":\"x\",\"domain\":[0.0,1.0],\"title\":{\"text\":\"count\"}},\"legend\":{\"tracegroupgap\":0},\"margin\":{\"t\":60},\"barmode\":\"relative\"},                        {\"responsive\": true}                    ).then(function(){\n",
       "                            \n",
       "var gd = document.getElementById('11773f41-fea5-4a0f-bcfc-c27d37c482bd');\n",
       "var x = new MutationObserver(function (mutations, observer) {{\n",
       "        var display = window.getComputedStyle(gd).display;\n",
       "        if (!display || display === 'none') {{\n",
       "            console.log([gd, 'removed!']);\n",
       "            Plotly.purge(gd);\n",
       "            observer.disconnect();\n",
       "        }}\n",
       "}});\n",
       "\n",
       "// Listen for the removal of the full notebook cells\n",
       "var notebookContainer = gd.closest('#notebook-container');\n",
       "if (notebookContainer) {{\n",
       "    x.observe(notebookContainer, {childList: true});\n",
       "}}\n",
       "\n",
       "// Listen for the clearing of the current output cell\n",
       "var outputEl = gd.closest('.output');\n",
       "if (outputEl) {{\n",
       "    x.observe(outputEl, {childList: true});\n",
       "}}\n",
       "\n",
       "                        })                };                });            </script>        </div>"
      ]
     },
     "metadata": {},
     "output_type": "display_data"
    }
   ],
   "source": [
    "import plotly.express as px\n",
    "fig = px.histogram(y_df, x=\"SalePrice\")\n",
    "fig.show()"
   ]
  },
  {
   "cell_type": "markdown",
   "id": "6856e81d",
   "metadata": {
    "papermill": {
     "duration": 0.020076,
     "end_time": "2024-01-07T10:47:51.353933",
     "exception": false,
     "start_time": "2024-01-07T10:47:51.333857",
     "status": "completed"
    },
    "tags": []
   },
   "source": [
    "The histogram shows us that the data is skewed to the right with a mean of 180,921, median of 163,000, meaning the data is not quite normally distributed. This is an important observation to make as using a linear regression model may not yield accurate results since the outliers have a large impact on the line of best fit calculated during training. Thus we can use the log function to convert this skwewed data into a normally distributed one. In general if the data is right-skewed, log-transforming will result in a normal distribution, and a square root transfomration will result in a normal distribution for left-skewed data."
   ]
  },
  {
   "cell_type": "code",
   "execution_count": 8,
   "id": "c1ce04ff",
   "metadata": {
    "execution": {
     "iopub.execute_input": "2024-01-07T10:47:51.395656Z",
     "iopub.status.busy": "2024-01-07T10:47:51.395117Z",
     "iopub.status.idle": "2024-01-07T10:47:51.446865Z",
     "shell.execute_reply": "2024-01-07T10:47:51.445933Z"
    },
    "papermill": {
     "duration": 0.074059,
     "end_time": "2024-01-07T10:47:51.448730",
     "exception": false,
     "start_time": "2024-01-07T10:47:51.374671",
     "status": "completed"
    },
    "tags": []
   },
   "outputs": [
    {
     "data": {
      "text/html": [
       "<div>                            <div id=\"65925a02-47e9-47c4-b370-263e7bba4e86\" class=\"plotly-graph-div\" style=\"height:525px; width:100%;\"></div>            <script type=\"text/javascript\">                require([\"plotly\"], function(Plotly) {                    window.PLOTLYENV=window.PLOTLYENV || {};                                    if (document.getElementById(\"65925a02-47e9-47c4-b370-263e7bba4e86\")) {                    Plotly.newPlot(                        \"65925a02-47e9-47c4-b370-263e7bba4e86\",                        [{\"alignmentgroup\":\"True\",\"bingroup\":\"x\",\"hovertemplate\":\"SalePrice=%{x}\\u003cbr\\u003ecount=%{y}\\u003cextra\\u003e\\u003c\\u002fextra\\u003e\",\"legendgroup\":\"\",\"marker\":{\"color\":\"#636efa\",\"pattern\":{\"shape\":\"\"}},\"name\":\"\",\"offsetgroup\":\"\",\"orientation\":\"v\",\"showlegend\":false,\"x\":[12.247694320220994,12.109010932687042,12.31716669303576,11.84939770159144,12.429216196844383,11.870599909242044,12.634603026569334,12.206072645530174,11.77452020265869,11.678439903447801,11.771436160121729,12.751299696013497,11.877568578558138,12.540757571577291,11.964001084330445,11.790557201568507,11.911701584927597,11.407564949312402,11.976659481202368,11.842229212112828,12.692503112461443,11.845102777308561,12.345834587905333,11.77452020265869,11.944707881395766,12.454103912352162,11.811547477460344,12.631340380934517,12.24288661865289,11.134589024250317,10.596634733096073,11.914047823644255,12.100156419938624,12.016726473799254,12.533576212168626,12.641096555879882,11.884489021402711,11.938193200374572,11.59910316121128,11.314474526246391,11.982929094215963,12.043553716032399,11.877568578558138,11.777210959615614,11.856515169360305,12.675763725937609,12.387085012375499,12.428015476267865,11.635143097694478,11.751942365440728,12.083905011555967,11.648330101976432,11.608235644774552,12.86099861326992,11.77528972943772,12.103486056755072,12.058152515453552,12.188417710291453,12.991753427493052,11.73526869611367,11.970350312009105,11.522875795823397,12.218495165528731,11.84939770159144,12.299107511497363,12.666657052859417,12.100712129872347,12.328290278254423,11.289781913656018,12.323855681186558,12.404923504275338,11.771436160121729,12.128111104060462,11.883799128308773,11.584315461056901,11.418614785498987,11.818570237796182,11.751942365440728,11.824079893607152,11.608235644774552,12.173032791451973,11.941455846009388,12.409013489526863,11.747997587149712,12.034691028774553,12.468436909997665,12.066810578196666,12.010665849187564,11.350406535472453,11.724805824005728,11.607326140391713,11.498826540590727,12.004568269319446,11.804848531679264,12.229545001715316,12.128111104060462,12.273731294003989,11.458997122944673,11.326595886778735,11.76718001130949,12.230765258120545,12.089538829274222,11.686576205316552,12.200557464842063,12.040608205802641,12.429216196844383,11.512925464970229,11.652687407345388,11.652687407345388,12.154779351142624,11.82700601127654,12.100712129872347,12.858319703517948,12.287652632522597,12.46651198158808,12.078239274020289,11.842229212112828,11.951180395901384,12.676076274775909,12.007560729337492,12.100712129872347,11.512925464970229,11.820410164718188,11.94405831982697,12.106252310247962,11.344506813345266,11.759785542901755,11.37366339763672,11.951180395901384,11.918390573078392,12.328290278254423,12.404923504275338,11.923378114589433,12.301382825334498,12.100712129872347,12.066810578196666,11.870599909242044,12.049418835484797,12.345834587905333,12.352335152508426,11.652687407345388,12.468436909997665,12.01974306733868,12.225875272826354,11.736069016284437,11.77528972943772,11.56171562913966,12.312682380588432,11.856515169360305,11.652687407345388,11.711776323715394,12.827729194939907,12.154779351142624,12.367340793126296,11.736069016284437,11.27720313144916,11.603679828238693,12.504323669331189,12.448626590364206,12.676076274775909,11.998433280751929,12.929991484756872,12.301382825334498,11.544424132029599,11.931635799828413,11.755871643580617,12.154779351142624,12.693498620467778,12.119969946476761,12.337100907936577,11.763684183317412,12.2783933071098,12.384218830913648,12.0015054797889,12.122691036591123,12.400816722322686,12.259613412458204,12.058152515453552,13.1260306447518,11.512925464970229,12.083905011555967,12.206572520571825,11.695247021764184,12.206072645530174,11.751942365440728,13.071070083016778,12.061046873479915,11.813030057420567,11.940393392554734,12.56374708980199,12.66032791780777,12.122691036591123,12.165250651009918,11.77528972943772,11.751942365440728,11.908340237224891,12.650348126203179,12.367340793126296,11.55214617812351,12.524162674153336,11.84939770159144,12.052338545588132,11.626254150277232,11.911701584927597,11.608235644774552,12.103486056755072,11.876873892875459,11.856515169360305,12.531772785169476,11.884489021402711,11.49272275765271,12.133501952695338,12.439871229831715,11.957611286231675,11.993807212363148,11.80894766169701,12.254862809699606,11.580584113444043,12.649154617209645,12.0271851854705,12.230277334226992,12.206072645530174,12.100156419938624,11.48246625748552,12.864240107194092,11.626254150277232,12.577636201962656,11.571194373094205,11.736069016284437,12.167851432709975,11.904967552746252,12.90669184092882,11.456355113481834,11.761346823468706,12.285345826424681,11.401993904262946,12.130810161029627,12.178187442040638,12.669806661762314,11.635143097694478,12.478006361013815,11.612770799939945,11.27720313144916,11.695247021764184,12.230765258120545,12.394624752074764,11.827736204810263,11.84939770159144,12.100712129872347,12.531772785169476,11.245046019814627,12.367340793126296,12.061046873479915,11.970350312009105,11.884489021402711,12.345834587905333,12.24288661865289,12.301382825334498,12.352335152508426,11.48246625748552,12.078239274020289,12.528156144699286,11.925035115797062,11.77528972943772,11.198214720130528,12.075394321888057,12.128111104060462,12.097930486910471,11.699405031912846,11.904967552746252,12.491251587763836,12.394624752074764,12.577636201962656,11.842229212112828,11.732060994886899,12.230765258120545,12.211060187041213,11.856515169360305,12.936751613811438,12.165250651009918,12.339291489316397,12.128111104060462,12.24288661865289,12.407379502235209,12.096257779522967,12.011880916165731,11.976659481202368,11.385092093460344,11.711776323715394,11.941944326032129,12.359780370124389,11.819674600139235,11.782952602183288,12.367340793126296,12.025749091398891,11.867097278690842,11.931635799828413,12.384218830913648,12.072541252905651,11.973509872299472,11.964001084330445,12.495003937382387,12.230765258120545,11.917723684090689,12.594730635321957,12.631013530138995,12.323855681186558,11.401993904262946,11.320553572322773,12.793859310432293,12.017330520933296,11.790557201568507,11.694413341015606,12.834681304952548,12.089538829274222,12.146853285870202,12.468436909997665,12.506177237980511,12.468436909997665,12.141534124392603,12.7444443677961,12.777052192115912,12.614865543731012,11.745425111208464,12.396693005138824,11.37366339763672,12.688498794774466,11.886211674714158,12.27606501735021,11.26446410567173,11.686878772093667,11.842229212112828,12.556729517143344,12.240474072247506,12.165250651009918,12.341258918085241,12.841129801965447,12.273731294003989,12.218495165528731,11.951180395901384,12.220468525813907,11.314474526246391,11.379394072345706,12.491251587763836,11.350406535472453,11.850825253582627,11.928340903931561,11.967180737247824,11.944707881395766,12.988040814744458,12.669998467265833,12.154779351142624,11.461632170582678,11.570250531589497,11.84939770159144,12.086725887897607,12.061046873479915,11.805595078933049,11.77528972943772,12.542544882151386,11.957611286231675,11.884489021402711,12.198544379109382,11.678439903447801,12.154779351142624,11.898187865760873,11.976659481202368,12.013700752882718,11.790557201568507,11.99535161421452,12.05757263721173,11.808813773969108,11.736069016284437,11.719939634354555,12.299107511497363,11.018629143155449,11.904967552746252,12.736700896592344,12.885202034321916,12.095141084822892,11.751942365440728,12.142866569626381,12.271392111650817,11.238488619268468,12.388394202324129,12.165250651009918,11.302204433654575,11.736069016284437,12.160028707028767,12.962194625251508,11.686878772093667,12.2783933071098,11.575900264131617,11.512925464970229,11.59910316121128,11.76756768334381,11.719939634354555,12.040608205802641,11.112447898373103,12.392552212472792,12.411052226216713,12.01364014498549,11.589886506106357,12.460714863903755,12.031719258385396,11.918390573078392,11.652687407345388,12.083905011555967,12.542544882151386,12.73596533201339,11.002099841204238,11.884489021402711,12.310432660854417,11.652687407345388,12.337100907936577,12.106992367829498,11.915051671812877,12.384218830913648,11.744037185933616,11.863582336583399,12.237086699059343,12.2783933071098,11.635143097694478,12.66032791780777,11.842229212112828,11.813030057420567,12.524526376648708,11.59917655301345,12.182804018590819,12.072541252905651,11.355101379776661,11.288531131754366,11.715866308966918,12.106252310247962,11.302204433654575,12.26434155365415,11.661345470088502,11.686878772093667,11.411446296020374,11.608235644774552,13.226723392728571,11.678439903447801,12.000891794590137,12.058152515453552,12.254862809699606,11.755871643580617,12.154779351142624,12.205572520488492,11.691071650353702,11.695247021764184,11.608235644774552,12.542544882151386,12.225875272826354,12.254862809699606,12.144197241812087,12.075394321888057,11.49272275765271,12.4529327234617,11.9891596439666,11.608235644774552,12.481561937216318,11.951180395901384,11.041048081342682,12.147913731356642,11.728036844587175,12.093687514935382,12.025749091398891,11.894780707439258,12.429216196844383,12.138863895836725,12.26434155365415,12.154779351142624,11.904967552746252,12.994530005894443,12.43320821811392,11.794337924408413,12.249610947544657,12.84792653170257,12.601487417784837,11.401669829409995,12.694652660348845,12.832011076396668,11.951180395901384,12.007621706806335,11.794337924408413,11.898187865760873,11.957611286231675,12.072541252905651,11.982929094215963,11.362102575235644,11.652687407345388,11.79810440720389,12.059803326028716,11.951180395901384,11.421906066583059,10.460242108190519,12.971540487669746,12.122691036591123,11.77528972943772,11.695247021764184,11.635143097694478,12.33138283649562,11.84939770159144,12.57418196709457,11.898187865760873,11.732060994886899,12.2783933071098,12.246734627249063,11.9891596439666,11.732060994886899,12.01309450854769,12.219309648562168,11.77452020265869,11.805595078933049,11.477298287327077,12.906346868281233,11.970350312009105,12.487485104968359,12.259613412458204,12.363076394339839,11.573550086786664,11.918390573078392,11.976659481202368,12.126758838810447,12.662706040212738,12.078239274020289,11.790557201568507,13.008659261632127,11.362102575235644,12.209187788430318,12.072541252905651,11.759785542901755,11.585246126549855,10.578979797857352,12.089538829274222,11.585246126549855,12.144197241812087,11.619535200028487,11.970350312009105,12.513557345278134,12.66032791780777,12.421184025147118,12.270220465353926,11.79810440720389,12.09884928474215,12.341477282536376,12.254862809699606,11.771436160121729,11.736069016284437,12.479909311159902,11.84939770159144,11.630708500626612,12.450977688625896,11.589886506106357,12.556729517143344,11.635143097694478,11.856515169360305,11.589886506106357,12.072541252905651,12.363076394339839,11.70766954176274,12.043553716032399,11.589886506106357,12.128111104060462,12.498742259492994,11.759785542901755,12.691580461311874,12.273731294003989,12.66539442642905,11.820116003810051,11.867798786962332,11.695247021764184,12.321630986164447,12.043553716032399,11.842229212112828,11.682668239557323,11.884489021402711,12.010665849187564,11.891361900690473,11.786762130599957,12.111212364506214,12.442302200392747,11.682668239557323,12.691580461311874,11.79810440720389,12.820987977820545,11.77528972943772,11.827736204810263,11.870599909242044,11.283512300642423,12.132964173709535,13.021326833226556,11.835008964139341,11.84939770159144,11.608235644774552,12.672946381766982,11.648365035864053,12.17664898415669,12.289954129510877,11.925035115797062,12.524526376648708,11.856515169360305,12.301382825334498,11.925035115797062,12.30591798049989,12.230765258120545,11.931635799828413,12.323855681186558,12.791356180214175,11.682668239557323,12.65395846952229,11.904967552746252,12.474189562487116,11.898187865760873,11.231887935237117,11.831379196088763,12.118333731222167,11.566466231898259,12.659734090733718,12.628067055589549,11.112447898373103,12.388394202324129,11.813030057420567,12.034691028774553,12.014609430818936,11.982929094215963,11.848683160653573,11.938193200374572,11.813030057420567,12.034691028774553,11.728036844587175,12.25247901834433,11.320553572322773,11.845102777308561,11.877568578558138,12.206072645530174,11.002099841204238,11.440354772135393,11.350406535472453,12.485827127509431,12.520883385370206,12.328290278254423,12.751299696013497,11.931635799828413,12.823628446539173,11.872346634576987,11.495779306135258,11.951180395901384,11.951180395901384,11.344506813345266,12.235388699864227,11.589886506106357,12.160028707028767,11.813030057420567,12.765688433465597,11.385092093460344,11.887931365593685,11.911701584927597,11.487607656985938,12.025749091398891,12.195517131590657,12.904207367601158,11.608235644774552,11.831379196088763,12.955127458028414,12.348006141418841,11.76756768334381,12.173032791451973,12.031719258385396,11.831379196088763,12.063932878369052,11.54829260880752,12.013700752882718,12.458774999085929,11.84939770159144,11.908340237224891,11.37366339763672,11.603679828238693,12.827992316801751,11.763684183317412,11.870599909242044,11.979385322467598,12.061046873479915,12.560244459250788,12.30591798049989,12.24288661865289,12.336552511980964,11.910358401381128,12.8790171187726,12.17921519136029,11.856515169360305,13.534473028231162,12.721885810807203,11.594321103174222,11.86005499606543,12.078239274020289,11.396391648714276,11.72399643505017,11.83862560460953,12.185869938212655,12.652359748158593,11.84939770159144,12.799175708864519,11.84939770159144,12.269047444691562,10.915088464214607,12.618182296357007,12.445089546000673,12.09815330331068,11.607326140391713,10.858998997563564,11.540307141711446,12.14950229404178,11.76756768334381,11.779128505744886,12.013700752882718,11.979799201207037,11.964001084330445,12.739637756265655,11.763684183317412,12.524526376648708,11.870599909242044,11.732060994886899,11.813030057420567,12.676076274775909,11.699405031912846,12.310432660854417,12.178187442040638,11.608235644774552,11.542484267211773,12.373703486914124,12.141534124392603,12.312682380588432,11.786001385032646,11.589886506106357,12.0015054797889,11.44571671527678,12.387977448827787,12.095141084822892,12.154779351142624,11.790557201568507,11.863582336583399,12.095141084822892,12.072541252905651,12.100712129872347,12.610870864650634,12.371587084007746,12.491172637278908,12.46997418931655,11.49272275765271,11.477298287327077,11.99535161421452,12.287652632522597,12.526342907575106,11.957611286231675,12.058152515453552,12.26434155365415,11.976030352524807,12.097373228606832,12.577636201962656,11.755871643580617,11.512925464970229,12.279323107269766,12.727838209334498,12.506177237980511,12.484204257170104,12.188417710291453,11.982929094215963,12.28690119819279,13.195613839143922,11.812289042195847,11.532728092266408,11.580584113444043,11.648330101976432,12.886641043883259,11.99535161421452,12.308177868467327,11.867097278690842,11.877568578558138,11.813030057420567,12.078239274020289,12.077670930725649,12.139398512262181,12.016726473799254,11.759785542901755,11.992260421644849,11.842229212112828,12.358793732547838,11.588960151246226,12.141534124392603,11.984178313616395,11.896826395162552,12.50539915757667,12.323855681186558,12.178187442040638,12.049418835484797,11.874090314181814,11.608235644774552,13.091904169919621,12.072541252905651,12.206072645530174,11.607326140391713,12.14950229404178,13.275827535915461,11.678439903447801,12.33569641332368,11.816726919301892,12.31716669303576,11.982616545377663,11.571194373094205,12.106252310247962,11.881034786534624,10.932981961904135,11.969717200243734,11.661345470088502,12.323411137947407,11.827736204810263,12.509874099861838,11.951180395901384,12.319401330837177,12.117241431823558,11.440354772135393,12.323855681186558,11.845819880243557,12.3570755190667,12.86099861326992,11.603679828238693,12.14950229404178,12.128111104060462,11.900905258737373,12.01974306733868,11.925035115797062,12.375815420117268,12.025749091398891,11.8490404949436,11.759785542901755,11.941455846009388,11.512925464970229,11.877568578558138,11.779128505744886,11.84939770159144,11.967180737247824,12.071969661006694,11.856515169360305,11.94405831982697,12.049418835484797,12.269047444691562,11.801856756822442,12.388394202324129,12.138863895836725,11.786762130599957,12.2783933071098,12.007621706806335,11.970350312009105,12.043553716032399,11.751942365440728,11.898187865760873,12.066810578196666,11.931635799828413,12.429216196844383,12.154516158615772,11.786762130599957,11.931635799828413,11.794337924408413,12.431533509799543,11.908340237224891,12.424806488355683,11.76756768334381,12.037653993905211,12.371587084007746,11.603679828238693,12.20856952572876,11.661345470088502,11.79810440720389,11.104957226643945,12.623061104072981,11.792449349720545,12.765688433465597,11.904967552746252,11.824079893607152,11.964001084330445,12.141534124392603,12.089538829274222,11.682668239557323,11.512925464970229,12.703509032177148,11.884489021402711,11.816726919301892,12.498742259492994,11.915051671812877,11.719126295554126,12.058152515453552,11.947949375319936,12.013700752882718,11.685684782260491,11.84939770159144,11.575900264131617,11.870271183889114,13.323926946863102,11.813030057420567,11.608235644774552,11.938193200374572,12.100712129872347,12.388394202324129,11.740061037553975,11.759785542901755,12.449018824140563,12.429216196844383,11.782952602183288,12.066810578196666,11.946654038351252,11.874090314181814,11.385092093460344,11.884489021402711,12.065274916913605,11.225243392518447,10.47194980911048,11.813030057420567,12.380025952653611,12.081076155355488,12.211060187041213,11.890676734510876,12.043494890772815,12.170445467887022,12.24288661865289,12.072541252905651,12.560244459250788,12.078239274020289,12.373703486914124,12.310432660854417,12.211060187041213,11.67419361256635,12.676076274775909,12.154779351142624,12.396693005138824,11.288531131754366,12.127570417375216,12.441144767709657,12.38755635142507,12.406561506279576,11.924372644755941,12.273731294003989,11.918390573078392,11.870599909242044,11.831379196088763,11.73526869611367,11.870599909242044,12.506177237980511,12.167851432709975,12.193493863323313,11.76756768334381,11.694413341015606,11.804848531679264,12.05524975579559,11.755871643580617,11.884489021402711,11.728036844587175,11.790557201568507,12.128111104060462,11.951180395901384,11.665646551987892,12.513557345278134,11.951180395901384,12.384218830913648,12.277928082630602,12.09458226949681,11.982929094215963,11.813030057420567,10.542706391070517,11.84939770159144,11.813030057420567,12.061046873479915,11.507912923146684,12.111761966058932,12.028738630247258,12.013700752882718,11.356271654924852,12.205572520488492,11.608235644774552,11.842229212112828,12.091783499128047,12.724866438945341,11.982272628789678,12.45254202214788,11.744037185933616,11.736069016284437,11.669929213779893,12.88712700173598,12.180754837545884,12.190959007720126,12.759957758756611,12.031719258385396,12.138863895836725,12.066235700342375,12.729320789294722,11.708492248514204,11.824079893607152,12.128111104060462,11.418614785498987,12.235631447771718,11.314474526246391,11.362102575235644,12.354492650648448,11.827042533619087,12.106252310247962,11.917723684090689,12.004568269319446,11.385092093460344,12.388394202324129,11.532728092266408,11.813030057420567,11.512925464970229,12.013700752882718,11.350406535472453,11.688558033613386,12.332705296463539,12.220961258023925,12.141534124392603,11.982929094215963,12.27134527214637,12.078239274020289,12.175613438045465,11.37366339763672,12.160028707028767,12.567237494741757,11.630708500626612,12.028738630247258,12.588190652108505,11.56171562913966,11.678439903447801,11.982929094215963,12.190959007720126,12.644327576461329,12.345834587905333,11.693161515273161,11.33857207782545,12.661913960963405,12.567237494741757,11.48246625748552,11.289781913656018,11.951180395901384,12.061046873479915,12.185869938212655,12.477167914377556,12.535376392672774,11.84653646931041,13.229567991666638,11.884489021402711,11.652687407345388,11.349229372299439,12.080991165908294,12.206777397134413,12.013700752882718,11.881034786534624,12.449018824140563,12.100712129872347,12.132695175725399,12.421184025147118,12.721885810807203,12.301382825334498,12.271392111650817,11.302204433654575,11.407564949312402,11.612770799939945,11.944707881395766,12.70076888736628,12.089538829274222,12.031123843065632,11.927680619985486,11.813030057420567,11.813030057420567,11.944707881395766,11.424094251263613,11.979799201207037,12.175613438045465,12.299107511497363,12.043553716032399,11.840789327054841,11.956970055045868,11.744037185933616,11.884489021402711,11.79810440720389,12.165250651009918,11.982929094215963,12.141534124392603,11.898187865760873,11.332601910838946,12.437184366493561,11.831379196088763,12.190959007720126,11.439278924801929,11.982929094215963,11.824079893607152,11.891361900690473,11.76756768334381,12.08069081199846,11.751942365440728,12.043553716032399,11.759785542901755,11.964001084330445,11.002099841204238,11.691071650353702,11.813030057420567,11.979799201207037,11.571194373094205,12.691580461311874,12.100156419938624,12.523525876315125,12.106252310247962,12.542544882151386,12.144197241812087,12.230765258120545,11.77452020265869,11.809319478024031,11.669929213779893,12.669806661762314,12.123234367221169,11.77528972943772,11.84939770159144,11.803353763090035,11.681824001432043,12.26857785088157,11.626254150277232,11.678439903447801,12.00701176473192,11.652687407345388,12.066810578196666,12.464583340681674,12.2783933071098,11.84939770159144,11.813030057420567,11.44571671527678,11.67419361256635,12.386308695833106,12.037653993905211,11.532728092266408,11.686878772093667,11.451050061252142,12.185869938212655,11.877568578558138,11.842229212112828,12.193493863323313,12.959538518762063,11.289781913656018,11.289781913656018,11.911701584927597,12.100712129872347,12.069680020624618,11.66907414746016,11.870599909242044,11.728036844587175,11.917723684090689,12.345834587905333,11.699405031912846,12.215032386901646,12.292250341771226,12.100156419938624,12.345834587905333,12.367885325692589,12.128111104060462,11.891361900690473,12.319401330837177,11.76756768334381,11.598726943661342,12.175613438045465,12.359523080243038,12.41044104151805,12.061046873479915,12.367340793126296,13.345506928718539,12.049418835484797,12.0015054797889,12.05466819137094,12.20856952572876,12.384218830913648,12.560244459250788,11.691071650353702,11.652687407345388,11.95053502640496,11.440354772135393,12.429216196844383,12.8802918162046,13.521139497361697,11.695247021764184,12.137258329529814,11.560762794384388,11.461632170582678,12.476099782743233,12.180754837545884,12.14950229404178,12.031719258385396,12.066810578196666,11.736069016284437,12.013700752882718,11.970350312009105,12.078239274020289,12.297785453453374,11.877568578558138,12.089538829274222,11.904967552746252,11.661776411702583,12.195517131590657,11.669929213779893,12.269047444691562,11.941455846009388,12.513189630620563,11.580584113444043,12.206072645530174,11.84939770159144,12.577636201962656,12.14950229404178,12.007621706806335,11.635143097694478,11.884489021402711,11.809319478024031,11.736069016284437,11.626254150277232,12.343466568968994,11.296012463406655,11.424094251263613,11.652687407345388,11.805595078933049,11.870599909242044,11.834284063781393,12.122691036591123,11.884489021402711,12.273731294003989,11.898187865760873,12.813917896253697,11.751942365440728,12.154779351142624,11.794337924408413,11.53076538309856,11.863582336583399,11.77528972943772,11.841415931849784,12.075394321888057,12.180754837545884,11.867097278690842,12.490875577231112,12.323411137947407,12.422505731952896,12.043553716032399,13.049792684569493,12.345834587905333,12.089538829274222,12.136186518066006,12.042965307660024,11.771436160121729,11.686878772093667,12.404923504275338,12.053795210084596,11.77528972943772,12.591335046320818,12.016122061571728,11.755871643580617,12.616525295149378,11.511924964636645,12.154779351142624,11.925035115797062,12.106252310247962,11.766792188927278,11.992260421644849,12.103486056755072,12.106252310247962,12.122147410592412,11.711776323715394,12.84397135185964,12.850554654108839,11.877568578558138,12.468436909997665,12.132156962580005,11.827736204810263,12.083905011555967,11.842229212112828,11.827736204810263,11.99535161421452,12.195517131590657,12.375815420117268,11.133128103610641,12.332705296463539,12.100712129872347,11.921718363171067,11.842229212112828,12.037653993905211,11.794337924408413,11.870599909242044,12.154779351142624,12.535376392672774,12.546109948315882,12.103486056755072,11.691071650353702,11.585246126549855,12.000891794590137,11.652687407345388,11.83862560460953,11.951180395901384,11.84939770159144,11.982929094215963,11.944707881395766,12.323855681186558,12.086725887897607,12.577636201962656,12.354492650648448,11.77528972943772,12.691580461311874,12.218495165528731,11.835008964139341,11.898187865760873,12.096257779522967,12.721885810807203,12.220961258023925,12.618182296357007,12.716402146247475,11.686878772093667,12.239990863733635,12.596400426884427,12.249610947544657,12.524526376648708,11.617285480294472,11.960811288962345,11.191341840842766,12.154779351142624,11.320553572322773,11.898187865760873,10.915088464214607,11.27720313144916,11.779128505744886,12.4529327234617,12.081076155355488,12.332705296463539,11.794337924408413,11.512925464970229,11.740061037553975,11.736069016284437,12.031123843065632,11.813030057420567,10.868568448579715,12.206072645530174,11.763684183317412,11.719939634354555,11.951180395901384,12.339291489316397,12.083905011555967,11.956553034172742,11.594505451962652,12.478006361013815,12.554836882168736,12.2783933071098,11.711776323715394,12.206072645530174,12.049418835484797,11.812289042195847,12.92391243868049,12.367340793126296,12.043553716032399,11.608235644774552,11.917723684090689,12.086725887897607,12.66032791780777,12.14950229404178,12.468436909997665,11.560762794384388,11.963567869487337,11.87862357740665,12.283033686666302,12.170445467887022,11.751942365440728,11.877568578558138,12.354492650648448,11.56171562913966,12.016726473799254,12.521977676925694,13.053013299269535,12.429216196844383,12.384218830913648,11.418614785498987,11.669929213779893,11.326595886778735,12.028738630247258,10.976782033219948,12.377922902456833,11.964001084330445,11.626254150277232,11.56171562913966,11.740061037553975,12.429216196844383,11.820410164718188,12.841325847671216,11.782952602183288,12.367340793126296,11.728036844587175,11.719939634354555,12.0015054797889,12.415433652431746,12.54686766829102,11.982929094215963,11.831379196088763,11.835008964139341,11.83101549359339,11.695247021764184,12.170445467887022,12.174989532116426,12.552926520261092,11.56171562913966,12.524526376648708,11.79810440720389,11.626254150277232,11.740061037553975,12.2783933071098,12.345834587905333,11.84939770159144,11.407564949312402,12.456831363877356,12.240474072247506,12.077670930725649,11.715866308966918,12.736700896592344,11.728036844587175,12.314927050442256,12.100156419938624,11.755871643580617,11.824079893607152,12.524417279788771,11.877568578558138,11.863582336583399,12.509874099861838,11.84939770159144,11.686878772093667,12.116694834378958,12.16597955196373,11.875830958659597,11.074420502783864,12.136186518066006,11.982929094215963,12.066810578196666,11.699405031912846,12.885670953244288,11.91638857040772,12.190959007720126,12.160028707028767,11.913712983527281,12.644327576461329,11.703545824578878,12.098487434850236,11.76756768334381,11.969717200243734,12.388394202324129,11.626254150277232,11.429543856031177,11.820410164718188,12.567551034433226,11.884489021402711,11.344506813345266,12.128111104060462,12.072541252905651,12.254862809699606,12.493129522588037,11.864462231052837,11.901583454762012],\"xaxis\":\"x\",\"yaxis\":\"y\",\"type\":\"histogram\"}],                        {\"template\":{\"data\":{\"histogram2dcontour\":[{\"type\":\"histogram2dcontour\",\"colorbar\":{\"outlinewidth\":0,\"ticks\":\"\"},\"colorscale\":[[0.0,\"#0d0887\"],[0.1111111111111111,\"#46039f\"],[0.2222222222222222,\"#7201a8\"],[0.3333333333333333,\"#9c179e\"],[0.4444444444444444,\"#bd3786\"],[0.5555555555555556,\"#d8576b\"],[0.6666666666666666,\"#ed7953\"],[0.7777777777777778,\"#fb9f3a\"],[0.8888888888888888,\"#fdca26\"],[1.0,\"#f0f921\"]]}],\"choropleth\":[{\"type\":\"choropleth\",\"colorbar\":{\"outlinewidth\":0,\"ticks\":\"\"}}],\"histogram2d\":[{\"type\":\"histogram2d\",\"colorbar\":{\"outlinewidth\":0,\"ticks\":\"\"},\"colorscale\":[[0.0,\"#0d0887\"],[0.1111111111111111,\"#46039f\"],[0.2222222222222222,\"#7201a8\"],[0.3333333333333333,\"#9c179e\"],[0.4444444444444444,\"#bd3786\"],[0.5555555555555556,\"#d8576b\"],[0.6666666666666666,\"#ed7953\"],[0.7777777777777778,\"#fb9f3a\"],[0.8888888888888888,\"#fdca26\"],[1.0,\"#f0f921\"]]}],\"heatmap\":[{\"type\":\"heatmap\",\"colorbar\":{\"outlinewidth\":0,\"ticks\":\"\"},\"colorscale\":[[0.0,\"#0d0887\"],[0.1111111111111111,\"#46039f\"],[0.2222222222222222,\"#7201a8\"],[0.3333333333333333,\"#9c179e\"],[0.4444444444444444,\"#bd3786\"],[0.5555555555555556,\"#d8576b\"],[0.6666666666666666,\"#ed7953\"],[0.7777777777777778,\"#fb9f3a\"],[0.8888888888888888,\"#fdca26\"],[1.0,\"#f0f921\"]]}],\"heatmapgl\":[{\"type\":\"heatmapgl\",\"colorbar\":{\"outlinewidth\":0,\"ticks\":\"\"},\"colorscale\":[[0.0,\"#0d0887\"],[0.1111111111111111,\"#46039f\"],[0.2222222222222222,\"#7201a8\"],[0.3333333333333333,\"#9c179e\"],[0.4444444444444444,\"#bd3786\"],[0.5555555555555556,\"#d8576b\"],[0.6666666666666666,\"#ed7953\"],[0.7777777777777778,\"#fb9f3a\"],[0.8888888888888888,\"#fdca26\"],[1.0,\"#f0f921\"]]}],\"contourcarpet\":[{\"type\":\"contourcarpet\",\"colorbar\":{\"outlinewidth\":0,\"ticks\":\"\"}}],\"contour\":[{\"type\":\"contour\",\"colorbar\":{\"outlinewidth\":0,\"ticks\":\"\"},\"colorscale\":[[0.0,\"#0d0887\"],[0.1111111111111111,\"#46039f\"],[0.2222222222222222,\"#7201a8\"],[0.3333333333333333,\"#9c179e\"],[0.4444444444444444,\"#bd3786\"],[0.5555555555555556,\"#d8576b\"],[0.6666666666666666,\"#ed7953\"],[0.7777777777777778,\"#fb9f3a\"],[0.8888888888888888,\"#fdca26\"],[1.0,\"#f0f921\"]]}],\"surface\":[{\"type\":\"surface\",\"colorbar\":{\"outlinewidth\":0,\"ticks\":\"\"},\"colorscale\":[[0.0,\"#0d0887\"],[0.1111111111111111,\"#46039f\"],[0.2222222222222222,\"#7201a8\"],[0.3333333333333333,\"#9c179e\"],[0.4444444444444444,\"#bd3786\"],[0.5555555555555556,\"#d8576b\"],[0.6666666666666666,\"#ed7953\"],[0.7777777777777778,\"#fb9f3a\"],[0.8888888888888888,\"#fdca26\"],[1.0,\"#f0f921\"]]}],\"mesh3d\":[{\"type\":\"mesh3d\",\"colorbar\":{\"outlinewidth\":0,\"ticks\":\"\"}}],\"scatter\":[{\"fillpattern\":{\"fillmode\":\"overlay\",\"size\":10,\"solidity\":0.2},\"type\":\"scatter\"}],\"parcoords\":[{\"type\":\"parcoords\",\"line\":{\"colorbar\":{\"outlinewidth\":0,\"ticks\":\"\"}}}],\"scatterpolargl\":[{\"type\":\"scatterpolargl\",\"marker\":{\"colorbar\":{\"outlinewidth\":0,\"ticks\":\"\"}}}],\"bar\":[{\"error_x\":{\"color\":\"#2a3f5f\"},\"error_y\":{\"color\":\"#2a3f5f\"},\"marker\":{\"line\":{\"color\":\"#E5ECF6\",\"width\":0.5},\"pattern\":{\"fillmode\":\"overlay\",\"size\":10,\"solidity\":0.2}},\"type\":\"bar\"}],\"scattergeo\":[{\"type\":\"scattergeo\",\"marker\":{\"colorbar\":{\"outlinewidth\":0,\"ticks\":\"\"}}}],\"scatterpolar\":[{\"type\":\"scatterpolar\",\"marker\":{\"colorbar\":{\"outlinewidth\":0,\"ticks\":\"\"}}}],\"histogram\":[{\"marker\":{\"pattern\":{\"fillmode\":\"overlay\",\"size\":10,\"solidity\":0.2}},\"type\":\"histogram\"}],\"scattergl\":[{\"type\":\"scattergl\",\"marker\":{\"colorbar\":{\"outlinewidth\":0,\"ticks\":\"\"}}}],\"scatter3d\":[{\"type\":\"scatter3d\",\"line\":{\"colorbar\":{\"outlinewidth\":0,\"ticks\":\"\"}},\"marker\":{\"colorbar\":{\"outlinewidth\":0,\"ticks\":\"\"}}}],\"scattermapbox\":[{\"type\":\"scattermapbox\",\"marker\":{\"colorbar\":{\"outlinewidth\":0,\"ticks\":\"\"}}}],\"scatterternary\":[{\"type\":\"scatterternary\",\"marker\":{\"colorbar\":{\"outlinewidth\":0,\"ticks\":\"\"}}}],\"scattercarpet\":[{\"type\":\"scattercarpet\",\"marker\":{\"colorbar\":{\"outlinewidth\":0,\"ticks\":\"\"}}}],\"carpet\":[{\"aaxis\":{\"endlinecolor\":\"#2a3f5f\",\"gridcolor\":\"white\",\"linecolor\":\"white\",\"minorgridcolor\":\"white\",\"startlinecolor\":\"#2a3f5f\"},\"baxis\":{\"endlinecolor\":\"#2a3f5f\",\"gridcolor\":\"white\",\"linecolor\":\"white\",\"minorgridcolor\":\"white\",\"startlinecolor\":\"#2a3f5f\"},\"type\":\"carpet\"}],\"table\":[{\"cells\":{\"fill\":{\"color\":\"#EBF0F8\"},\"line\":{\"color\":\"white\"}},\"header\":{\"fill\":{\"color\":\"#C8D4E3\"},\"line\":{\"color\":\"white\"}},\"type\":\"table\"}],\"barpolar\":[{\"marker\":{\"line\":{\"color\":\"#E5ECF6\",\"width\":0.5},\"pattern\":{\"fillmode\":\"overlay\",\"size\":10,\"solidity\":0.2}},\"type\":\"barpolar\"}],\"pie\":[{\"automargin\":true,\"type\":\"pie\"}]},\"layout\":{\"autotypenumbers\":\"strict\",\"colorway\":[\"#636efa\",\"#EF553B\",\"#00cc96\",\"#ab63fa\",\"#FFA15A\",\"#19d3f3\",\"#FF6692\",\"#B6E880\",\"#FF97FF\",\"#FECB52\"],\"font\":{\"color\":\"#2a3f5f\"},\"hovermode\":\"closest\",\"hoverlabel\":{\"align\":\"left\"},\"paper_bgcolor\":\"white\",\"plot_bgcolor\":\"#E5ECF6\",\"polar\":{\"bgcolor\":\"#E5ECF6\",\"angularaxis\":{\"gridcolor\":\"white\",\"linecolor\":\"white\",\"ticks\":\"\"},\"radialaxis\":{\"gridcolor\":\"white\",\"linecolor\":\"white\",\"ticks\":\"\"}},\"ternary\":{\"bgcolor\":\"#E5ECF6\",\"aaxis\":{\"gridcolor\":\"white\",\"linecolor\":\"white\",\"ticks\":\"\"},\"baxis\":{\"gridcolor\":\"white\",\"linecolor\":\"white\",\"ticks\":\"\"},\"caxis\":{\"gridcolor\":\"white\",\"linecolor\":\"white\",\"ticks\":\"\"}},\"coloraxis\":{\"colorbar\":{\"outlinewidth\":0,\"ticks\":\"\"}},\"colorscale\":{\"sequential\":[[0.0,\"#0d0887\"],[0.1111111111111111,\"#46039f\"],[0.2222222222222222,\"#7201a8\"],[0.3333333333333333,\"#9c179e\"],[0.4444444444444444,\"#bd3786\"],[0.5555555555555556,\"#d8576b\"],[0.6666666666666666,\"#ed7953\"],[0.7777777777777778,\"#fb9f3a\"],[0.8888888888888888,\"#fdca26\"],[1.0,\"#f0f921\"]],\"sequentialminus\":[[0.0,\"#0d0887\"],[0.1111111111111111,\"#46039f\"],[0.2222222222222222,\"#7201a8\"],[0.3333333333333333,\"#9c179e\"],[0.4444444444444444,\"#bd3786\"],[0.5555555555555556,\"#d8576b\"],[0.6666666666666666,\"#ed7953\"],[0.7777777777777778,\"#fb9f3a\"],[0.8888888888888888,\"#fdca26\"],[1.0,\"#f0f921\"]],\"diverging\":[[0,\"#8e0152\"],[0.1,\"#c51b7d\"],[0.2,\"#de77ae\"],[0.3,\"#f1b6da\"],[0.4,\"#fde0ef\"],[0.5,\"#f7f7f7\"],[0.6,\"#e6f5d0\"],[0.7,\"#b8e186\"],[0.8,\"#7fbc41\"],[0.9,\"#4d9221\"],[1,\"#276419\"]]},\"xaxis\":{\"gridcolor\":\"white\",\"linecolor\":\"white\",\"ticks\":\"\",\"title\":{\"standoff\":15},\"zerolinecolor\":\"white\",\"automargin\":true,\"zerolinewidth\":2},\"yaxis\":{\"gridcolor\":\"white\",\"linecolor\":\"white\",\"ticks\":\"\",\"title\":{\"standoff\":15},\"zerolinecolor\":\"white\",\"automargin\":true,\"zerolinewidth\":2},\"scene\":{\"xaxis\":{\"backgroundcolor\":\"#E5ECF6\",\"gridcolor\":\"white\",\"linecolor\":\"white\",\"showbackground\":true,\"ticks\":\"\",\"zerolinecolor\":\"white\",\"gridwidth\":2},\"yaxis\":{\"backgroundcolor\":\"#E5ECF6\",\"gridcolor\":\"white\",\"linecolor\":\"white\",\"showbackground\":true,\"ticks\":\"\",\"zerolinecolor\":\"white\",\"gridwidth\":2},\"zaxis\":{\"backgroundcolor\":\"#E5ECF6\",\"gridcolor\":\"white\",\"linecolor\":\"white\",\"showbackground\":true,\"ticks\":\"\",\"zerolinecolor\":\"white\",\"gridwidth\":2}},\"shapedefaults\":{\"line\":{\"color\":\"#2a3f5f\"}},\"annotationdefaults\":{\"arrowcolor\":\"#2a3f5f\",\"arrowhead\":0,\"arrowwidth\":1},\"geo\":{\"bgcolor\":\"white\",\"landcolor\":\"#E5ECF6\",\"subunitcolor\":\"white\",\"showland\":true,\"showlakes\":true,\"lakecolor\":\"white\"},\"title\":{\"x\":0.05},\"mapbox\":{\"style\":\"light\"}}},\"xaxis\":{\"anchor\":\"y\",\"domain\":[0.0,1.0],\"title\":{\"text\":\"SalePrice\"}},\"yaxis\":{\"anchor\":\"x\",\"domain\":[0.0,1.0],\"title\":{\"text\":\"count\"}},\"legend\":{\"tracegroupgap\":0},\"margin\":{\"t\":60},\"barmode\":\"relative\"},                        {\"responsive\": true}                    ).then(function(){\n",
       "                            \n",
       "var gd = document.getElementById('65925a02-47e9-47c4-b370-263e7bba4e86');\n",
       "var x = new MutationObserver(function (mutations, observer) {{\n",
       "        var display = window.getComputedStyle(gd).display;\n",
       "        if (!display || display === 'none') {{\n",
       "            console.log([gd, 'removed!']);\n",
       "            Plotly.purge(gd);\n",
       "            observer.disconnect();\n",
       "        }}\n",
       "}});\n",
       "\n",
       "// Listen for the removal of the full notebook cells\n",
       "var notebookContainer = gd.closest('#notebook-container');\n",
       "if (notebookContainer) {{\n",
       "    x.observe(notebookContainer, {childList: true});\n",
       "}}\n",
       "\n",
       "// Listen for the clearing of the current output cell\n",
       "var outputEl = gd.closest('.output');\n",
       "if (outputEl) {{\n",
       "    x.observe(outputEl, {childList: true});\n",
       "}}\n",
       "\n",
       "                        })                };                });            </script>        </div>"
      ]
     },
     "metadata": {},
     "output_type": "display_data"
    }
   ],
   "source": [
    "import numpy as np\n",
    "y_df = np.log(y_df)\n",
    "fig = px.histogram(y_df, x=\"SalePrice\")\n",
    "fig.show()"
   ]
  },
  {
   "cell_type": "markdown",
   "id": "09d68c27",
   "metadata": {
    "papermill": {
     "duration": 0.018812,
     "end_time": "2024-01-07T10:47:51.487170",
     "exception": false,
     "start_time": "2024-01-07T10:47:51.468358",
     "status": "completed"
    },
    "tags": []
   },
   "source": [
    "Now we have a nice normal distribution for the SalePrice. This should help improve our accuracy when using a linear regression model."
   ]
  },
  {
   "cell_type": "markdown",
   "id": "4b388c73",
   "metadata": {
    "papermill": {
     "duration": 0.018919,
     "end_time": "2024-01-07T10:47:51.525461",
     "exception": false,
     "start_time": "2024-01-07T10:47:51.506542",
     "status": "completed"
    },
    "tags": []
   },
   "source": [
    "Missing Values in %"
   ]
  },
  {
   "cell_type": "code",
   "execution_count": 9,
   "id": "ec1f0c0c",
   "metadata": {
    "execution": {
     "iopub.execute_input": "2024-01-07T10:47:51.566361Z",
     "iopub.status.busy": "2024-01-07T10:47:51.565266Z",
     "iopub.status.idle": "2024-01-07T10:47:51.573022Z",
     "shell.execute_reply": "2024-01-07T10:47:51.571462Z"
    },
    "papermill": {
     "duration": 0.03016,
     "end_time": "2024-01-07T10:47:51.574974",
     "exception": false,
     "start_time": "2024-01-07T10:47:51.544814",
     "status": "completed"
    },
    "tags": []
   },
   "outputs": [
    {
     "name": "stdout",
     "output_type": "stream",
     "text": [
      "LotFrontage     17.739726\n",
      "Alley           93.767123\n",
      "MasVnrType      59.726027\n",
      "MasVnrArea       0.547945\n",
      "BsmtQual         2.534247\n",
      "BsmtCond         2.534247\n",
      "BsmtExposure     2.602740\n",
      "BsmtFinType1     2.534247\n",
      "BsmtFinType2     2.602740\n",
      "Electrical       0.068493\n",
      "FireplaceQu     47.260274\n",
      "GarageType       5.547945\n",
      "GarageYrBlt      5.547945\n",
      "GarageFinish     5.547945\n",
      "GarageQual       5.547945\n",
      "GarageCond       5.547945\n",
      "PoolQC          99.520548\n",
      "Fence           80.753425\n",
      "MiscFeature     96.301370\n",
      "dtype: float64\n"
     ]
    }
   ],
   "source": [
    "print(filter_miss_xdf*100/1460)"
   ]
  },
  {
   "cell_type": "code",
   "execution_count": 10,
   "id": "148dc901",
   "metadata": {
    "execution": {
     "iopub.execute_input": "2024-01-07T10:47:51.615606Z",
     "iopub.status.busy": "2024-01-07T10:47:51.615268Z",
     "iopub.status.idle": "2024-01-07T10:47:51.621251Z",
     "shell.execute_reply": "2024-01-07T10:47:51.620070Z"
    },
    "papermill": {
     "duration": 0.028644,
     "end_time": "2024-01-07T10:47:51.623109",
     "exception": false,
     "start_time": "2024-01-07T10:47:51.594465",
     "status": "completed"
    },
    "tags": []
   },
   "outputs": [
    {
     "name": "stdout",
     "output_type": "stream",
     "text": [
      "['LotFrontage', 'Alley', 'MasVnrType', 'FireplaceQu', 'PoolQC', 'Fence', 'MiscFeature']\n"
     ]
    }
   ],
   "source": [
    "waste_xdf_ = filter_miss_xdf.loc[filter_miss_xdf*100/1460 > 10]\n",
    "waste_xdf = waste_xdf_.index.tolist()\n",
    "print(waste_xdf)"
   ]
  },
  {
   "cell_type": "code",
   "execution_count": 11,
   "id": "a2d8c33f",
   "metadata": {
    "execution": {
     "iopub.execute_input": "2024-01-07T10:47:51.665520Z",
     "iopub.status.busy": "2024-01-07T10:47:51.665164Z",
     "iopub.status.idle": "2024-01-07T10:47:51.670270Z",
     "shell.execute_reply": "2024-01-07T10:47:51.669462Z"
    },
    "papermill": {
     "duration": 0.028389,
     "end_time": "2024-01-07T10:47:51.672379",
     "exception": false,
     "start_time": "2024-01-07T10:47:51.643990",
     "status": "completed"
    },
    "tags": []
   },
   "outputs": [
    {
     "name": "stdout",
     "output_type": "stream",
     "text": [
      "0\n"
     ]
    }
   ],
   "source": [
    "missing_ydf_values = y_df.isnull().sum()\n",
    "print(missing_ydf_values)"
   ]
  },
  {
   "cell_type": "markdown",
   "id": "a0f9c26b",
   "metadata": {
    "papermill": {
     "duration": 0.019157,
     "end_time": "2024-01-07T10:47:51.711591",
     "exception": false,
     "start_time": "2024-01-07T10:47:51.692434",
     "status": "completed"
    },
    "tags": []
   },
   "source": [
    "# **Data Preprocessing**"
   ]
  },
  {
   "cell_type": "code",
   "execution_count": 12,
   "id": "c3c32a80",
   "metadata": {
    "execution": {
     "iopub.execute_input": "2024-01-07T10:47:51.752035Z",
     "iopub.status.busy": "2024-01-07T10:47:51.751708Z",
     "iopub.status.idle": "2024-01-07T10:47:51.757355Z",
     "shell.execute_reply": "2024-01-07T10:47:51.756574Z"
    },
    "papermill": {
     "duration": 0.027811,
     "end_time": "2024-01-07T10:47:51.759038",
     "exception": false,
     "start_time": "2024-01-07T10:47:51.731227",
     "status": "completed"
    },
    "tags": []
   },
   "outputs": [],
   "source": [
    "x = x_df.drop(waste_xdf,axis=1)\n",
    "y = y_df"
   ]
  },
  {
   "cell_type": "code",
   "execution_count": 13,
   "id": "3d699b86",
   "metadata": {
    "execution": {
     "iopub.execute_input": "2024-01-07T10:47:51.799917Z",
     "iopub.status.busy": "2024-01-07T10:47:51.799450Z",
     "iopub.status.idle": "2024-01-07T10:47:53.044508Z",
     "shell.execute_reply": "2024-01-07T10:47:53.043558Z"
    },
    "papermill": {
     "duration": 1.268112,
     "end_time": "2024-01-07T10:47:53.046729",
     "exception": false,
     "start_time": "2024-01-07T10:47:51.778617",
     "status": "completed"
    },
    "tags": []
   },
   "outputs": [],
   "source": [
    "from sklearn.model_selection import train_test_split\n",
    "x_train,x_test,y_train,y_test = train_test_split(x,y,test_size=0.2,random_state=0)"
   ]
  },
  {
   "cell_type": "code",
   "execution_count": 14,
   "id": "3517cbb7",
   "metadata": {
    "execution": {
     "iopub.execute_input": "2024-01-07T10:47:53.088126Z",
     "iopub.status.busy": "2024-01-07T10:47:53.087808Z",
     "iopub.status.idle": "2024-01-07T10:47:53.095044Z",
     "shell.execute_reply": "2024-01-07T10:47:53.094119Z"
    },
    "papermill": {
     "duration": 0.029671,
     "end_time": "2024-01-07T10:47:53.096738",
     "exception": false,
     "start_time": "2024-01-07T10:47:53.067067",
     "status": "completed"
    },
    "tags": []
   },
   "outputs": [
    {
     "name": "stdout",
     "output_type": "stream",
     "text": [
      "['MSZoning', 'Street', 'LotShape', 'LandContour', 'Utilities', 'LotConfig', 'LandSlope', 'Neighborhood', 'Condition1', 'Condition2', 'BldgType', 'HouseStyle', 'RoofStyle', 'RoofMatl', 'Exterior1st', 'Exterior2nd', 'ExterQual', 'ExterCond', 'Foundation', 'BsmtQual', 'BsmtCond', 'BsmtExposure', 'BsmtFinType1', 'BsmtFinType2', 'Heating', 'HeatingQC', 'CentralAir', 'Electrical', 'KitchenQual', 'Functional', 'GarageType', 'GarageFinish', 'GarageQual', 'GarageCond', 'PavedDrive', 'SaleType', 'SaleCondition']\n",
      "['MSSubClass', 'LotArea', 'OverallQual', 'OverallCond', 'YearBuilt', 'YearRemodAdd', 'MasVnrArea', 'BsmtFinSF1', 'BsmtFinSF2', 'BsmtUnfSF', 'TotalBsmtSF', '1stFlrSF', '2ndFlrSF', 'LowQualFinSF', 'GrLivArea', 'BsmtFullBath', 'BsmtHalfBath', 'FullBath', 'HalfBath', 'BedroomAbvGr', 'KitchenAbvGr', 'TotRmsAbvGrd', 'Fireplaces', 'GarageYrBlt', 'GarageCars', 'GarageArea', 'WoodDeckSF', 'OpenPorchSF', 'EnclosedPorch', '3SsnPorch', 'ScreenPorch', 'PoolArea', 'MiscVal', 'MoSold', 'YrSold']\n",
      "72\n"
     ]
    }
   ],
   "source": [
    "string_columns = x_train.select_dtypes(include=['object']).columns.tolist()\n",
    "numeric_columns = x_train.select_dtypes(include=['int','float']).columns.tolist()\n",
    "print(string_columns)\n",
    "print(numeric_columns)\n",
    "print(len(string_columns)+len(numeric_columns))"
   ]
  },
  {
   "cell_type": "code",
   "execution_count": 15,
   "id": "22ac1ce8",
   "metadata": {
    "execution": {
     "iopub.execute_input": "2024-01-07T10:47:53.138114Z",
     "iopub.status.busy": "2024-01-07T10:47:53.137555Z",
     "iopub.status.idle": "2024-01-07T10:47:53.143819Z",
     "shell.execute_reply": "2024-01-07T10:47:53.142658Z"
    },
    "papermill": {
     "duration": 0.029111,
     "end_time": "2024-01-07T10:47:53.145600",
     "exception": false,
     "start_time": "2024-01-07T10:47:53.116489",
     "status": "completed"
    },
    "tags": []
   },
   "outputs": [
    {
     "name": "stdout",
     "output_type": "stream",
     "text": [
      "['MSZoning', 'Street', 'LotConfig', 'Neighborhood', 'Condition1', 'Condition2', 'BldgType', 'RoofStyle', 'RoofMatl', 'Exterior1st', 'Exterior2nd', 'Foundation', 'Heating', 'CentralAir', 'GarageType', 'PavedDrive', 'SaleType', 'SaleCondition']\n"
     ]
    }
   ],
   "source": [
    "ordinal = ['LotShape', 'LandContour', 'Utilities', 'LandSlope','HouseStyle', 'ExterQual', 'ExterCond', 'BsmtQual', 'BsmtCond', 'BsmtExposure', 'BsmtFinType1', 'BsmtFinType2', 'HeatingQC', 'Electrical', 'KitchenQual', 'Functional', 'GarageFinish', 'GarageQual', 'GarageCond']\n",
    "nominal = [column for column in string_columns if column not in ordinal]\n",
    "print(nominal)"
   ]
  },
  {
   "cell_type": "code",
   "execution_count": 16,
   "id": "e6966222",
   "metadata": {
    "execution": {
     "iopub.execute_input": "2024-01-07T10:47:53.187624Z",
     "iopub.status.busy": "2024-01-07T10:47:53.187262Z",
     "iopub.status.idle": "2024-01-07T10:47:53.193424Z",
     "shell.execute_reply": "2024-01-07T10:47:53.192155Z"
    },
    "papermill": {
     "duration": 0.029494,
     "end_time": "2024-01-07T10:47:53.195154",
     "exception": false,
     "start_time": "2024-01-07T10:47:53.165660",
     "status": "completed"
    },
    "tags": []
   },
   "outputs": [
    {
     "name": "stdout",
     "output_type": "stream",
     "text": [
      "True\n",
      "True\n"
     ]
    }
   ],
   "source": [
    "print((len(nominal)+len(ordinal))==len(string_columns))\n",
    "print((len(string_columns)+len(numeric_columns))==72)"
   ]
  },
  {
   "cell_type": "code",
   "execution_count": 17,
   "id": "a17a6d83",
   "metadata": {
    "execution": {
     "iopub.execute_input": "2024-01-07T10:47:53.236649Z",
     "iopub.status.busy": "2024-01-07T10:47:53.236303Z",
     "iopub.status.idle": "2024-01-07T10:47:53.469614Z",
     "shell.execute_reply": "2024-01-07T10:47:53.468436Z"
    },
    "papermill": {
     "duration": 0.257025,
     "end_time": "2024-01-07T10:47:53.472139",
     "exception": false,
     "start_time": "2024-01-07T10:47:53.215114",
     "status": "completed"
    },
    "tags": []
   },
   "outputs": [],
   "source": [
    "from sklearn.compose import make_column_transformer\n",
    "from sklearn.preprocessing import StandardScaler, OneHotEncoder, OrdinalEncoder\n",
    "from sklearn.pipeline import Pipeline,make_pipeline\n",
    "from sklearn.impute import SimpleImputer\n",
    "\n",
    "# Define which transformers to apply to which columns\n",
    "numeric_transformer = Pipeline(steps=[\n",
    "    ('numeric_imputer', SimpleImputer(strategy='mean')),\n",
    "    ('scaler',StandardScaler())\n",
    "])\n",
    "\n",
    "string_ordinal_transformer = Pipeline(steps=[\n",
    "    ('ordinal_imputer', SimpleImputer(strategy='most_frequent')),\n",
    "    ('ordinal', OrdinalEncoder(handle_unknown='use_encoded_value', unknown_value=np.nan))\n",
    "])\n",
    "\n",
    "string_nominal_transformer = Pipeline(steps=[\n",
    "    ('nominal_imputer', SimpleImputer(strategy='most_frequent')),\n",
    "    ('onehot', OneHotEncoder(handle_unknown='ignore'))\n",
    "])"
   ]
  },
  {
   "cell_type": "code",
   "execution_count": 18,
   "id": "6985474d",
   "metadata": {
    "execution": {
     "iopub.execute_input": "2024-01-07T10:47:53.513967Z",
     "iopub.status.busy": "2024-01-07T10:47:53.513617Z",
     "iopub.status.idle": "2024-01-07T10:47:53.518895Z",
     "shell.execute_reply": "2024-01-07T10:47:53.517762Z"
    },
    "papermill": {
     "duration": 0.029057,
     "end_time": "2024-01-07T10:47:53.521459",
     "exception": false,
     "start_time": "2024-01-07T10:47:53.492402",
     "status": "completed"
    },
    "tags": []
   },
   "outputs": [],
   "source": [
    "# Create column transformer\n",
    "preprocessor = make_column_transformer(\n",
    "    (numeric_transformer, numeric_columns),\n",
    "    (string_ordinal_transformer, ordinal),\n",
    "    (string_nominal_transformer, nominal)\n",
    ")"
   ]
  },
  {
   "cell_type": "code",
   "execution_count": 19,
   "id": "4da04d48",
   "metadata": {
    "execution": {
     "iopub.execute_input": "2024-01-07T10:47:53.564554Z",
     "iopub.status.busy": "2024-01-07T10:47:53.564207Z",
     "iopub.status.idle": "2024-01-07T10:47:53.609567Z",
     "shell.execute_reply": "2024-01-07T10:47:53.608256Z"
    },
    "papermill": {
     "duration": 0.069463,
     "end_time": "2024-01-07T10:47:53.611812",
     "exception": false,
     "start_time": "2024-01-07T10:47:53.542349",
     "status": "completed"
    },
    "tags": []
   },
   "outputs": [],
   "source": [
    "# Create the full pipeline\n",
    "pipeline = make_pipeline(preprocessor)\n",
    "# Apply the pipeline to the DataFrame\n",
    "x_train_transformed = pipeline.fit_transform(x_train)"
   ]
  },
  {
   "cell_type": "code",
   "execution_count": 20,
   "id": "0048648c",
   "metadata": {
    "execution": {
     "iopub.execute_input": "2024-01-07T10:47:53.655914Z",
     "iopub.status.busy": "2024-01-07T10:47:53.655602Z",
     "iopub.status.idle": "2024-01-07T10:47:53.660780Z",
     "shell.execute_reply": "2024-01-07T10:47:53.659819Z"
    },
    "papermill": {
     "duration": 0.029383,
     "end_time": "2024-01-07T10:47:53.662725",
     "exception": false,
     "start_time": "2024-01-07T10:47:53.633342",
     "status": "completed"
    },
    "tags": []
   },
   "outputs": [],
   "source": [
    "nominal_index = preprocessor.transformers_[2][0]  # Adjust the index based on the position of the nominal transformer\n",
    "nominal_transformer = preprocessor.named_transformers_[nominal_index].named_steps['onehot']\n",
    "columns = (numeric_columns +ordinal +\n",
    "    list(nominal_transformer.get_feature_names_out(nominal))\n",
    ")"
   ]
  },
  {
   "cell_type": "code",
   "execution_count": 21,
   "id": "6cfdfcd5",
   "metadata": {
    "execution": {
     "iopub.execute_input": "2024-01-07T10:47:53.703837Z",
     "iopub.status.busy": "2024-01-07T10:47:53.703485Z",
     "iopub.status.idle": "2024-01-07T10:47:53.726272Z",
     "shell.execute_reply": "2024-01-07T10:47:53.725213Z"
    },
    "papermill": {
     "duration": 0.045357,
     "end_time": "2024-01-07T10:47:53.728108",
     "exception": false,
     "start_time": "2024-01-07T10:47:53.682751",
     "status": "completed"
    },
    "tags": []
   },
   "outputs": [
    {
     "data": {
      "text/html": [
       "<div>\n",
       "<style scoped>\n",
       "    .dataframe tbody tr th:only-of-type {\n",
       "        vertical-align: middle;\n",
       "    }\n",
       "\n",
       "    .dataframe tbody tr th {\n",
       "        vertical-align: top;\n",
       "    }\n",
       "\n",
       "    .dataframe thead th {\n",
       "        text-align: right;\n",
       "    }\n",
       "</style>\n",
       "<table border=\"1\" class=\"dataframe\">\n",
       "  <thead>\n",
       "    <tr style=\"text-align: right;\">\n",
       "      <th></th>\n",
       "      <th>MSSubClass</th>\n",
       "      <th>LotArea</th>\n",
       "      <th>OverallQual</th>\n",
       "      <th>OverallCond</th>\n",
       "      <th>YearBuilt</th>\n",
       "      <th>YearRemodAdd</th>\n",
       "      <th>MasVnrArea</th>\n",
       "      <th>BsmtFinSF1</th>\n",
       "      <th>BsmtFinSF2</th>\n",
       "      <th>BsmtUnfSF</th>\n",
       "      <th>...</th>\n",
       "      <th>SaleType_ConLw</th>\n",
       "      <th>SaleType_New</th>\n",
       "      <th>SaleType_Oth</th>\n",
       "      <th>SaleType_WD</th>\n",
       "      <th>SaleCondition_Abnorml</th>\n",
       "      <th>SaleCondition_AdjLand</th>\n",
       "      <th>SaleCondition_Alloca</th>\n",
       "      <th>SaleCondition_Family</th>\n",
       "      <th>SaleCondition_Normal</th>\n",
       "      <th>SaleCondition_Partial</th>\n",
       "    </tr>\n",
       "  </thead>\n",
       "  <tbody>\n",
       "    <tr>\n",
       "      <th>0</th>\n",
       "      <td>-0.868365</td>\n",
       "      <td>0.103212</td>\n",
       "      <td>2.131506</td>\n",
       "      <td>-0.513041</td>\n",
       "      <td>1.188032</td>\n",
       "      <td>1.078914</td>\n",
       "      <td>1.913593</td>\n",
       "      <td>-0.901062</td>\n",
       "      <td>-0.291823</td>\n",
       "      <td>2.757198</td>\n",
       "      <td>...</td>\n",
       "      <td>0.0</td>\n",
       "      <td>1.0</td>\n",
       "      <td>0.0</td>\n",
       "      <td>0.0</td>\n",
       "      <td>0.0</td>\n",
       "      <td>0.0</td>\n",
       "      <td>0.0</td>\n",
       "      <td>0.0</td>\n",
       "      <td>0.0</td>\n",
       "      <td>1.0</td>\n",
       "    </tr>\n",
       "    <tr>\n",
       "      <th>1</th>\n",
       "      <td>-0.868365</td>\n",
       "      <td>-0.372881</td>\n",
       "      <td>-0.794852</td>\n",
       "      <td>-0.513041</td>\n",
       "      <td>-0.292501</td>\n",
       "      <td>-1.097548</td>\n",
       "      <td>-0.568178</td>\n",
       "      <td>-1.011427</td>\n",
       "      <td>-0.291823</td>\n",
       "      <td>0.745229</td>\n",
       "      <td>...</td>\n",
       "      <td>0.0</td>\n",
       "      <td>0.0</td>\n",
       "      <td>0.0</td>\n",
       "      <td>1.0</td>\n",
       "      <td>0.0</td>\n",
       "      <td>0.0</td>\n",
       "      <td>0.0</td>\n",
       "      <td>0.0</td>\n",
       "      <td>1.0</td>\n",
       "      <td>0.0</td>\n",
       "    </tr>\n",
       "    <tr>\n",
       "      <th>2</th>\n",
       "      <td>-0.631142</td>\n",
       "      <td>0.258919</td>\n",
       "      <td>-0.794852</td>\n",
       "      <td>1.278384</td>\n",
       "      <td>-1.641431</td>\n",
       "      <td>1.030548</td>\n",
       "      <td>-0.568178</td>\n",
       "      <td>0.627953</td>\n",
       "      <td>-0.291823</td>\n",
       "      <td>-0.926076</td>\n",
       "      <td>...</td>\n",
       "      <td>0.0</td>\n",
       "      <td>0.0</td>\n",
       "      <td>0.0</td>\n",
       "      <td>1.0</td>\n",
       "      <td>0.0</td>\n",
       "      <td>0.0</td>\n",
       "      <td>0.0</td>\n",
       "      <td>0.0</td>\n",
       "      <td>1.0</td>\n",
       "      <td>0.0</td>\n",
       "    </tr>\n",
       "  </tbody>\n",
       "</table>\n",
       "<p>3 rows × 193 columns</p>\n",
       "</div>"
      ],
      "text/plain": [
       "   MSSubClass   LotArea  OverallQual  OverallCond  YearBuilt  YearRemodAdd  \\\n",
       "0   -0.868365  0.103212     2.131506    -0.513041   1.188032      1.078914   \n",
       "1   -0.868365 -0.372881    -0.794852    -0.513041  -0.292501     -1.097548   \n",
       "2   -0.631142  0.258919    -0.794852     1.278384  -1.641431      1.030548   \n",
       "\n",
       "   MasVnrArea  BsmtFinSF1  BsmtFinSF2  BsmtUnfSF  ...  SaleType_ConLw  \\\n",
       "0    1.913593   -0.901062   -0.291823   2.757198  ...             0.0   \n",
       "1   -0.568178   -1.011427   -0.291823   0.745229  ...             0.0   \n",
       "2   -0.568178    0.627953   -0.291823  -0.926076  ...             0.0   \n",
       "\n",
       "   SaleType_New  SaleType_Oth  SaleType_WD  SaleCondition_Abnorml  \\\n",
       "0           1.0           0.0          0.0                    0.0   \n",
       "1           0.0           0.0          1.0                    0.0   \n",
       "2           0.0           0.0          1.0                    0.0   \n",
       "\n",
       "   SaleCondition_AdjLand  SaleCondition_Alloca  SaleCondition_Family  \\\n",
       "0                    0.0                   0.0                   0.0   \n",
       "1                    0.0                   0.0                   0.0   \n",
       "2                    0.0                   0.0                   0.0   \n",
       "\n",
       "   SaleCondition_Normal  SaleCondition_Partial  \n",
       "0                   0.0                    1.0  \n",
       "1                   1.0                    0.0  \n",
       "2                   1.0                    0.0  \n",
       "\n",
       "[3 rows x 193 columns]"
      ]
     },
     "execution_count": 21,
     "metadata": {},
     "output_type": "execute_result"
    }
   ],
   "source": [
    "x_train_transformed = pd.DataFrame(x_train_transformed, columns=columns)\n",
    "x_train_transformed.head(3)"
   ]
  },
  {
   "cell_type": "code",
   "execution_count": 22,
   "id": "0328213b",
   "metadata": {
    "execution": {
     "iopub.execute_input": "2024-01-07T10:47:53.770123Z",
     "iopub.status.busy": "2024-01-07T10:47:53.769723Z",
     "iopub.status.idle": "2024-01-07T10:47:53.776985Z",
     "shell.execute_reply": "2024-01-07T10:47:53.776142Z"
    },
    "papermill": {
     "duration": 0.030358,
     "end_time": "2024-01-07T10:47:53.778825",
     "exception": false,
     "start_time": "2024-01-07T10:47:53.748467",
     "status": "completed"
    },
    "tags": []
   },
   "outputs": [
    {
     "data": {
      "text/plain": [
       "(1168, 193)"
      ]
     },
     "execution_count": 22,
     "metadata": {},
     "output_type": "execute_result"
    }
   ],
   "source": [
    "x_train_transformed.shape"
   ]
  },
  {
   "cell_type": "markdown",
   "id": "cb8df591",
   "metadata": {
    "papermill": {
     "duration": 0.020082,
     "end_time": "2024-01-07T10:47:53.820102",
     "exception": false,
     "start_time": "2024-01-07T10:47:53.800020",
     "status": "completed"
    },
    "tags": []
   },
   "source": [
    "# Modelling "
   ]
  },
  {
   "cell_type": "markdown",
   "id": "48e6f0e6",
   "metadata": {
    "papermill": {
     "duration": 0.020283,
     "end_time": "2024-01-07T10:47:53.861044",
     "exception": false,
     "start_time": "2024-01-07T10:47:53.840761",
     "status": "completed"
    },
    "tags": []
   },
   "source": [
    "## Linear Regression"
   ]
  },
  {
   "cell_type": "code",
   "execution_count": 23,
   "id": "90e4e434",
   "metadata": {
    "execution": {
     "iopub.execute_input": "2024-01-07T10:47:53.905267Z",
     "iopub.status.busy": "2024-01-07T10:47:53.904908Z",
     "iopub.status.idle": "2024-01-07T10:47:53.962736Z",
     "shell.execute_reply": "2024-01-07T10:47:53.961965Z"
    },
    "papermill": {
     "duration": 0.081744,
     "end_time": "2024-01-07T10:47:53.964506",
     "exception": false,
     "start_time": "2024-01-07T10:47:53.882762",
     "status": "completed"
    },
    "tags": []
   },
   "outputs": [
    {
     "data": {
      "text/html": [
       "<style>#sk-container-id-1 {color: black;background-color: white;}#sk-container-id-1 pre{padding: 0;}#sk-container-id-1 div.sk-toggleable {background-color: white;}#sk-container-id-1 label.sk-toggleable__label {cursor: pointer;display: block;width: 100%;margin-bottom: 0;padding: 0.3em;box-sizing: border-box;text-align: center;}#sk-container-id-1 label.sk-toggleable__label-arrow:before {content: \"▸\";float: left;margin-right: 0.25em;color: #696969;}#sk-container-id-1 label.sk-toggleable__label-arrow:hover:before {color: black;}#sk-container-id-1 div.sk-estimator:hover label.sk-toggleable__label-arrow:before {color: black;}#sk-container-id-1 div.sk-toggleable__content {max-height: 0;max-width: 0;overflow: hidden;text-align: left;background-color: #f0f8ff;}#sk-container-id-1 div.sk-toggleable__content pre {margin: 0.2em;color: black;border-radius: 0.25em;background-color: #f0f8ff;}#sk-container-id-1 input.sk-toggleable__control:checked~div.sk-toggleable__content {max-height: 200px;max-width: 100%;overflow: auto;}#sk-container-id-1 input.sk-toggleable__control:checked~label.sk-toggleable__label-arrow:before {content: \"▾\";}#sk-container-id-1 div.sk-estimator input.sk-toggleable__control:checked~label.sk-toggleable__label {background-color: #d4ebff;}#sk-container-id-1 div.sk-label input.sk-toggleable__control:checked~label.sk-toggleable__label {background-color: #d4ebff;}#sk-container-id-1 input.sk-hidden--visually {border: 0;clip: rect(1px 1px 1px 1px);clip: rect(1px, 1px, 1px, 1px);height: 1px;margin: -1px;overflow: hidden;padding: 0;position: absolute;width: 1px;}#sk-container-id-1 div.sk-estimator {font-family: monospace;background-color: #f0f8ff;border: 1px dotted black;border-radius: 0.25em;box-sizing: border-box;margin-bottom: 0.5em;}#sk-container-id-1 div.sk-estimator:hover {background-color: #d4ebff;}#sk-container-id-1 div.sk-parallel-item::after {content: \"\";width: 100%;border-bottom: 1px solid gray;flex-grow: 1;}#sk-container-id-1 div.sk-label:hover label.sk-toggleable__label {background-color: #d4ebff;}#sk-container-id-1 div.sk-serial::before {content: \"\";position: absolute;border-left: 1px solid gray;box-sizing: border-box;top: 0;bottom: 0;left: 50%;z-index: 0;}#sk-container-id-1 div.sk-serial {display: flex;flex-direction: column;align-items: center;background-color: white;padding-right: 0.2em;padding-left: 0.2em;position: relative;}#sk-container-id-1 div.sk-item {position: relative;z-index: 1;}#sk-container-id-1 div.sk-parallel {display: flex;align-items: stretch;justify-content: center;background-color: white;position: relative;}#sk-container-id-1 div.sk-item::before, #sk-container-id-1 div.sk-parallel-item::before {content: \"\";position: absolute;border-left: 1px solid gray;box-sizing: border-box;top: 0;bottom: 0;left: 50%;z-index: -1;}#sk-container-id-1 div.sk-parallel-item {display: flex;flex-direction: column;z-index: 1;position: relative;background-color: white;}#sk-container-id-1 div.sk-parallel-item:first-child::after {align-self: flex-end;width: 50%;}#sk-container-id-1 div.sk-parallel-item:last-child::after {align-self: flex-start;width: 50%;}#sk-container-id-1 div.sk-parallel-item:only-child::after {width: 0;}#sk-container-id-1 div.sk-dashed-wrapped {border: 1px dashed gray;margin: 0 0.4em 0.5em 0.4em;box-sizing: border-box;padding-bottom: 0.4em;background-color: white;}#sk-container-id-1 div.sk-label label {font-family: monospace;font-weight: bold;display: inline-block;line-height: 1.2em;}#sk-container-id-1 div.sk-label-container {text-align: center;}#sk-container-id-1 div.sk-container {/* jupyter's `normalize.less` sets `[hidden] { display: none; }` but bootstrap.min.css set `[hidden] { display: none !important; }` so we also need the `!important` here to be able to override the default hidden behavior on the sphinx rendered scikit-learn.org. See: https://github.com/scikit-learn/scikit-learn/issues/21755 */display: inline-block !important;position: relative;}#sk-container-id-1 div.sk-text-repr-fallback {display: none;}</style><div id=\"sk-container-id-1\" class=\"sk-top-container\"><div class=\"sk-text-repr-fallback\"><pre>LinearRegression()</pre><b>In a Jupyter environment, please rerun this cell to show the HTML representation or trust the notebook. <br />On GitHub, the HTML representation is unable to render, please try loading this page with nbviewer.org.</b></div><div class=\"sk-container\" hidden><div class=\"sk-item\"><div class=\"sk-estimator sk-toggleable\"><input class=\"sk-toggleable__control sk-hidden--visually\" id=\"sk-estimator-id-1\" type=\"checkbox\" checked><label for=\"sk-estimator-id-1\" class=\"sk-toggleable__label sk-toggleable__label-arrow\">LinearRegression</label><div class=\"sk-toggleable__content\"><pre>LinearRegression()</pre></div></div></div></div></div>"
      ],
      "text/plain": [
       "LinearRegression()"
      ]
     },
     "execution_count": 23,
     "metadata": {},
     "output_type": "execute_result"
    }
   ],
   "source": [
    "from sklearn.linear_model import LinearRegression\n",
    "linr=LinearRegression()\n",
    "linr.fit(x_train_transformed,y_train)"
   ]
  },
  {
   "cell_type": "code",
   "execution_count": 24,
   "id": "d0f3a104",
   "metadata": {
    "execution": {
     "iopub.execute_input": "2024-01-07T10:47:54.019046Z",
     "iopub.status.busy": "2024-01-07T10:47:54.018660Z",
     "iopub.status.idle": "2024-01-07T10:47:54.032862Z",
     "shell.execute_reply": "2024-01-07T10:47:54.032037Z"
    },
    "papermill": {
     "duration": 0.044364,
     "end_time": "2024-01-07T10:47:54.035095",
     "exception": false,
     "start_time": "2024-01-07T10:47:53.990731",
     "status": "completed"
    },
    "tags": []
   },
   "outputs": [
    {
     "data": {
      "text/plain": [
       "0.9453726980827192"
      ]
     },
     "execution_count": 24,
     "metadata": {},
     "output_type": "execute_result"
    }
   ],
   "source": [
    "linr.score(x_train_transformed,y_train)\n"
   ]
  },
  {
   "cell_type": "code",
   "execution_count": 25,
   "id": "f6f2d854",
   "metadata": {
    "execution": {
     "iopub.execute_input": "2024-01-07T10:47:54.093453Z",
     "iopub.status.busy": "2024-01-07T10:47:54.093105Z",
     "iopub.status.idle": "2024-01-07T10:47:54.138693Z",
     "shell.execute_reply": "2024-01-07T10:47:54.137966Z"
    },
    "papermill": {
     "duration": 0.076352,
     "end_time": "2024-01-07T10:47:54.140788",
     "exception": false,
     "start_time": "2024-01-07T10:47:54.064436",
     "status": "completed"
    },
    "tags": []
   },
   "outputs": [
    {
     "data": {
      "text/plain": [
       "-1.0265241110767304e+17"
      ]
     },
     "execution_count": 25,
     "metadata": {},
     "output_type": "execute_result"
    }
   ],
   "source": [
    "x_test_transformed = pipeline.transform(x_test)\n",
    "x_test_transformed = pd.DataFrame(x_test_transformed, columns=columns)\n",
    "categorical_imputer = SimpleImputer(strategy='most_frequent')\n",
    "x_test_transformed[ordinal] = categorical_imputer.fit_transform(x_test_transformed[ordinal])\n",
    "linr.score(x_test_transformed,y_test)"
   ]
  },
  {
   "cell_type": "markdown",
   "id": "b0790eca",
   "metadata": {
    "papermill": {
     "duration": 0.027038,
     "end_time": "2024-01-07T10:47:54.195531",
     "exception": false,
     "start_time": "2024-01-07T10:47:54.168493",
     "status": "completed"
    },
    "tags": []
   },
   "source": [
    "## Ridge"
   ]
  },
  {
   "cell_type": "code",
   "execution_count": 26,
   "id": "c1e391d0",
   "metadata": {
    "execution": {
     "iopub.execute_input": "2024-01-07T10:47:54.251502Z",
     "iopub.status.busy": "2024-01-07T10:47:54.251126Z",
     "iopub.status.idle": "2024-01-07T10:47:54.272871Z",
     "shell.execute_reply": "2024-01-07T10:47:54.272116Z"
    },
    "papermill": {
     "duration": 0.05249,
     "end_time": "2024-01-07T10:47:54.275207",
     "exception": false,
     "start_time": "2024-01-07T10:47:54.222717",
     "status": "completed"
    },
    "tags": []
   },
   "outputs": [
    {
     "data": {
      "text/html": [
       "<style>#sk-container-id-2 {color: black;background-color: white;}#sk-container-id-2 pre{padding: 0;}#sk-container-id-2 div.sk-toggleable {background-color: white;}#sk-container-id-2 label.sk-toggleable__label {cursor: pointer;display: block;width: 100%;margin-bottom: 0;padding: 0.3em;box-sizing: border-box;text-align: center;}#sk-container-id-2 label.sk-toggleable__label-arrow:before {content: \"▸\";float: left;margin-right: 0.25em;color: #696969;}#sk-container-id-2 label.sk-toggleable__label-arrow:hover:before {color: black;}#sk-container-id-2 div.sk-estimator:hover label.sk-toggleable__label-arrow:before {color: black;}#sk-container-id-2 div.sk-toggleable__content {max-height: 0;max-width: 0;overflow: hidden;text-align: left;background-color: #f0f8ff;}#sk-container-id-2 div.sk-toggleable__content pre {margin: 0.2em;color: black;border-radius: 0.25em;background-color: #f0f8ff;}#sk-container-id-2 input.sk-toggleable__control:checked~div.sk-toggleable__content {max-height: 200px;max-width: 100%;overflow: auto;}#sk-container-id-2 input.sk-toggleable__control:checked~label.sk-toggleable__label-arrow:before {content: \"▾\";}#sk-container-id-2 div.sk-estimator input.sk-toggleable__control:checked~label.sk-toggleable__label {background-color: #d4ebff;}#sk-container-id-2 div.sk-label input.sk-toggleable__control:checked~label.sk-toggleable__label {background-color: #d4ebff;}#sk-container-id-2 input.sk-hidden--visually {border: 0;clip: rect(1px 1px 1px 1px);clip: rect(1px, 1px, 1px, 1px);height: 1px;margin: -1px;overflow: hidden;padding: 0;position: absolute;width: 1px;}#sk-container-id-2 div.sk-estimator {font-family: monospace;background-color: #f0f8ff;border: 1px dotted black;border-radius: 0.25em;box-sizing: border-box;margin-bottom: 0.5em;}#sk-container-id-2 div.sk-estimator:hover {background-color: #d4ebff;}#sk-container-id-2 div.sk-parallel-item::after {content: \"\";width: 100%;border-bottom: 1px solid gray;flex-grow: 1;}#sk-container-id-2 div.sk-label:hover label.sk-toggleable__label {background-color: #d4ebff;}#sk-container-id-2 div.sk-serial::before {content: \"\";position: absolute;border-left: 1px solid gray;box-sizing: border-box;top: 0;bottom: 0;left: 50%;z-index: 0;}#sk-container-id-2 div.sk-serial {display: flex;flex-direction: column;align-items: center;background-color: white;padding-right: 0.2em;padding-left: 0.2em;position: relative;}#sk-container-id-2 div.sk-item {position: relative;z-index: 1;}#sk-container-id-2 div.sk-parallel {display: flex;align-items: stretch;justify-content: center;background-color: white;position: relative;}#sk-container-id-2 div.sk-item::before, #sk-container-id-2 div.sk-parallel-item::before {content: \"\";position: absolute;border-left: 1px solid gray;box-sizing: border-box;top: 0;bottom: 0;left: 50%;z-index: -1;}#sk-container-id-2 div.sk-parallel-item {display: flex;flex-direction: column;z-index: 1;position: relative;background-color: white;}#sk-container-id-2 div.sk-parallel-item:first-child::after {align-self: flex-end;width: 50%;}#sk-container-id-2 div.sk-parallel-item:last-child::after {align-self: flex-start;width: 50%;}#sk-container-id-2 div.sk-parallel-item:only-child::after {width: 0;}#sk-container-id-2 div.sk-dashed-wrapped {border: 1px dashed gray;margin: 0 0.4em 0.5em 0.4em;box-sizing: border-box;padding-bottom: 0.4em;background-color: white;}#sk-container-id-2 div.sk-label label {font-family: monospace;font-weight: bold;display: inline-block;line-height: 1.2em;}#sk-container-id-2 div.sk-label-container {text-align: center;}#sk-container-id-2 div.sk-container {/* jupyter's `normalize.less` sets `[hidden] { display: none; }` but bootstrap.min.css set `[hidden] { display: none !important; }` so we also need the `!important` here to be able to override the default hidden behavior on the sphinx rendered scikit-learn.org. See: https://github.com/scikit-learn/scikit-learn/issues/21755 */display: inline-block !important;position: relative;}#sk-container-id-2 div.sk-text-repr-fallback {display: none;}</style><div id=\"sk-container-id-2\" class=\"sk-top-container\"><div class=\"sk-text-repr-fallback\"><pre>Ridge()</pre><b>In a Jupyter environment, please rerun this cell to show the HTML representation or trust the notebook. <br />On GitHub, the HTML representation is unable to render, please try loading this page with nbviewer.org.</b></div><div class=\"sk-container\" hidden><div class=\"sk-item\"><div class=\"sk-estimator sk-toggleable\"><input class=\"sk-toggleable__control sk-hidden--visually\" id=\"sk-estimator-id-2\" type=\"checkbox\" checked><label for=\"sk-estimator-id-2\" class=\"sk-toggleable__label sk-toggleable__label-arrow\">Ridge</label><div class=\"sk-toggleable__content\"><pre>Ridge()</pre></div></div></div></div></div>"
      ],
      "text/plain": [
       "Ridge()"
      ]
     },
     "execution_count": 26,
     "metadata": {},
     "output_type": "execute_result"
    }
   ],
   "source": [
    "from sklearn.linear_model import Ridge\n",
    "ri=Ridge()\n",
    "# Fit and transform on the training data\n",
    "ri.fit(x_train_transformed,y_train)"
   ]
  },
  {
   "cell_type": "code",
   "execution_count": 27,
   "id": "b4c04ca0",
   "metadata": {
    "execution": {
     "iopub.execute_input": "2024-01-07T10:47:54.385126Z",
     "iopub.status.busy": "2024-01-07T10:47:54.384018Z",
     "iopub.status.idle": "2024-01-07T10:47:54.393823Z",
     "shell.execute_reply": "2024-01-07T10:47:54.393112Z"
    },
    "papermill": {
     "duration": 0.069249,
     "end_time": "2024-01-07T10:47:54.397502",
     "exception": false,
     "start_time": "2024-01-07T10:47:54.328253",
     "status": "completed"
    },
    "tags": []
   },
   "outputs": [
    {
     "data": {
      "text/plain": [
       "0.9411529108297162"
      ]
     },
     "execution_count": 27,
     "metadata": {},
     "output_type": "execute_result"
    }
   ],
   "source": [
    "ri.score(x_train_transformed,y_train)"
   ]
  },
  {
   "cell_type": "code",
   "execution_count": 28,
   "id": "c2ba4789",
   "metadata": {
    "execution": {
     "iopub.execute_input": "2024-01-07T10:47:54.454830Z",
     "iopub.status.busy": "2024-01-07T10:47:54.454500Z",
     "iopub.status.idle": "2024-01-07T10:47:54.499716Z",
     "shell.execute_reply": "2024-01-07T10:47:54.498933Z"
    },
    "papermill": {
     "duration": 0.076655,
     "end_time": "2024-01-07T10:47:54.501913",
     "exception": false,
     "start_time": "2024-01-07T10:47:54.425258",
     "status": "completed"
    },
    "tags": []
   },
   "outputs": [
    {
     "data": {
      "text/plain": [
       "0.7452471428529599"
      ]
     },
     "execution_count": 28,
     "metadata": {},
     "output_type": "execute_result"
    }
   ],
   "source": [
    "x_test_transformed = pipeline.transform(x_test)\n",
    "x_test_transformed = pd.DataFrame(x_test_transformed, columns=columns)\n",
    "categorical_imputer = SimpleImputer(strategy='most_frequent')\n",
    "x_test_transformed[ordinal] = categorical_imputer.fit_transform(x_test_transformed[ordinal])\n",
    "ri.score(x_test_transformed,y_test)"
   ]
  },
  {
   "cell_type": "markdown",
   "id": "97ea3657",
   "metadata": {
    "papermill": {
     "duration": 0.02728,
     "end_time": "2024-01-07T10:47:54.557221",
     "exception": false,
     "start_time": "2024-01-07T10:47:54.529941",
     "status": "completed"
    },
    "tags": []
   },
   "source": [
    "## KNN Model"
   ]
  },
  {
   "cell_type": "code",
   "execution_count": 29,
   "id": "b5ca0e9d",
   "metadata": {
    "execution": {
     "iopub.execute_input": "2024-01-07T10:47:54.613979Z",
     "iopub.status.busy": "2024-01-07T10:47:54.613659Z",
     "iopub.status.idle": "2024-01-07T10:47:54.625169Z",
     "shell.execute_reply": "2024-01-07T10:47:54.623864Z"
    },
    "papermill": {
     "duration": 0.042624,
     "end_time": "2024-01-07T10:47:54.627862",
     "exception": false,
     "start_time": "2024-01-07T10:47:54.585238",
     "status": "completed"
    },
    "tags": []
   },
   "outputs": [
    {
     "data": {
      "text/html": [
       "<style>#sk-container-id-3 {color: black;background-color: white;}#sk-container-id-3 pre{padding: 0;}#sk-container-id-3 div.sk-toggleable {background-color: white;}#sk-container-id-3 label.sk-toggleable__label {cursor: pointer;display: block;width: 100%;margin-bottom: 0;padding: 0.3em;box-sizing: border-box;text-align: center;}#sk-container-id-3 label.sk-toggleable__label-arrow:before {content: \"▸\";float: left;margin-right: 0.25em;color: #696969;}#sk-container-id-3 label.sk-toggleable__label-arrow:hover:before {color: black;}#sk-container-id-3 div.sk-estimator:hover label.sk-toggleable__label-arrow:before {color: black;}#sk-container-id-3 div.sk-toggleable__content {max-height: 0;max-width: 0;overflow: hidden;text-align: left;background-color: #f0f8ff;}#sk-container-id-3 div.sk-toggleable__content pre {margin: 0.2em;color: black;border-radius: 0.25em;background-color: #f0f8ff;}#sk-container-id-3 input.sk-toggleable__control:checked~div.sk-toggleable__content {max-height: 200px;max-width: 100%;overflow: auto;}#sk-container-id-3 input.sk-toggleable__control:checked~label.sk-toggleable__label-arrow:before {content: \"▾\";}#sk-container-id-3 div.sk-estimator input.sk-toggleable__control:checked~label.sk-toggleable__label {background-color: #d4ebff;}#sk-container-id-3 div.sk-label input.sk-toggleable__control:checked~label.sk-toggleable__label {background-color: #d4ebff;}#sk-container-id-3 input.sk-hidden--visually {border: 0;clip: rect(1px 1px 1px 1px);clip: rect(1px, 1px, 1px, 1px);height: 1px;margin: -1px;overflow: hidden;padding: 0;position: absolute;width: 1px;}#sk-container-id-3 div.sk-estimator {font-family: monospace;background-color: #f0f8ff;border: 1px dotted black;border-radius: 0.25em;box-sizing: border-box;margin-bottom: 0.5em;}#sk-container-id-3 div.sk-estimator:hover {background-color: #d4ebff;}#sk-container-id-3 div.sk-parallel-item::after {content: \"\";width: 100%;border-bottom: 1px solid gray;flex-grow: 1;}#sk-container-id-3 div.sk-label:hover label.sk-toggleable__label {background-color: #d4ebff;}#sk-container-id-3 div.sk-serial::before {content: \"\";position: absolute;border-left: 1px solid gray;box-sizing: border-box;top: 0;bottom: 0;left: 50%;z-index: 0;}#sk-container-id-3 div.sk-serial {display: flex;flex-direction: column;align-items: center;background-color: white;padding-right: 0.2em;padding-left: 0.2em;position: relative;}#sk-container-id-3 div.sk-item {position: relative;z-index: 1;}#sk-container-id-3 div.sk-parallel {display: flex;align-items: stretch;justify-content: center;background-color: white;position: relative;}#sk-container-id-3 div.sk-item::before, #sk-container-id-3 div.sk-parallel-item::before {content: \"\";position: absolute;border-left: 1px solid gray;box-sizing: border-box;top: 0;bottom: 0;left: 50%;z-index: -1;}#sk-container-id-3 div.sk-parallel-item {display: flex;flex-direction: column;z-index: 1;position: relative;background-color: white;}#sk-container-id-3 div.sk-parallel-item:first-child::after {align-self: flex-end;width: 50%;}#sk-container-id-3 div.sk-parallel-item:last-child::after {align-self: flex-start;width: 50%;}#sk-container-id-3 div.sk-parallel-item:only-child::after {width: 0;}#sk-container-id-3 div.sk-dashed-wrapped {border: 1px dashed gray;margin: 0 0.4em 0.5em 0.4em;box-sizing: border-box;padding-bottom: 0.4em;background-color: white;}#sk-container-id-3 div.sk-label label {font-family: monospace;font-weight: bold;display: inline-block;line-height: 1.2em;}#sk-container-id-3 div.sk-label-container {text-align: center;}#sk-container-id-3 div.sk-container {/* jupyter's `normalize.less` sets `[hidden] { display: none; }` but bootstrap.min.css set `[hidden] { display: none !important; }` so we also need the `!important` here to be able to override the default hidden behavior on the sphinx rendered scikit-learn.org. See: https://github.com/scikit-learn/scikit-learn/issues/21755 */display: inline-block !important;position: relative;}#sk-container-id-3 div.sk-text-repr-fallback {display: none;}</style><div id=\"sk-container-id-3\" class=\"sk-top-container\"><div class=\"sk-text-repr-fallback\"><pre>KNeighborsRegressor()</pre><b>In a Jupyter environment, please rerun this cell to show the HTML representation or trust the notebook. <br />On GitHub, the HTML representation is unable to render, please try loading this page with nbviewer.org.</b></div><div class=\"sk-container\" hidden><div class=\"sk-item\"><div class=\"sk-estimator sk-toggleable\"><input class=\"sk-toggleable__control sk-hidden--visually\" id=\"sk-estimator-id-3\" type=\"checkbox\" checked><label for=\"sk-estimator-id-3\" class=\"sk-toggleable__label sk-toggleable__label-arrow\">KNeighborsRegressor</label><div class=\"sk-toggleable__content\"><pre>KNeighborsRegressor()</pre></div></div></div></div></div>"
      ],
      "text/plain": [
       "KNeighborsRegressor()"
      ]
     },
     "execution_count": 29,
     "metadata": {},
     "output_type": "execute_result"
    }
   ],
   "source": [
    "from sklearn.neighbors import KNeighborsRegressor\n",
    "kn=KNeighborsRegressor()\n",
    "kn.fit(x_train_transformed,y_train)"
   ]
  },
  {
   "cell_type": "code",
   "execution_count": 30,
   "id": "27782359",
   "metadata": {
    "execution": {
     "iopub.execute_input": "2024-01-07T10:47:54.674526Z",
     "iopub.status.busy": "2024-01-07T10:47:54.673615Z",
     "iopub.status.idle": "2024-01-07T10:47:54.730851Z",
     "shell.execute_reply": "2024-01-07T10:47:54.730208Z"
    },
    "papermill": {
     "duration": 0.082088,
     "end_time": "2024-01-07T10:47:54.732500",
     "exception": false,
     "start_time": "2024-01-07T10:47:54.650412",
     "status": "completed"
    },
    "tags": []
   },
   "outputs": [
    {
     "data": {
      "text/plain": [
       "0.8700656348491226"
      ]
     },
     "execution_count": 30,
     "metadata": {},
     "output_type": "execute_result"
    }
   ],
   "source": [
    "kn.score(x_train_transformed,y_train)"
   ]
  },
  {
   "cell_type": "code",
   "execution_count": 31,
   "id": "564c874a",
   "metadata": {
    "execution": {
     "iopub.execute_input": "2024-01-07T10:47:54.776199Z",
     "iopub.status.busy": "2024-01-07T10:47:54.775450Z",
     "iopub.status.idle": "2024-01-07T10:47:54.820815Z",
     "shell.execute_reply": "2024-01-07T10:47:54.819848Z"
    },
    "papermill": {
     "duration": 0.06912,
     "end_time": "2024-01-07T10:47:54.822956",
     "exception": false,
     "start_time": "2024-01-07T10:47:54.753836",
     "status": "completed"
    },
    "tags": []
   },
   "outputs": [
    {
     "data": {
      "text/plain": [
       "0.770405943889885"
      ]
     },
     "execution_count": 31,
     "metadata": {},
     "output_type": "execute_result"
    }
   ],
   "source": [
    "x_test_transformed = pipeline.transform(x_test)\n",
    "x_test_transformed = pd.DataFrame(x_test_transformed, columns=columns)\n",
    "categorical_imputer = SimpleImputer(strategy='most_frequent')\n",
    "x_test_transformed[ordinal] = categorical_imputer.fit_transform(x_test_transformed[ordinal])\n",
    "kn.score(x_test_transformed,y_test)"
   ]
  },
  {
   "cell_type": "markdown",
   "id": "9973cd31",
   "metadata": {
    "papermill": {
     "duration": 0.021185,
     "end_time": "2024-01-07T10:47:54.866506",
     "exception": false,
     "start_time": "2024-01-07T10:47:54.845321",
     "status": "completed"
    },
    "tags": []
   },
   "source": [
    "## SVR Model"
   ]
  },
  {
   "cell_type": "code",
   "execution_count": 32,
   "id": "05af600c",
   "metadata": {
    "execution": {
     "iopub.execute_input": "2024-01-07T10:47:54.912628Z",
     "iopub.status.busy": "2024-01-07T10:47:54.911516Z",
     "iopub.status.idle": "2024-01-07T10:47:54.937436Z",
     "shell.execute_reply": "2024-01-07T10:47:54.936770Z"
    },
    "papermill": {
     "duration": 0.052094,
     "end_time": "2024-01-07T10:47:54.939571",
     "exception": false,
     "start_time": "2024-01-07T10:47:54.887477",
     "status": "completed"
    },
    "tags": []
   },
   "outputs": [
    {
     "data": {
      "text/html": [
       "<style>#sk-container-id-4 {color: black;background-color: white;}#sk-container-id-4 pre{padding: 0;}#sk-container-id-4 div.sk-toggleable {background-color: white;}#sk-container-id-4 label.sk-toggleable__label {cursor: pointer;display: block;width: 100%;margin-bottom: 0;padding: 0.3em;box-sizing: border-box;text-align: center;}#sk-container-id-4 label.sk-toggleable__label-arrow:before {content: \"▸\";float: left;margin-right: 0.25em;color: #696969;}#sk-container-id-4 label.sk-toggleable__label-arrow:hover:before {color: black;}#sk-container-id-4 div.sk-estimator:hover label.sk-toggleable__label-arrow:before {color: black;}#sk-container-id-4 div.sk-toggleable__content {max-height: 0;max-width: 0;overflow: hidden;text-align: left;background-color: #f0f8ff;}#sk-container-id-4 div.sk-toggleable__content pre {margin: 0.2em;color: black;border-radius: 0.25em;background-color: #f0f8ff;}#sk-container-id-4 input.sk-toggleable__control:checked~div.sk-toggleable__content {max-height: 200px;max-width: 100%;overflow: auto;}#sk-container-id-4 input.sk-toggleable__control:checked~label.sk-toggleable__label-arrow:before {content: \"▾\";}#sk-container-id-4 div.sk-estimator input.sk-toggleable__control:checked~label.sk-toggleable__label {background-color: #d4ebff;}#sk-container-id-4 div.sk-label input.sk-toggleable__control:checked~label.sk-toggleable__label {background-color: #d4ebff;}#sk-container-id-4 input.sk-hidden--visually {border: 0;clip: rect(1px 1px 1px 1px);clip: rect(1px, 1px, 1px, 1px);height: 1px;margin: -1px;overflow: hidden;padding: 0;position: absolute;width: 1px;}#sk-container-id-4 div.sk-estimator {font-family: monospace;background-color: #f0f8ff;border: 1px dotted black;border-radius: 0.25em;box-sizing: border-box;margin-bottom: 0.5em;}#sk-container-id-4 div.sk-estimator:hover {background-color: #d4ebff;}#sk-container-id-4 div.sk-parallel-item::after {content: \"\";width: 100%;border-bottom: 1px solid gray;flex-grow: 1;}#sk-container-id-4 div.sk-label:hover label.sk-toggleable__label {background-color: #d4ebff;}#sk-container-id-4 div.sk-serial::before {content: \"\";position: absolute;border-left: 1px solid gray;box-sizing: border-box;top: 0;bottom: 0;left: 50%;z-index: 0;}#sk-container-id-4 div.sk-serial {display: flex;flex-direction: column;align-items: center;background-color: white;padding-right: 0.2em;padding-left: 0.2em;position: relative;}#sk-container-id-4 div.sk-item {position: relative;z-index: 1;}#sk-container-id-4 div.sk-parallel {display: flex;align-items: stretch;justify-content: center;background-color: white;position: relative;}#sk-container-id-4 div.sk-item::before, #sk-container-id-4 div.sk-parallel-item::before {content: \"\";position: absolute;border-left: 1px solid gray;box-sizing: border-box;top: 0;bottom: 0;left: 50%;z-index: -1;}#sk-container-id-4 div.sk-parallel-item {display: flex;flex-direction: column;z-index: 1;position: relative;background-color: white;}#sk-container-id-4 div.sk-parallel-item:first-child::after {align-self: flex-end;width: 50%;}#sk-container-id-4 div.sk-parallel-item:last-child::after {align-self: flex-start;width: 50%;}#sk-container-id-4 div.sk-parallel-item:only-child::after {width: 0;}#sk-container-id-4 div.sk-dashed-wrapped {border: 1px dashed gray;margin: 0 0.4em 0.5em 0.4em;box-sizing: border-box;padding-bottom: 0.4em;background-color: white;}#sk-container-id-4 div.sk-label label {font-family: monospace;font-weight: bold;display: inline-block;line-height: 1.2em;}#sk-container-id-4 div.sk-label-container {text-align: center;}#sk-container-id-4 div.sk-container {/* jupyter's `normalize.less` sets `[hidden] { display: none; }` but bootstrap.min.css set `[hidden] { display: none !important; }` so we also need the `!important` here to be able to override the default hidden behavior on the sphinx rendered scikit-learn.org. See: https://github.com/scikit-learn/scikit-learn/issues/21755 */display: inline-block !important;position: relative;}#sk-container-id-4 div.sk-text-repr-fallback {display: none;}</style><div id=\"sk-container-id-4\" class=\"sk-top-container\"><div class=\"sk-text-repr-fallback\"><pre>SVR(epsilon=0.2)</pre><b>In a Jupyter environment, please rerun this cell to show the HTML representation or trust the notebook. <br />On GitHub, the HTML representation is unable to render, please try loading this page with nbviewer.org.</b></div><div class=\"sk-container\" hidden><div class=\"sk-item\"><div class=\"sk-estimator sk-toggleable\"><input class=\"sk-toggleable__control sk-hidden--visually\" id=\"sk-estimator-id-4\" type=\"checkbox\" checked><label for=\"sk-estimator-id-4\" class=\"sk-toggleable__label sk-toggleable__label-arrow\">SVR</label><div class=\"sk-toggleable__content\"><pre>SVR(epsilon=0.2)</pre></div></div></div></div></div>"
      ],
      "text/plain": [
       "SVR(epsilon=0.2)"
      ]
     },
     "execution_count": 32,
     "metadata": {},
     "output_type": "execute_result"
    }
   ],
   "source": [
    "from sklearn.svm import SVR\n",
    "svr = SVR(C=1.0, epsilon=0.2)\n",
    "svr.fit(x_train_transformed,y_train)"
   ]
  },
  {
   "cell_type": "code",
   "execution_count": 33,
   "id": "8a576ee9",
   "metadata": {
    "execution": {
     "iopub.execute_input": "2024-01-07T10:47:54.986797Z",
     "iopub.status.busy": "2024-01-07T10:47:54.985601Z",
     "iopub.status.idle": "2024-01-07T10:47:55.011388Z",
     "shell.execute_reply": "2024-01-07T10:47:55.010256Z"
    },
    "papermill": {
     "duration": 0.051246,
     "end_time": "2024-01-07T10:47:55.013499",
     "exception": false,
     "start_time": "2024-01-07T10:47:54.962253",
     "status": "completed"
    },
    "tags": []
   },
   "outputs": [
    {
     "data": {
      "text/plain": [
       "0.9174101760855634"
      ]
     },
     "execution_count": 33,
     "metadata": {},
     "output_type": "execute_result"
    }
   ],
   "source": [
    "svr.score(x_train_transformed,y_train)"
   ]
  },
  {
   "cell_type": "code",
   "execution_count": 34,
   "id": "59628bfc",
   "metadata": {
    "execution": {
     "iopub.execute_input": "2024-01-07T10:47:55.060524Z",
     "iopub.status.busy": "2024-01-07T10:47:55.060158Z",
     "iopub.status.idle": "2024-01-07T10:47:55.103732Z",
     "shell.execute_reply": "2024-01-07T10:47:55.102598Z"
    },
    "papermill": {
     "duration": 0.068773,
     "end_time": "2024-01-07T10:47:55.105673",
     "exception": false,
     "start_time": "2024-01-07T10:47:55.036900",
     "status": "completed"
    },
    "tags": []
   },
   "outputs": [
    {
     "data": {
      "text/plain": [
       "0.8562814542006859"
      ]
     },
     "execution_count": 34,
     "metadata": {},
     "output_type": "execute_result"
    }
   ],
   "source": [
    "x_test_transformed = pipeline.transform(x_test)\n",
    "x_test_transformed = pd.DataFrame(x_test_transformed, columns=columns)\n",
    "categorical_imputer = SimpleImputer(strategy='most_frequent')\n",
    "x_test_transformed[ordinal] = categorical_imputer.fit_transform(x_test_transformed[ordinal])\n",
    "svr.score(x_test_transformed,y_test)"
   ]
  },
  {
   "cell_type": "markdown",
   "id": "dfca307d",
   "metadata": {
    "papermill": {
     "duration": 0.021002,
     "end_time": "2024-01-07T10:47:55.148658",
     "exception": false,
     "start_time": "2024-01-07T10:47:55.127656",
     "status": "completed"
    },
    "tags": []
   },
   "source": [
    "## DECISION TREE REGRESSOR"
   ]
  },
  {
   "cell_type": "code",
   "execution_count": 35,
   "id": "e9435b04",
   "metadata": {
    "execution": {
     "iopub.execute_input": "2024-01-07T10:47:55.192314Z",
     "iopub.status.busy": "2024-01-07T10:47:55.191954Z",
     "iopub.status.idle": "2024-01-07T10:47:55.268748Z",
     "shell.execute_reply": "2024-01-07T10:47:55.267653Z"
    },
    "papermill": {
     "duration": 0.100847,
     "end_time": "2024-01-07T10:47:55.270499",
     "exception": false,
     "start_time": "2024-01-07T10:47:55.169652",
     "status": "completed"
    },
    "tags": []
   },
   "outputs": [
    {
     "data": {
      "text/html": [
       "<style>#sk-container-id-5 {color: black;background-color: white;}#sk-container-id-5 pre{padding: 0;}#sk-container-id-5 div.sk-toggleable {background-color: white;}#sk-container-id-5 label.sk-toggleable__label {cursor: pointer;display: block;width: 100%;margin-bottom: 0;padding: 0.3em;box-sizing: border-box;text-align: center;}#sk-container-id-5 label.sk-toggleable__label-arrow:before {content: \"▸\";float: left;margin-right: 0.25em;color: #696969;}#sk-container-id-5 label.sk-toggleable__label-arrow:hover:before {color: black;}#sk-container-id-5 div.sk-estimator:hover label.sk-toggleable__label-arrow:before {color: black;}#sk-container-id-5 div.sk-toggleable__content {max-height: 0;max-width: 0;overflow: hidden;text-align: left;background-color: #f0f8ff;}#sk-container-id-5 div.sk-toggleable__content pre {margin: 0.2em;color: black;border-radius: 0.25em;background-color: #f0f8ff;}#sk-container-id-5 input.sk-toggleable__control:checked~div.sk-toggleable__content {max-height: 200px;max-width: 100%;overflow: auto;}#sk-container-id-5 input.sk-toggleable__control:checked~label.sk-toggleable__label-arrow:before {content: \"▾\";}#sk-container-id-5 div.sk-estimator input.sk-toggleable__control:checked~label.sk-toggleable__label {background-color: #d4ebff;}#sk-container-id-5 div.sk-label input.sk-toggleable__control:checked~label.sk-toggleable__label {background-color: #d4ebff;}#sk-container-id-5 input.sk-hidden--visually {border: 0;clip: rect(1px 1px 1px 1px);clip: rect(1px, 1px, 1px, 1px);height: 1px;margin: -1px;overflow: hidden;padding: 0;position: absolute;width: 1px;}#sk-container-id-5 div.sk-estimator {font-family: monospace;background-color: #f0f8ff;border: 1px dotted black;border-radius: 0.25em;box-sizing: border-box;margin-bottom: 0.5em;}#sk-container-id-5 div.sk-estimator:hover {background-color: #d4ebff;}#sk-container-id-5 div.sk-parallel-item::after {content: \"\";width: 100%;border-bottom: 1px solid gray;flex-grow: 1;}#sk-container-id-5 div.sk-label:hover label.sk-toggleable__label {background-color: #d4ebff;}#sk-container-id-5 div.sk-serial::before {content: \"\";position: absolute;border-left: 1px solid gray;box-sizing: border-box;top: 0;bottom: 0;left: 50%;z-index: 0;}#sk-container-id-5 div.sk-serial {display: flex;flex-direction: column;align-items: center;background-color: white;padding-right: 0.2em;padding-left: 0.2em;position: relative;}#sk-container-id-5 div.sk-item {position: relative;z-index: 1;}#sk-container-id-5 div.sk-parallel {display: flex;align-items: stretch;justify-content: center;background-color: white;position: relative;}#sk-container-id-5 div.sk-item::before, #sk-container-id-5 div.sk-parallel-item::before {content: \"\";position: absolute;border-left: 1px solid gray;box-sizing: border-box;top: 0;bottom: 0;left: 50%;z-index: -1;}#sk-container-id-5 div.sk-parallel-item {display: flex;flex-direction: column;z-index: 1;position: relative;background-color: white;}#sk-container-id-5 div.sk-parallel-item:first-child::after {align-self: flex-end;width: 50%;}#sk-container-id-5 div.sk-parallel-item:last-child::after {align-self: flex-start;width: 50%;}#sk-container-id-5 div.sk-parallel-item:only-child::after {width: 0;}#sk-container-id-5 div.sk-dashed-wrapped {border: 1px dashed gray;margin: 0 0.4em 0.5em 0.4em;box-sizing: border-box;padding-bottom: 0.4em;background-color: white;}#sk-container-id-5 div.sk-label label {font-family: monospace;font-weight: bold;display: inline-block;line-height: 1.2em;}#sk-container-id-5 div.sk-label-container {text-align: center;}#sk-container-id-5 div.sk-container {/* jupyter's `normalize.less` sets `[hidden] { display: none; }` but bootstrap.min.css set `[hidden] { display: none !important; }` so we also need the `!important` here to be able to override the default hidden behavior on the sphinx rendered scikit-learn.org. See: https://github.com/scikit-learn/scikit-learn/issues/21755 */display: inline-block !important;position: relative;}#sk-container-id-5 div.sk-text-repr-fallback {display: none;}</style><div id=\"sk-container-id-5\" class=\"sk-top-container\"><div class=\"sk-text-repr-fallback\"><pre>DecisionTreeRegressor(random_state=42)</pre><b>In a Jupyter environment, please rerun this cell to show the HTML representation or trust the notebook. <br />On GitHub, the HTML representation is unable to render, please try loading this page with nbviewer.org.</b></div><div class=\"sk-container\" hidden><div class=\"sk-item\"><div class=\"sk-estimator sk-toggleable\"><input class=\"sk-toggleable__control sk-hidden--visually\" id=\"sk-estimator-id-5\" type=\"checkbox\" checked><label for=\"sk-estimator-id-5\" class=\"sk-toggleable__label sk-toggleable__label-arrow\">DecisionTreeRegressor</label><div class=\"sk-toggleable__content\"><pre>DecisionTreeRegressor(random_state=42)</pre></div></div></div></div></div>"
      ],
      "text/plain": [
       "DecisionTreeRegressor(random_state=42)"
      ]
     },
     "execution_count": 35,
     "metadata": {},
     "output_type": "execute_result"
    }
   ],
   "source": [
    "from sklearn.tree import DecisionTreeRegressor\n",
    "\n",
    "tree = DecisionTreeRegressor(random_state=42)\n",
    "\n",
    "tree.fit(x_train_transformed, y_train)"
   ]
  },
  {
   "cell_type": "code",
   "execution_count": 36,
   "id": "b770dd10",
   "metadata": {
    "execution": {
     "iopub.execute_input": "2024-01-07T10:47:55.315524Z",
     "iopub.status.busy": "2024-01-07T10:47:55.315003Z",
     "iopub.status.idle": "2024-01-07T10:47:55.324836Z",
     "shell.execute_reply": "2024-01-07T10:47:55.324211Z"
    },
    "papermill": {
     "duration": 0.034235,
     "end_time": "2024-01-07T10:47:55.326582",
     "exception": false,
     "start_time": "2024-01-07T10:47:55.292347",
     "status": "completed"
    },
    "tags": []
   },
   "outputs": [
    {
     "data": {
      "text/plain": [
       "1.0"
      ]
     },
     "execution_count": 36,
     "metadata": {},
     "output_type": "execute_result"
    }
   ],
   "source": [
    "tree.score(x_train_transformed, y_train)"
   ]
  },
  {
   "cell_type": "code",
   "execution_count": 37,
   "id": "8af7ebac",
   "metadata": {
    "execution": {
     "iopub.execute_input": "2024-01-07T10:47:55.373060Z",
     "iopub.status.busy": "2024-01-07T10:47:55.372743Z",
     "iopub.status.idle": "2024-01-07T10:47:55.408862Z",
     "shell.execute_reply": "2024-01-07T10:47:55.407730Z"
    },
    "papermill": {
     "duration": 0.061533,
     "end_time": "2024-01-07T10:47:55.411280",
     "exception": false,
     "start_time": "2024-01-07T10:47:55.349747",
     "status": "completed"
    },
    "tags": []
   },
   "outputs": [
    {
     "data": {
      "text/plain": [
       "0.7121026476392684"
      ]
     },
     "execution_count": 37,
     "metadata": {},
     "output_type": "execute_result"
    }
   ],
   "source": [
    "x_test_transformed = pipeline.transform(x_test)\n",
    "x_test_transformed = pd.DataFrame(x_test_transformed, columns=columns)\n",
    "categorical_imputer = SimpleImputer(strategy='most_frequent')\n",
    "x_test_transformed[ordinal] = categorical_imputer.fit_transform(x_test_transformed[ordinal])\n",
    "tree.score(x_test_transformed,y_test)"
   ]
  },
  {
   "cell_type": "markdown",
   "id": "4ab0ceef",
   "metadata": {
    "papermill": {
     "duration": 0.021526,
     "end_time": "2024-01-07T10:47:55.455294",
     "exception": false,
     "start_time": "2024-01-07T10:47:55.433768",
     "status": "completed"
    },
    "tags": []
   },
   "source": [
    "## Bagging"
   ]
  },
  {
   "cell_type": "code",
   "execution_count": 38,
   "id": "a48cde07",
   "metadata": {
    "execution": {
     "iopub.execute_input": "2024-01-07T10:47:55.501319Z",
     "iopub.status.busy": "2024-01-07T10:47:55.500051Z",
     "iopub.status.idle": "2024-01-07T10:47:55.788042Z",
     "shell.execute_reply": "2024-01-07T10:47:55.786620Z"
    },
    "papermill": {
     "duration": 0.313252,
     "end_time": "2024-01-07T10:47:55.790316",
     "exception": false,
     "start_time": "2024-01-07T10:47:55.477064",
     "status": "completed"
    },
    "tags": []
   },
   "outputs": [
    {
     "data": {
      "text/html": [
       "<style>#sk-container-id-6 {color: black;background-color: white;}#sk-container-id-6 pre{padding: 0;}#sk-container-id-6 div.sk-toggleable {background-color: white;}#sk-container-id-6 label.sk-toggleable__label {cursor: pointer;display: block;width: 100%;margin-bottom: 0;padding: 0.3em;box-sizing: border-box;text-align: center;}#sk-container-id-6 label.sk-toggleable__label-arrow:before {content: \"▸\";float: left;margin-right: 0.25em;color: #696969;}#sk-container-id-6 label.sk-toggleable__label-arrow:hover:before {color: black;}#sk-container-id-6 div.sk-estimator:hover label.sk-toggleable__label-arrow:before {color: black;}#sk-container-id-6 div.sk-toggleable__content {max-height: 0;max-width: 0;overflow: hidden;text-align: left;background-color: #f0f8ff;}#sk-container-id-6 div.sk-toggleable__content pre {margin: 0.2em;color: black;border-radius: 0.25em;background-color: #f0f8ff;}#sk-container-id-6 input.sk-toggleable__control:checked~div.sk-toggleable__content {max-height: 200px;max-width: 100%;overflow: auto;}#sk-container-id-6 input.sk-toggleable__control:checked~label.sk-toggleable__label-arrow:before {content: \"▾\";}#sk-container-id-6 div.sk-estimator input.sk-toggleable__control:checked~label.sk-toggleable__label {background-color: #d4ebff;}#sk-container-id-6 div.sk-label input.sk-toggleable__control:checked~label.sk-toggleable__label {background-color: #d4ebff;}#sk-container-id-6 input.sk-hidden--visually {border: 0;clip: rect(1px 1px 1px 1px);clip: rect(1px, 1px, 1px, 1px);height: 1px;margin: -1px;overflow: hidden;padding: 0;position: absolute;width: 1px;}#sk-container-id-6 div.sk-estimator {font-family: monospace;background-color: #f0f8ff;border: 1px dotted black;border-radius: 0.25em;box-sizing: border-box;margin-bottom: 0.5em;}#sk-container-id-6 div.sk-estimator:hover {background-color: #d4ebff;}#sk-container-id-6 div.sk-parallel-item::after {content: \"\";width: 100%;border-bottom: 1px solid gray;flex-grow: 1;}#sk-container-id-6 div.sk-label:hover label.sk-toggleable__label {background-color: #d4ebff;}#sk-container-id-6 div.sk-serial::before {content: \"\";position: absolute;border-left: 1px solid gray;box-sizing: border-box;top: 0;bottom: 0;left: 50%;z-index: 0;}#sk-container-id-6 div.sk-serial {display: flex;flex-direction: column;align-items: center;background-color: white;padding-right: 0.2em;padding-left: 0.2em;position: relative;}#sk-container-id-6 div.sk-item {position: relative;z-index: 1;}#sk-container-id-6 div.sk-parallel {display: flex;align-items: stretch;justify-content: center;background-color: white;position: relative;}#sk-container-id-6 div.sk-item::before, #sk-container-id-6 div.sk-parallel-item::before {content: \"\";position: absolute;border-left: 1px solid gray;box-sizing: border-box;top: 0;bottom: 0;left: 50%;z-index: -1;}#sk-container-id-6 div.sk-parallel-item {display: flex;flex-direction: column;z-index: 1;position: relative;background-color: white;}#sk-container-id-6 div.sk-parallel-item:first-child::after {align-self: flex-end;width: 50%;}#sk-container-id-6 div.sk-parallel-item:last-child::after {align-self: flex-start;width: 50%;}#sk-container-id-6 div.sk-parallel-item:only-child::after {width: 0;}#sk-container-id-6 div.sk-dashed-wrapped {border: 1px dashed gray;margin: 0 0.4em 0.5em 0.4em;box-sizing: border-box;padding-bottom: 0.4em;background-color: white;}#sk-container-id-6 div.sk-label label {font-family: monospace;font-weight: bold;display: inline-block;line-height: 1.2em;}#sk-container-id-6 div.sk-label-container {text-align: center;}#sk-container-id-6 div.sk-container {/* jupyter's `normalize.less` sets `[hidden] { display: none; }` but bootstrap.min.css set `[hidden] { display: none !important; }` so we also need the `!important` here to be able to override the default hidden behavior on the sphinx rendered scikit-learn.org. See: https://github.com/scikit-learn/scikit-learn/issues/21755 */display: inline-block !important;position: relative;}#sk-container-id-6 div.sk-text-repr-fallback {display: none;}</style><div id=\"sk-container-id-6\" class=\"sk-top-container\"><div class=\"sk-text-repr-fallback\"><pre>BaggingRegressor(estimator=DecisionTreeRegressor(), random_state=42)</pre><b>In a Jupyter environment, please rerun this cell to show the HTML representation or trust the notebook. <br />On GitHub, the HTML representation is unable to render, please try loading this page with nbviewer.org.</b></div><div class=\"sk-container\" hidden><div class=\"sk-item sk-dashed-wrapped\"><div class=\"sk-label-container\"><div class=\"sk-label sk-toggleable\"><input class=\"sk-toggleable__control sk-hidden--visually\" id=\"sk-estimator-id-6\" type=\"checkbox\" ><label for=\"sk-estimator-id-6\" class=\"sk-toggleable__label sk-toggleable__label-arrow\">BaggingRegressor</label><div class=\"sk-toggleable__content\"><pre>BaggingRegressor(estimator=DecisionTreeRegressor(), random_state=42)</pre></div></div></div><div class=\"sk-parallel\"><div class=\"sk-parallel-item\"><div class=\"sk-item\"><div class=\"sk-label-container\"><div class=\"sk-label sk-toggleable\"><input class=\"sk-toggleable__control sk-hidden--visually\" id=\"sk-estimator-id-7\" type=\"checkbox\" ><label for=\"sk-estimator-id-7\" class=\"sk-toggleable__label sk-toggleable__label-arrow\">estimator: DecisionTreeRegressor</label><div class=\"sk-toggleable__content\"><pre>DecisionTreeRegressor()</pre></div></div></div><div class=\"sk-serial\"><div class=\"sk-item\"><div class=\"sk-estimator sk-toggleable\"><input class=\"sk-toggleable__control sk-hidden--visually\" id=\"sk-estimator-id-8\" type=\"checkbox\" ><label for=\"sk-estimator-id-8\" class=\"sk-toggleable__label sk-toggleable__label-arrow\">DecisionTreeRegressor</label><div class=\"sk-toggleable__content\"><pre>DecisionTreeRegressor()</pre></div></div></div></div></div></div></div></div></div></div>"
      ],
      "text/plain": [
       "BaggingRegressor(estimator=DecisionTreeRegressor(), random_state=42)"
      ]
     },
     "execution_count": 38,
     "metadata": {},
     "output_type": "execute_result"
    }
   ],
   "source": [
    "from sklearn.ensemble import BaggingRegressor\n",
    "from sklearn.tree import DecisionTreeRegressor\n",
    "\n",
    "# Create a base regressor (you can use any regression model)\n",
    "base_regressor = DecisionTreeRegressor()\n",
    "\n",
    "# Create the BaggingRegressor\n",
    "bagging_regressor = BaggingRegressor(base_regressor, random_state=42)\n",
    "\n",
    "# Fit the model to the training data\n",
    "bagging_regressor.fit(x_train_transformed, y_train)"
   ]
  },
  {
   "cell_type": "code",
   "execution_count": 39,
   "id": "28122209",
   "metadata": {
    "execution": {
     "iopub.execute_input": "2024-01-07T10:47:55.836870Z",
     "iopub.status.busy": "2024-01-07T10:47:55.836545Z",
     "iopub.status.idle": "2024-01-07T10:47:55.854629Z",
     "shell.execute_reply": "2024-01-07T10:47:55.853435Z"
    },
    "papermill": {
     "duration": 0.043441,
     "end_time": "2024-01-07T10:47:55.856460",
     "exception": false,
     "start_time": "2024-01-07T10:47:55.813019",
     "status": "completed"
    },
    "tags": []
   },
   "outputs": [
    {
     "data": {
      "text/plain": [
       "0.9709709019508094"
      ]
     },
     "execution_count": 39,
     "metadata": {},
     "output_type": "execute_result"
    }
   ],
   "source": [
    "bagging_regressor.score(x_train_transformed,y_train)"
   ]
  },
  {
   "cell_type": "code",
   "execution_count": 40,
   "id": "f6045247",
   "metadata": {
    "execution": {
     "iopub.execute_input": "2024-01-07T10:47:55.904658Z",
     "iopub.status.busy": "2024-01-07T10:47:55.904326Z",
     "iopub.status.idle": "2024-01-07T10:47:55.944260Z",
     "shell.execute_reply": "2024-01-07T10:47:55.943470Z"
    },
    "papermill": {
     "duration": 0.065971,
     "end_time": "2024-01-07T10:47:55.945952",
     "exception": false,
     "start_time": "2024-01-07T10:47:55.879981",
     "status": "completed"
    },
    "tags": []
   },
   "outputs": [
    {
     "data": {
      "text/plain": [
       "0.8621051992851276"
      ]
     },
     "execution_count": 40,
     "metadata": {},
     "output_type": "execute_result"
    }
   ],
   "source": [
    "x_test_transformed = pipeline.transform(x_test)\n",
    "x_test_transformed = pd.DataFrame(x_test_transformed, columns=columns)\n",
    "categorical_imputer = SimpleImputer(strategy='most_frequent')\n",
    "x_test_transformed[ordinal] = categorical_imputer.fit_transform(x_test_transformed[ordinal])\n",
    "bagging_regressor.score(x_test_transformed,y_test)"
   ]
  },
  {
   "cell_type": "markdown",
   "id": "692ede51",
   "metadata": {
    "papermill": {
     "duration": 0.02224,
     "end_time": "2024-01-07T10:47:55.991577",
     "exception": false,
     "start_time": "2024-01-07T10:47:55.969337",
     "status": "completed"
    },
    "tags": []
   },
   "source": [
    "## Boosting"
   ]
  },
  {
   "cell_type": "code",
   "execution_count": 41,
   "id": "5e48adbe",
   "metadata": {
    "execution": {
     "iopub.execute_input": "2024-01-07T10:47:56.038587Z",
     "iopub.status.busy": "2024-01-07T10:47:56.037971Z",
     "iopub.status.idle": "2024-01-07T10:47:56.801039Z",
     "shell.execute_reply": "2024-01-07T10:47:56.800165Z"
    },
    "papermill": {
     "duration": 0.78866,
     "end_time": "2024-01-07T10:47:56.802771",
     "exception": false,
     "start_time": "2024-01-07T10:47:56.014111",
     "status": "completed"
    },
    "tags": []
   },
   "outputs": [
    {
     "data": {
      "text/html": [
       "<style>#sk-container-id-7 {color: black;background-color: white;}#sk-container-id-7 pre{padding: 0;}#sk-container-id-7 div.sk-toggleable {background-color: white;}#sk-container-id-7 label.sk-toggleable__label {cursor: pointer;display: block;width: 100%;margin-bottom: 0;padding: 0.3em;box-sizing: border-box;text-align: center;}#sk-container-id-7 label.sk-toggleable__label-arrow:before {content: \"▸\";float: left;margin-right: 0.25em;color: #696969;}#sk-container-id-7 label.sk-toggleable__label-arrow:hover:before {color: black;}#sk-container-id-7 div.sk-estimator:hover label.sk-toggleable__label-arrow:before {color: black;}#sk-container-id-7 div.sk-toggleable__content {max-height: 0;max-width: 0;overflow: hidden;text-align: left;background-color: #f0f8ff;}#sk-container-id-7 div.sk-toggleable__content pre {margin: 0.2em;color: black;border-radius: 0.25em;background-color: #f0f8ff;}#sk-container-id-7 input.sk-toggleable__control:checked~div.sk-toggleable__content {max-height: 200px;max-width: 100%;overflow: auto;}#sk-container-id-7 input.sk-toggleable__control:checked~label.sk-toggleable__label-arrow:before {content: \"▾\";}#sk-container-id-7 div.sk-estimator input.sk-toggleable__control:checked~label.sk-toggleable__label {background-color: #d4ebff;}#sk-container-id-7 div.sk-label input.sk-toggleable__control:checked~label.sk-toggleable__label {background-color: #d4ebff;}#sk-container-id-7 input.sk-hidden--visually {border: 0;clip: rect(1px 1px 1px 1px);clip: rect(1px, 1px, 1px, 1px);height: 1px;margin: -1px;overflow: hidden;padding: 0;position: absolute;width: 1px;}#sk-container-id-7 div.sk-estimator {font-family: monospace;background-color: #f0f8ff;border: 1px dotted black;border-radius: 0.25em;box-sizing: border-box;margin-bottom: 0.5em;}#sk-container-id-7 div.sk-estimator:hover {background-color: #d4ebff;}#sk-container-id-7 div.sk-parallel-item::after {content: \"\";width: 100%;border-bottom: 1px solid gray;flex-grow: 1;}#sk-container-id-7 div.sk-label:hover label.sk-toggleable__label {background-color: #d4ebff;}#sk-container-id-7 div.sk-serial::before {content: \"\";position: absolute;border-left: 1px solid gray;box-sizing: border-box;top: 0;bottom: 0;left: 50%;z-index: 0;}#sk-container-id-7 div.sk-serial {display: flex;flex-direction: column;align-items: center;background-color: white;padding-right: 0.2em;padding-left: 0.2em;position: relative;}#sk-container-id-7 div.sk-item {position: relative;z-index: 1;}#sk-container-id-7 div.sk-parallel {display: flex;align-items: stretch;justify-content: center;background-color: white;position: relative;}#sk-container-id-7 div.sk-item::before, #sk-container-id-7 div.sk-parallel-item::before {content: \"\";position: absolute;border-left: 1px solid gray;box-sizing: border-box;top: 0;bottom: 0;left: 50%;z-index: -1;}#sk-container-id-7 div.sk-parallel-item {display: flex;flex-direction: column;z-index: 1;position: relative;background-color: white;}#sk-container-id-7 div.sk-parallel-item:first-child::after {align-self: flex-end;width: 50%;}#sk-container-id-7 div.sk-parallel-item:last-child::after {align-self: flex-start;width: 50%;}#sk-container-id-7 div.sk-parallel-item:only-child::after {width: 0;}#sk-container-id-7 div.sk-dashed-wrapped {border: 1px dashed gray;margin: 0 0.4em 0.5em 0.4em;box-sizing: border-box;padding-bottom: 0.4em;background-color: white;}#sk-container-id-7 div.sk-label label {font-family: monospace;font-weight: bold;display: inline-block;line-height: 1.2em;}#sk-container-id-7 div.sk-label-container {text-align: center;}#sk-container-id-7 div.sk-container {/* jupyter's `normalize.less` sets `[hidden] { display: none; }` but bootstrap.min.css set `[hidden] { display: none !important; }` so we also need the `!important` here to be able to override the default hidden behavior on the sphinx rendered scikit-learn.org. See: https://github.com/scikit-learn/scikit-learn/issues/21755 */display: inline-block !important;position: relative;}#sk-container-id-7 div.sk-text-repr-fallback {display: none;}</style><div id=\"sk-container-id-7\" class=\"sk-top-container\"><div class=\"sk-text-repr-fallback\"><pre>GradientBoostingRegressor()</pre><b>In a Jupyter environment, please rerun this cell to show the HTML representation or trust the notebook. <br />On GitHub, the HTML representation is unable to render, please try loading this page with nbviewer.org.</b></div><div class=\"sk-container\" hidden><div class=\"sk-item\"><div class=\"sk-estimator sk-toggleable\"><input class=\"sk-toggleable__control sk-hidden--visually\" id=\"sk-estimator-id-9\" type=\"checkbox\" checked><label for=\"sk-estimator-id-9\" class=\"sk-toggleable__label sk-toggleable__label-arrow\">GradientBoostingRegressor</label><div class=\"sk-toggleable__content\"><pre>GradientBoostingRegressor()</pre></div></div></div></div></div>"
      ],
      "text/plain": [
       "GradientBoostingRegressor()"
      ]
     },
     "execution_count": 41,
     "metadata": {},
     "output_type": "execute_result"
    }
   ],
   "source": [
    "from sklearn.ensemble import GradientBoostingRegressor\n",
    "boo = GradientBoostingRegressor()\n",
    "boo.fit(x_train_transformed, y_train)"
   ]
  },
  {
   "cell_type": "code",
   "execution_count": 42,
   "id": "17160673",
   "metadata": {
    "execution": {
     "iopub.execute_input": "2024-01-07T10:47:56.851333Z",
     "iopub.status.busy": "2024-01-07T10:47:56.850381Z",
     "iopub.status.idle": "2024-01-07T10:47:56.863262Z",
     "shell.execute_reply": "2024-01-07T10:47:56.862089Z"
    },
    "papermill": {
     "duration": 0.038812,
     "end_time": "2024-01-07T10:47:56.864964",
     "exception": false,
     "start_time": "2024-01-07T10:47:56.826152",
     "status": "completed"
    },
    "tags": []
   },
   "outputs": [
    {
     "data": {
      "text/plain": [
       "0.9635812783148133"
      ]
     },
     "execution_count": 42,
     "metadata": {},
     "output_type": "execute_result"
    }
   ],
   "source": [
    "boo.score(x_train_transformed, y_train)"
   ]
  },
  {
   "cell_type": "code",
   "execution_count": 43,
   "id": "74ca4f05",
   "metadata": {
    "execution": {
     "iopub.execute_input": "2024-01-07T10:47:56.914731Z",
     "iopub.status.busy": "2024-01-07T10:47:56.914382Z",
     "iopub.status.idle": "2024-01-07T10:47:56.953738Z",
     "shell.execute_reply": "2024-01-07T10:47:56.952771Z"
    },
    "papermill": {
     "duration": 0.066333,
     "end_time": "2024-01-07T10:47:56.955603",
     "exception": false,
     "start_time": "2024-01-07T10:47:56.889270",
     "status": "completed"
    },
    "tags": []
   },
   "outputs": [
    {
     "data": {
      "text/plain": [
       "0.8928908715579231"
      ]
     },
     "execution_count": 43,
     "metadata": {},
     "output_type": "execute_result"
    }
   ],
   "source": [
    "x_test_transformed = pipeline.transform(x_test)\n",
    "x_test_transformed = pd.DataFrame(x_test_transformed, columns=columns)\n",
    "categorical_imputer = SimpleImputer(strategy='most_frequent')\n",
    "x_test_transformed[ordinal] = categorical_imputer.fit_transform(x_test_transformed[ordinal])\n",
    "boo.score(x_test_transformed,y_test)"
   ]
  },
  {
   "cell_type": "markdown",
   "id": "aba47505",
   "metadata": {
    "papermill": {
     "duration": 0.02375,
     "end_time": "2024-01-07T10:47:57.003236",
     "exception": false,
     "start_time": "2024-01-07T10:47:56.979486",
     "status": "completed"
    },
    "tags": []
   },
   "source": [
    "## RANDOM FOREST REGRESSOR"
   ]
  },
  {
   "cell_type": "code",
   "execution_count": 44,
   "id": "573afe73",
   "metadata": {
    "execution": {
     "iopub.execute_input": "2024-01-07T10:47:57.052974Z",
     "iopub.status.busy": "2024-01-07T10:47:57.052668Z",
     "iopub.status.idle": "2024-01-07T10:47:58.767766Z",
     "shell.execute_reply": "2024-01-07T10:47:58.766764Z"
    },
    "papermill": {
     "duration": 1.742464,
     "end_time": "2024-01-07T10:47:58.769766",
     "exception": false,
     "start_time": "2024-01-07T10:47:57.027302",
     "status": "completed"
    },
    "tags": []
   },
   "outputs": [
    {
     "data": {
      "text/html": [
       "<style>#sk-container-id-8 {color: black;background-color: white;}#sk-container-id-8 pre{padding: 0;}#sk-container-id-8 div.sk-toggleable {background-color: white;}#sk-container-id-8 label.sk-toggleable__label {cursor: pointer;display: block;width: 100%;margin-bottom: 0;padding: 0.3em;box-sizing: border-box;text-align: center;}#sk-container-id-8 label.sk-toggleable__label-arrow:before {content: \"▸\";float: left;margin-right: 0.25em;color: #696969;}#sk-container-id-8 label.sk-toggleable__label-arrow:hover:before {color: black;}#sk-container-id-8 div.sk-estimator:hover label.sk-toggleable__label-arrow:before {color: black;}#sk-container-id-8 div.sk-toggleable__content {max-height: 0;max-width: 0;overflow: hidden;text-align: left;background-color: #f0f8ff;}#sk-container-id-8 div.sk-toggleable__content pre {margin: 0.2em;color: black;border-radius: 0.25em;background-color: #f0f8ff;}#sk-container-id-8 input.sk-toggleable__control:checked~div.sk-toggleable__content {max-height: 200px;max-width: 100%;overflow: auto;}#sk-container-id-8 input.sk-toggleable__control:checked~label.sk-toggleable__label-arrow:before {content: \"▾\";}#sk-container-id-8 div.sk-estimator input.sk-toggleable__control:checked~label.sk-toggleable__label {background-color: #d4ebff;}#sk-container-id-8 div.sk-label input.sk-toggleable__control:checked~label.sk-toggleable__label {background-color: #d4ebff;}#sk-container-id-8 input.sk-hidden--visually {border: 0;clip: rect(1px 1px 1px 1px);clip: rect(1px, 1px, 1px, 1px);height: 1px;margin: -1px;overflow: hidden;padding: 0;position: absolute;width: 1px;}#sk-container-id-8 div.sk-estimator {font-family: monospace;background-color: #f0f8ff;border: 1px dotted black;border-radius: 0.25em;box-sizing: border-box;margin-bottom: 0.5em;}#sk-container-id-8 div.sk-estimator:hover {background-color: #d4ebff;}#sk-container-id-8 div.sk-parallel-item::after {content: \"\";width: 100%;border-bottom: 1px solid gray;flex-grow: 1;}#sk-container-id-8 div.sk-label:hover label.sk-toggleable__label {background-color: #d4ebff;}#sk-container-id-8 div.sk-serial::before {content: \"\";position: absolute;border-left: 1px solid gray;box-sizing: border-box;top: 0;bottom: 0;left: 50%;z-index: 0;}#sk-container-id-8 div.sk-serial {display: flex;flex-direction: column;align-items: center;background-color: white;padding-right: 0.2em;padding-left: 0.2em;position: relative;}#sk-container-id-8 div.sk-item {position: relative;z-index: 1;}#sk-container-id-8 div.sk-parallel {display: flex;align-items: stretch;justify-content: center;background-color: white;position: relative;}#sk-container-id-8 div.sk-item::before, #sk-container-id-8 div.sk-parallel-item::before {content: \"\";position: absolute;border-left: 1px solid gray;box-sizing: border-box;top: 0;bottom: 0;left: 50%;z-index: -1;}#sk-container-id-8 div.sk-parallel-item {display: flex;flex-direction: column;z-index: 1;position: relative;background-color: white;}#sk-container-id-8 div.sk-parallel-item:first-child::after {align-self: flex-end;width: 50%;}#sk-container-id-8 div.sk-parallel-item:last-child::after {align-self: flex-start;width: 50%;}#sk-container-id-8 div.sk-parallel-item:only-child::after {width: 0;}#sk-container-id-8 div.sk-dashed-wrapped {border: 1px dashed gray;margin: 0 0.4em 0.5em 0.4em;box-sizing: border-box;padding-bottom: 0.4em;background-color: white;}#sk-container-id-8 div.sk-label label {font-family: monospace;font-weight: bold;display: inline-block;line-height: 1.2em;}#sk-container-id-8 div.sk-label-container {text-align: center;}#sk-container-id-8 div.sk-container {/* jupyter's `normalize.less` sets `[hidden] { display: none; }` but bootstrap.min.css set `[hidden] { display: none !important; }` so we also need the `!important` here to be able to override the default hidden behavior on the sphinx rendered scikit-learn.org. See: https://github.com/scikit-learn/scikit-learn/issues/21755 */display: inline-block !important;position: relative;}#sk-container-id-8 div.sk-text-repr-fallback {display: none;}</style><div id=\"sk-container-id-8\" class=\"sk-top-container\"><div class=\"sk-text-repr-fallback\"><pre>RandomForestRegressor()</pre><b>In a Jupyter environment, please rerun this cell to show the HTML representation or trust the notebook. <br />On GitHub, the HTML representation is unable to render, please try loading this page with nbviewer.org.</b></div><div class=\"sk-container\" hidden><div class=\"sk-item\"><div class=\"sk-estimator sk-toggleable\"><input class=\"sk-toggleable__control sk-hidden--visually\" id=\"sk-estimator-id-10\" type=\"checkbox\" checked><label for=\"sk-estimator-id-10\" class=\"sk-toggleable__label sk-toggleable__label-arrow\">RandomForestRegressor</label><div class=\"sk-toggleable__content\"><pre>RandomForestRegressor()</pre></div></div></div></div></div>"
      ],
      "text/plain": [
       "RandomForestRegressor()"
      ]
     },
     "execution_count": 44,
     "metadata": {},
     "output_type": "execute_result"
    }
   ],
   "source": [
    "from sklearn.ensemble import RandomForestRegressor\n",
    "regr = RandomForestRegressor()\n",
    "regr.fit(x_train_transformed, y_train)"
   ]
  },
  {
   "cell_type": "code",
   "execution_count": 45,
   "id": "9bf7a843",
   "metadata": {
    "execution": {
     "iopub.execute_input": "2024-01-07T10:47:58.820819Z",
     "iopub.status.busy": "2024-01-07T10:47:58.820490Z",
     "iopub.status.idle": "2024-01-07T10:47:58.848999Z",
     "shell.execute_reply": "2024-01-07T10:47:58.848100Z"
    },
    "papermill": {
     "duration": 0.056987,
     "end_time": "2024-01-07T10:47:58.850810",
     "exception": false,
     "start_time": "2024-01-07T10:47:58.793823",
     "status": "completed"
    },
    "tags": []
   },
   "outputs": [
    {
     "data": {
      "text/plain": [
       "0.9822402000275372"
      ]
     },
     "execution_count": 45,
     "metadata": {},
     "output_type": "execute_result"
    }
   ],
   "source": [
    "regr.score(x_train_transformed, y_train)"
   ]
  },
  {
   "cell_type": "code",
   "execution_count": 46,
   "id": "47d4385a",
   "metadata": {
    "execution": {
     "iopub.execute_input": "2024-01-07T10:47:58.897775Z",
     "iopub.status.busy": "2024-01-07T10:47:58.897419Z",
     "iopub.status.idle": "2024-01-07T10:47:58.942413Z",
     "shell.execute_reply": "2024-01-07T10:47:58.941359Z"
    },
    "papermill": {
     "duration": 0.070686,
     "end_time": "2024-01-07T10:47:58.944473",
     "exception": false,
     "start_time": "2024-01-07T10:47:58.873787",
     "status": "completed"
    },
    "tags": []
   },
   "outputs": [
    {
     "data": {
      "text/plain": [
       "0.8693239308320239"
      ]
     },
     "execution_count": 46,
     "metadata": {},
     "output_type": "execute_result"
    }
   ],
   "source": [
    "x_test_transformed = pipeline.transform(x_test)\n",
    "x_test_transformed = pd.DataFrame(x_test_transformed, columns=columns)\n",
    "categorical_imputer = SimpleImputer(strategy='most_frequent')\n",
    "x_test_transformed[ordinal] = categorical_imputer.fit_transform(x_test_transformed[ordinal])\n",
    "regr.score(x_test_transformed,y_test)"
   ]
  },
  {
   "cell_type": "markdown",
   "id": "157fd1a3",
   "metadata": {
    "papermill": {
     "duration": 0.02368,
     "end_time": "2024-01-07T10:47:58.991016",
     "exception": false,
     "start_time": "2024-01-07T10:47:58.967336",
     "status": "completed"
    },
    "tags": []
   },
   "source": [
    "## MLR Model"
   ]
  },
  {
   "cell_type": "code",
   "execution_count": 47,
   "id": "abb4a657",
   "metadata": {
    "execution": {
     "iopub.execute_input": "2024-01-07T10:47:59.038381Z",
     "iopub.status.busy": "2024-01-07T10:47:59.038032Z",
     "iopub.status.idle": "2024-01-07T10:48:00.742436Z",
     "shell.execute_reply": "2024-01-07T10:48:00.741677Z"
    },
    "papermill": {
     "duration": 1.730675,
     "end_time": "2024-01-07T10:48:00.744607",
     "exception": false,
     "start_time": "2024-01-07T10:47:59.013932",
     "status": "completed"
    },
    "tags": []
   },
   "outputs": [
    {
     "data": {
      "text/html": [
       "<style>#sk-container-id-9 {color: black;background-color: white;}#sk-container-id-9 pre{padding: 0;}#sk-container-id-9 div.sk-toggleable {background-color: white;}#sk-container-id-9 label.sk-toggleable__label {cursor: pointer;display: block;width: 100%;margin-bottom: 0;padding: 0.3em;box-sizing: border-box;text-align: center;}#sk-container-id-9 label.sk-toggleable__label-arrow:before {content: \"▸\";float: left;margin-right: 0.25em;color: #696969;}#sk-container-id-9 label.sk-toggleable__label-arrow:hover:before {color: black;}#sk-container-id-9 div.sk-estimator:hover label.sk-toggleable__label-arrow:before {color: black;}#sk-container-id-9 div.sk-toggleable__content {max-height: 0;max-width: 0;overflow: hidden;text-align: left;background-color: #f0f8ff;}#sk-container-id-9 div.sk-toggleable__content pre {margin: 0.2em;color: black;border-radius: 0.25em;background-color: #f0f8ff;}#sk-container-id-9 input.sk-toggleable__control:checked~div.sk-toggleable__content {max-height: 200px;max-width: 100%;overflow: auto;}#sk-container-id-9 input.sk-toggleable__control:checked~label.sk-toggleable__label-arrow:before {content: \"▾\";}#sk-container-id-9 div.sk-estimator input.sk-toggleable__control:checked~label.sk-toggleable__label {background-color: #d4ebff;}#sk-container-id-9 div.sk-label input.sk-toggleable__control:checked~label.sk-toggleable__label {background-color: #d4ebff;}#sk-container-id-9 input.sk-hidden--visually {border: 0;clip: rect(1px 1px 1px 1px);clip: rect(1px, 1px, 1px, 1px);height: 1px;margin: -1px;overflow: hidden;padding: 0;position: absolute;width: 1px;}#sk-container-id-9 div.sk-estimator {font-family: monospace;background-color: #f0f8ff;border: 1px dotted black;border-radius: 0.25em;box-sizing: border-box;margin-bottom: 0.5em;}#sk-container-id-9 div.sk-estimator:hover {background-color: #d4ebff;}#sk-container-id-9 div.sk-parallel-item::after {content: \"\";width: 100%;border-bottom: 1px solid gray;flex-grow: 1;}#sk-container-id-9 div.sk-label:hover label.sk-toggleable__label {background-color: #d4ebff;}#sk-container-id-9 div.sk-serial::before {content: \"\";position: absolute;border-left: 1px solid gray;box-sizing: border-box;top: 0;bottom: 0;left: 50%;z-index: 0;}#sk-container-id-9 div.sk-serial {display: flex;flex-direction: column;align-items: center;background-color: white;padding-right: 0.2em;padding-left: 0.2em;position: relative;}#sk-container-id-9 div.sk-item {position: relative;z-index: 1;}#sk-container-id-9 div.sk-parallel {display: flex;align-items: stretch;justify-content: center;background-color: white;position: relative;}#sk-container-id-9 div.sk-item::before, #sk-container-id-9 div.sk-parallel-item::before {content: \"\";position: absolute;border-left: 1px solid gray;box-sizing: border-box;top: 0;bottom: 0;left: 50%;z-index: -1;}#sk-container-id-9 div.sk-parallel-item {display: flex;flex-direction: column;z-index: 1;position: relative;background-color: white;}#sk-container-id-9 div.sk-parallel-item:first-child::after {align-self: flex-end;width: 50%;}#sk-container-id-9 div.sk-parallel-item:last-child::after {align-self: flex-start;width: 50%;}#sk-container-id-9 div.sk-parallel-item:only-child::after {width: 0;}#sk-container-id-9 div.sk-dashed-wrapped {border: 1px dashed gray;margin: 0 0.4em 0.5em 0.4em;box-sizing: border-box;padding-bottom: 0.4em;background-color: white;}#sk-container-id-9 div.sk-label label {font-family: monospace;font-weight: bold;display: inline-block;line-height: 1.2em;}#sk-container-id-9 div.sk-label-container {text-align: center;}#sk-container-id-9 div.sk-container {/* jupyter's `normalize.less` sets `[hidden] { display: none; }` but bootstrap.min.css set `[hidden] { display: none !important; }` so we also need the `!important` here to be able to override the default hidden behavior on the sphinx rendered scikit-learn.org. See: https://github.com/scikit-learn/scikit-learn/issues/21755 */display: inline-block !important;position: relative;}#sk-container-id-9 div.sk-text-repr-fallback {display: none;}</style><div id=\"sk-container-id-9\" class=\"sk-top-container\"><div class=\"sk-text-repr-fallback\"><pre>MLPRegressor(max_iter=1000)</pre><b>In a Jupyter environment, please rerun this cell to show the HTML representation or trust the notebook. <br />On GitHub, the HTML representation is unable to render, please try loading this page with nbviewer.org.</b></div><div class=\"sk-container\" hidden><div class=\"sk-item\"><div class=\"sk-estimator sk-toggleable\"><input class=\"sk-toggleable__control sk-hidden--visually\" id=\"sk-estimator-id-11\" type=\"checkbox\" checked><label for=\"sk-estimator-id-11\" class=\"sk-toggleable__label sk-toggleable__label-arrow\">MLPRegressor</label><div class=\"sk-toggleable__content\"><pre>MLPRegressor(max_iter=1000)</pre></div></div></div></div></div>"
      ],
      "text/plain": [
       "MLPRegressor(max_iter=1000)"
      ]
     },
     "execution_count": 47,
     "metadata": {},
     "output_type": "execute_result"
    }
   ],
   "source": [
    "from sklearn.neural_network import MLPRegressor\n",
    "mlp = MLPRegressor(max_iter = 1000)\n",
    "mlp.fit(x_train_transformed,y_train)"
   ]
  },
  {
   "cell_type": "code",
   "execution_count": 48,
   "id": "194bc6c3",
   "metadata": {
    "execution": {
     "iopub.execute_input": "2024-01-07T10:48:00.809028Z",
     "iopub.status.busy": "2024-01-07T10:48:00.807806Z",
     "iopub.status.idle": "2024-01-07T10:48:00.822068Z",
     "shell.execute_reply": "2024-01-07T10:48:00.821254Z"
    },
    "papermill": {
     "duration": 0.048548,
     "end_time": "2024-01-07T10:48:00.824228",
     "exception": false,
     "start_time": "2024-01-07T10:48:00.775680",
     "status": "completed"
    },
    "tags": []
   },
   "outputs": [
    {
     "data": {
      "text/plain": [
       "0.9364814645698413"
      ]
     },
     "execution_count": 48,
     "metadata": {},
     "output_type": "execute_result"
    }
   ],
   "source": [
    "mlp.score(x_train_transformed, y_train)"
   ]
  },
  {
   "cell_type": "code",
   "execution_count": 49,
   "id": "7e9ab282",
   "metadata": {
    "execution": {
     "iopub.execute_input": "2024-01-07T10:48:00.885672Z",
     "iopub.status.busy": "2024-01-07T10:48:00.885318Z",
     "iopub.status.idle": "2024-01-07T10:48:00.935383Z",
     "shell.execute_reply": "2024-01-07T10:48:00.934639Z"
    },
    "papermill": {
     "duration": 0.082826,
     "end_time": "2024-01-07T10:48:00.937594",
     "exception": false,
     "start_time": "2024-01-07T10:48:00.854768",
     "status": "completed"
    },
    "tags": []
   },
   "outputs": [
    {
     "data": {
      "text/plain": [
       "0.290563337736255"
      ]
     },
     "execution_count": 49,
     "metadata": {},
     "output_type": "execute_result"
    }
   ],
   "source": [
    "mlp.score(x_test_transformed, y_test)"
   ]
  },
  {
   "cell_type": "markdown",
   "id": "2c849c89",
   "metadata": {
    "papermill": {
     "duration": 0.037764,
     "end_time": "2024-01-07T10:48:01.005812",
     "exception": false,
     "start_time": "2024-01-07T10:48:00.968048",
     "status": "completed"
    },
    "tags": []
   },
   "source": [
    "**The test scores of above models are**\n",
    "\n",
    "linear reg:    -1.02\n",
    "\n",
    "ridge:         0.74\n",
    "\n",
    "KNN:           0.87\n",
    "\n",
    "SVR:           0.85\n",
    "\n",
    "desicion tree: 0.71\n",
    "\n",
    "Bagging:       0.86\n",
    "\n",
    "Boosting:     0.887\n",
    "\n",
    "Random forest: 0.878\n",
    "\n",
    "MLP:           0.43\n",
    "\n",
    "**The best model without hypertuining is Boosting**"
   ]
  },
  {
   "cell_type": "code",
   "execution_count": 50,
   "id": "7ee73508",
   "metadata": {
    "execution": {
     "iopub.execute_input": "2024-01-07T10:48:01.068110Z",
     "iopub.status.busy": "2024-01-07T10:48:01.067795Z",
     "iopub.status.idle": "2024-01-07T10:48:01.300478Z",
     "shell.execute_reply": "2024-01-07T10:48:01.299461Z"
    },
    "papermill": {
     "duration": 0.263823,
     "end_time": "2024-01-07T10:48:01.302261",
     "exception": false,
     "start_time": "2024-01-07T10:48:01.038438",
     "status": "completed"
    },
    "tags": []
   },
   "outputs": [
    {
     "data": {
      "image/png": "[encoded data removed]",
      "text/plain": [
       "<Figure size 1000x600 with 1 Axes>"
      ]
     },
     "metadata": {},
     "output_type": "display_data"
    }
   ],
   "source": [
    "q1 = ['ridge', 'KNN', 'SVR', 'desicion_tree', 'Bagging', 'Boosting', 'Random_forest', 'MLP']\n",
    "q2 = [ 0.74, 0.87, 0.85, 0.71, 0.86, 0.887, 0.878, 0.43]\n",
    "\n",
    "import matplotlib.pyplot as plt\n",
    "\n",
    "plt.figure(figsize=(10, 6))\n",
    "plt.scatter(q1, q2, color='green', alpha=0.5)\n",
    "plt.title('Scatter Plot of models vs test score')\n",
    "plt.xlabel('model')\n",
    "plt.ylabel('test score')\n",
    "plt.grid(True)\n",
    "plt.show()\n"
   ]
  },
  {
   "cell_type": "markdown",
   "id": "ef89e943",
   "metadata": {
    "papermill": {
     "duration": 0.023445,
     "end_time": "2024-01-07T10:48:01.349379",
     "exception": false,
     "start_time": "2024-01-07T10:48:01.325934",
     "status": "completed"
    },
    "tags": []
   },
   "source": [
    "# Hypertunning"
   ]
  },
  {
   "cell_type": "code",
   "execution_count": 51,
   "id": "c6ceb2d1",
   "metadata": {
    "execution": {
     "iopub.execute_input": "2024-01-07T10:48:01.403245Z",
     "iopub.status.busy": "2024-01-07T10:48:01.402876Z",
     "iopub.status.idle": "2024-01-07T10:48:01.407631Z",
     "shell.execute_reply": "2024-01-07T10:48:01.406517Z"
    },
    "papermill": {
     "duration": 0.035691,
     "end_time": "2024-01-07T10:48:01.410321",
     "exception": false,
     "start_time": "2024-01-07T10:48:01.374630",
     "status": "completed"
    },
    "tags": []
   },
   "outputs": [],
   "source": [
    "import warnings\n",
    "warnings.filterwarnings(\"ignore\")"
   ]
  },
  {
   "cell_type": "markdown",
   "id": "92922690",
   "metadata": {
    "papermill": {
     "duration": 0.023457,
     "end_time": "2024-01-07T10:48:01.458169",
     "exception": false,
     "start_time": "2024-01-07T10:48:01.434712",
     "status": "completed"
    },
    "tags": []
   },
   "source": [
    "## DECISION TREE REGRESSOR"
   ]
  },
  {
   "cell_type": "code",
   "execution_count": 52,
   "id": "e2c8ee86",
   "metadata": {
    "execution": {
     "iopub.execute_input": "2024-01-07T10:48:01.507219Z",
     "iopub.status.busy": "2024-01-07T10:48:01.506894Z",
     "iopub.status.idle": "2024-01-07T10:48:01.512026Z",
     "shell.execute_reply": "2024-01-07T10:48:01.511000Z"
    },
    "papermill": {
     "duration": 0.031807,
     "end_time": "2024-01-07T10:48:01.513803",
     "exception": false,
     "start_time": "2024-01-07T10:48:01.481996",
     "status": "completed"
    },
    "tags": []
   },
   "outputs": [],
   "source": [
    "p_grid ={ 'max_depth': [10, 20, 30, 40],\n",
    "    'min_samples_split': [5, 10,15, 20],\n",
    "    'min_samples_leaf': [5, 10,15,20], }"
   ]
  },
  {
   "cell_type": "code",
   "execution_count": 53,
   "id": "5e0ef6d8",
   "metadata": {
    "execution": {
     "iopub.execute_input": "2024-01-07T10:48:01.562565Z",
     "iopub.status.busy": "2024-01-07T10:48:01.562227Z",
     "iopub.status.idle": "2024-01-07T10:48:07.054429Z",
     "shell.execute_reply": "2024-01-07T10:48:07.053247Z"
    },
    "papermill": {
     "duration": 5.519084,
     "end_time": "2024-01-07T10:48:07.056066",
     "exception": false,
     "start_time": "2024-01-07T10:48:01.536982",
     "status": "completed"
    },
    "tags": []
   },
   "outputs": [
    {
     "data": {
      "text/html": [
       "<style>#sk-container-id-10 {color: black;background-color: white;}#sk-container-id-10 pre{padding: 0;}#sk-container-id-10 div.sk-toggleable {background-color: white;}#sk-container-id-10 label.sk-toggleable__label {cursor: pointer;display: block;width: 100%;margin-bottom: 0;padding: 0.3em;box-sizing: border-box;text-align: center;}#sk-container-id-10 label.sk-toggleable__label-arrow:before {content: \"▸\";float: left;margin-right: 0.25em;color: #696969;}#sk-container-id-10 label.sk-toggleable__label-arrow:hover:before {color: black;}#sk-container-id-10 div.sk-estimator:hover label.sk-toggleable__label-arrow:before {color: black;}#sk-container-id-10 div.sk-toggleable__content {max-height: 0;max-width: 0;overflow: hidden;text-align: left;background-color: #f0f8ff;}#sk-container-id-10 div.sk-toggleable__content pre {margin: 0.2em;color: black;border-radius: 0.25em;background-color: #f0f8ff;}#sk-container-id-10 input.sk-toggleable__control:checked~div.sk-toggleable__content {max-height: 200px;max-width: 100%;overflow: auto;}#sk-container-id-10 input.sk-toggleable__control:checked~label.sk-toggleable__label-arrow:before {content: \"▾\";}#sk-container-id-10 div.sk-estimator input.sk-toggleable__control:checked~label.sk-toggleable__label {background-color: #d4ebff;}#sk-container-id-10 div.sk-label input.sk-toggleable__control:checked~label.sk-toggleable__label {background-color: #d4ebff;}#sk-container-id-10 input.sk-hidden--visually {border: 0;clip: rect(1px 1px 1px 1px);clip: rect(1px, 1px, 1px, 1px);height: 1px;margin: -1px;overflow: hidden;padding: 0;position: absolute;width: 1px;}#sk-container-id-10 div.sk-estimator {font-family: monospace;background-color: #f0f8ff;border: 1px dotted black;border-radius: 0.25em;box-sizing: border-box;margin-bottom: 0.5em;}#sk-container-id-10 div.sk-estimator:hover {background-color: #d4ebff;}#sk-container-id-10 div.sk-parallel-item::after {content: \"\";width: 100%;border-bottom: 1px solid gray;flex-grow: 1;}#sk-container-id-10 div.sk-label:hover label.sk-toggleable__label {background-color: #d4ebff;}#sk-container-id-10 div.sk-serial::before {content: \"\";position: absolute;border-left: 1px solid gray;box-sizing: border-box;top: 0;bottom: 0;left: 50%;z-index: 0;}#sk-container-id-10 div.sk-serial {display: flex;flex-direction: column;align-items: center;background-color: white;padding-right: 0.2em;padding-left: 0.2em;position: relative;}#sk-container-id-10 div.sk-item {position: relative;z-index: 1;}#sk-container-id-10 div.sk-parallel {display: flex;align-items: stretch;justify-content: center;background-color: white;position: relative;}#sk-container-id-10 div.sk-item::before, #sk-container-id-10 div.sk-parallel-item::before {content: \"\";position: absolute;border-left: 1px solid gray;box-sizing: border-box;top: 0;bottom: 0;left: 50%;z-index: -1;}#sk-container-id-10 div.sk-parallel-item {display: flex;flex-direction: column;z-index: 1;position: relative;background-color: white;}#sk-container-id-10 div.sk-parallel-item:first-child::after {align-self: flex-end;width: 50%;}#sk-container-id-10 div.sk-parallel-item:last-child::after {align-self: flex-start;width: 50%;}#sk-container-id-10 div.sk-parallel-item:only-child::after {width: 0;}#sk-container-id-10 div.sk-dashed-wrapped {border: 1px dashed gray;margin: 0 0.4em 0.5em 0.4em;box-sizing: border-box;padding-bottom: 0.4em;background-color: white;}#sk-container-id-10 div.sk-label label {font-family: monospace;font-weight: bold;display: inline-block;line-height: 1.2em;}#sk-container-id-10 div.sk-label-container {text-align: center;}#sk-container-id-10 div.sk-container {/* jupyter's `normalize.less` sets `[hidden] { display: none; }` but bootstrap.min.css set `[hidden] { display: none !important; }` so we also need the `!important` here to be able to override the default hidden behavior on the sphinx rendered scikit-learn.org. See: https://github.com/scikit-learn/scikit-learn/issues/21755 */display: inline-block !important;position: relative;}#sk-container-id-10 div.sk-text-repr-fallback {display: none;}</style><div id=\"sk-container-id-10\" class=\"sk-top-container\"><div class=\"sk-text-repr-fallback\"><pre>GridSearchCV(cv=5, estimator=DecisionTreeRegressor(),\n",
       "             param_grid={&#x27;max_depth&#x27;: [10, 20, 30, 40],\n",
       "                         &#x27;min_samples_leaf&#x27;: [5, 10, 15, 20],\n",
       "                         &#x27;min_samples_split&#x27;: [5, 10, 15, 20]},\n",
       "             scoring=&#x27;r2&#x27;)</pre><b>In a Jupyter environment, please rerun this cell to show the HTML representation or trust the notebook. <br />On GitHub, the HTML representation is unable to render, please try loading this page with nbviewer.org.</b></div><div class=\"sk-container\" hidden><div class=\"sk-item sk-dashed-wrapped\"><div class=\"sk-label-container\"><div class=\"sk-label sk-toggleable\"><input class=\"sk-toggleable__control sk-hidden--visually\" id=\"sk-estimator-id-12\" type=\"checkbox\" ><label for=\"sk-estimator-id-12\" class=\"sk-toggleable__label sk-toggleable__label-arrow\">GridSearchCV</label><div class=\"sk-toggleable__content\"><pre>GridSearchCV(cv=5, estimator=DecisionTreeRegressor(),\n",
       "             param_grid={&#x27;max_depth&#x27;: [10, 20, 30, 40],\n",
       "                         &#x27;min_samples_leaf&#x27;: [5, 10, 15, 20],\n",
       "                         &#x27;min_samples_split&#x27;: [5, 10, 15, 20]},\n",
       "             scoring=&#x27;r2&#x27;)</pre></div></div></div><div class=\"sk-parallel\"><div class=\"sk-parallel-item\"><div class=\"sk-item\"><div class=\"sk-label-container\"><div class=\"sk-label sk-toggleable\"><input class=\"sk-toggleable__control sk-hidden--visually\" id=\"sk-estimator-id-13\" type=\"checkbox\" ><label for=\"sk-estimator-id-13\" class=\"sk-toggleable__label sk-toggleable__label-arrow\">estimator: DecisionTreeRegressor</label><div class=\"sk-toggleable__content\"><pre>DecisionTreeRegressor()</pre></div></div></div><div class=\"sk-serial\"><div class=\"sk-item\"><div class=\"sk-estimator sk-toggleable\"><input class=\"sk-toggleable__control sk-hidden--visually\" id=\"sk-estimator-id-14\" type=\"checkbox\" ><label for=\"sk-estimator-id-14\" class=\"sk-toggleable__label sk-toggleable__label-arrow\">DecisionTreeRegressor</label><div class=\"sk-toggleable__content\"><pre>DecisionTreeRegressor()</pre></div></div></div></div></div></div></div></div></div></div>"
      ],
      "text/plain": [
       "GridSearchCV(cv=5, estimator=DecisionTreeRegressor(),\n",
       "             param_grid={'max_depth': [10, 20, 30, 40],\n",
       "                         'min_samples_leaf': [5, 10, 15, 20],\n",
       "                         'min_samples_split': [5, 10, 15, 20]},\n",
       "             scoring='r2')"
      ]
     },
     "execution_count": 53,
     "metadata": {},
     "output_type": "execute_result"
    }
   ],
   "source": [
    "from sklearn.model_selection import GridSearchCV\n",
    "from sklearn.tree import DecisionTreeRegressor\n",
    "ri=DecisionTreeRegressor()\n",
    "gri_search_cv = GridSearchCV(ri,p_grid,cv=5,scoring='r2')\n",
    "gri_search_cv.fit(x_train_transformed,y_train)"
   ]
  },
  {
   "cell_type": "code",
   "execution_count": 54,
   "id": "222d899e",
   "metadata": {
    "execution": {
     "iopub.execute_input": "2024-01-07T10:48:07.107608Z",
     "iopub.status.busy": "2024-01-07T10:48:07.107258Z",
     "iopub.status.idle": "2024-01-07T10:48:07.112806Z",
     "shell.execute_reply": "2024-01-07T10:48:07.111657Z"
    },
    "papermill": {
     "duration": 0.033272,
     "end_time": "2024-01-07T10:48:07.114806",
     "exception": false,
     "start_time": "2024-01-07T10:48:07.081534",
     "status": "completed"
    },
    "tags": []
   },
   "outputs": [
    {
     "name": "stdout",
     "output_type": "stream",
     "text": [
      "{'max_depth': 20, 'min_samples_leaf': 10, 'min_samples_split': 20}\n"
     ]
    }
   ],
   "source": [
    "best_parameters=gri_search_cv.best_params_\n",
    "print(best_parameters)"
   ]
  },
  {
   "cell_type": "code",
   "execution_count": 55,
   "id": "601c978c",
   "metadata": {
    "execution": {
     "iopub.execute_input": "2024-01-07T10:48:07.164211Z",
     "iopub.status.busy": "2024-01-07T10:48:07.163837Z",
     "iopub.status.idle": "2024-01-07T10:48:07.168643Z",
     "shell.execute_reply": "2024-01-07T10:48:07.167758Z"
    },
    "papermill": {
     "duration": 0.031398,
     "end_time": "2024-01-07T10:48:07.170430",
     "exception": false,
     "start_time": "2024-01-07T10:48:07.139032",
     "status": "completed"
    },
    "tags": []
   },
   "outputs": [],
   "source": [
    "from sklearn.tree import DecisionTreeRegressor\n",
    "rr=DecisionTreeRegressor(**best_parameters)"
   ]
  },
  {
   "cell_type": "code",
   "execution_count": 56,
   "id": "2d6d6e24",
   "metadata": {
    "execution": {
     "iopub.execute_input": "2024-01-07T10:48:07.218556Z",
     "iopub.status.busy": "2024-01-07T10:48:07.218264Z",
     "iopub.status.idle": "2024-01-07T10:48:07.313379Z",
     "shell.execute_reply": "2024-01-07T10:48:07.312337Z"
    },
    "papermill": {
     "duration": 0.121564,
     "end_time": "2024-01-07T10:48:07.315430",
     "exception": false,
     "start_time": "2024-01-07T10:48:07.193866",
     "status": "completed"
    },
    "tags": []
   },
   "outputs": [
    {
     "data": {
      "text/plain": [
       "array([0.79204084, 0.72791966, 0.7906824 , 0.79805998, 0.74430998])"
      ]
     },
     "execution_count": 56,
     "metadata": {},
     "output_type": "execute_result"
    }
   ],
   "source": [
    "from sklearn.model_selection import cross_val_score\n",
    "cv_scores = cross_val_score(rr, x_train_transformed, y_train, cv=5)\n",
    "cv_scores"
   ]
  },
  {
   "cell_type": "code",
   "execution_count": 57,
   "id": "d3230fd2",
   "metadata": {
    "execution": {
     "iopub.execute_input": "2024-01-07T10:48:07.364670Z",
     "iopub.status.busy": "2024-01-07T10:48:07.364354Z",
     "iopub.status.idle": "2024-01-07T10:48:07.390738Z",
     "shell.execute_reply": "2024-01-07T10:48:07.389710Z"
    },
    "papermill": {
     "duration": 0.053602,
     "end_time": "2024-01-07T10:48:07.393115",
     "exception": false,
     "start_time": "2024-01-07T10:48:07.339513",
     "status": "completed"
    },
    "tags": []
   },
   "outputs": [
    {
     "data": {
      "text/html": [
       "<style>#sk-container-id-11 {color: black;background-color: white;}#sk-container-id-11 pre{padding: 0;}#sk-container-id-11 div.sk-toggleable {background-color: white;}#sk-container-id-11 label.sk-toggleable__label {cursor: pointer;display: block;width: 100%;margin-bottom: 0;padding: 0.3em;box-sizing: border-box;text-align: center;}#sk-container-id-11 label.sk-toggleable__label-arrow:before {content: \"▸\";float: left;margin-right: 0.25em;color: #696969;}#sk-container-id-11 label.sk-toggleable__label-arrow:hover:before {color: black;}#sk-container-id-11 div.sk-estimator:hover label.sk-toggleable__label-arrow:before {color: black;}#sk-container-id-11 div.sk-toggleable__content {max-height: 0;max-width: 0;overflow: hidden;text-align: left;background-color: #f0f8ff;}#sk-container-id-11 div.sk-toggleable__content pre {margin: 0.2em;color: black;border-radius: 0.25em;background-color: #f0f8ff;}#sk-container-id-11 input.sk-toggleable__control:checked~div.sk-toggleable__content {max-height: 200px;max-width: 100%;overflow: auto;}#sk-container-id-11 input.sk-toggleable__control:checked~label.sk-toggleable__label-arrow:before {content: \"▾\";}#sk-container-id-11 div.sk-estimator input.sk-toggleable__control:checked~label.sk-toggleable__label {background-color: #d4ebff;}#sk-container-id-11 div.sk-label input.sk-toggleable__control:checked~label.sk-toggleable__label {background-color: #d4ebff;}#sk-container-id-11 input.sk-hidden--visually {border: 0;clip: rect(1px 1px 1px 1px);clip: rect(1px, 1px, 1px, 1px);height: 1px;margin: -1px;overflow: hidden;padding: 0;position: absolute;width: 1px;}#sk-container-id-11 div.sk-estimator {font-family: monospace;background-color: #f0f8ff;border: 1px dotted black;border-radius: 0.25em;box-sizing: border-box;margin-bottom: 0.5em;}#sk-container-id-11 div.sk-estimator:hover {background-color: #d4ebff;}#sk-container-id-11 div.sk-parallel-item::after {content: \"\";width: 100%;border-bottom: 1px solid gray;flex-grow: 1;}#sk-container-id-11 div.sk-label:hover label.sk-toggleable__label {background-color: #d4ebff;}#sk-container-id-11 div.sk-serial::before {content: \"\";position: absolute;border-left: 1px solid gray;box-sizing: border-box;top: 0;bottom: 0;left: 50%;z-index: 0;}#sk-container-id-11 div.sk-serial {display: flex;flex-direction: column;align-items: center;background-color: white;padding-right: 0.2em;padding-left: 0.2em;position: relative;}#sk-container-id-11 div.sk-item {position: relative;z-index: 1;}#sk-container-id-11 div.sk-parallel {display: flex;align-items: stretch;justify-content: center;background-color: white;position: relative;}#sk-container-id-11 div.sk-item::before, #sk-container-id-11 div.sk-parallel-item::before {content: \"\";position: absolute;border-left: 1px solid gray;box-sizing: border-box;top: 0;bottom: 0;left: 50%;z-index: -1;}#sk-container-id-11 div.sk-parallel-item {display: flex;flex-direction: column;z-index: 1;position: relative;background-color: white;}#sk-container-id-11 div.sk-parallel-item:first-child::after {align-self: flex-end;width: 50%;}#sk-container-id-11 div.sk-parallel-item:last-child::after {align-self: flex-start;width: 50%;}#sk-container-id-11 div.sk-parallel-item:only-child::after {width: 0;}#sk-container-id-11 div.sk-dashed-wrapped {border: 1px dashed gray;margin: 0 0.4em 0.5em 0.4em;box-sizing: border-box;padding-bottom: 0.4em;background-color: white;}#sk-container-id-11 div.sk-label label {font-family: monospace;font-weight: bold;display: inline-block;line-height: 1.2em;}#sk-container-id-11 div.sk-label-container {text-align: center;}#sk-container-id-11 div.sk-container {/* jupyter's `normalize.less` sets `[hidden] { display: none; }` but bootstrap.min.css set `[hidden] { display: none !important; }` so we also need the `!important` here to be able to override the default hidden behavior on the sphinx rendered scikit-learn.org. See: https://github.com/scikit-learn/scikit-learn/issues/21755 */display: inline-block !important;position: relative;}#sk-container-id-11 div.sk-text-repr-fallback {display: none;}</style><div id=\"sk-container-id-11\" class=\"sk-top-container\"><div class=\"sk-text-repr-fallback\"><pre>DecisionTreeRegressor(max_depth=20, min_samples_leaf=10, min_samples_split=20)</pre><b>In a Jupyter environment, please rerun this cell to show the HTML representation or trust the notebook. <br />On GitHub, the HTML representation is unable to render, please try loading this page with nbviewer.org.</b></div><div class=\"sk-container\" hidden><div class=\"sk-item\"><div class=\"sk-estimator sk-toggleable\"><input class=\"sk-toggleable__control sk-hidden--visually\" id=\"sk-estimator-id-15\" type=\"checkbox\" checked><label for=\"sk-estimator-id-15\" class=\"sk-toggleable__label sk-toggleable__label-arrow\">DecisionTreeRegressor</label><div class=\"sk-toggleable__content\"><pre>DecisionTreeRegressor(max_depth=20, min_samples_leaf=10, min_samples_split=20)</pre></div></div></div></div></div>"
      ],
      "text/plain": [
       "DecisionTreeRegressor(max_depth=20, min_samples_leaf=10, min_samples_split=20)"
      ]
     },
     "execution_count": 57,
     "metadata": {},
     "output_type": "execute_result"
    }
   ],
   "source": [
    "rr.fit(x_train_transformed,y_train)"
   ]
  },
  {
   "cell_type": "code",
   "execution_count": 58,
   "id": "bc5a05bf",
   "metadata": {
    "execution": {
     "iopub.execute_input": "2024-01-07T10:48:07.442628Z",
     "iopub.status.busy": "2024-01-07T10:48:07.442294Z",
     "iopub.status.idle": "2024-01-07T10:48:07.452937Z",
     "shell.execute_reply": "2024-01-07T10:48:07.451984Z"
    },
    "papermill": {
     "duration": 0.037256,
     "end_time": "2024-01-07T10:48:07.454557",
     "exception": false,
     "start_time": "2024-01-07T10:48:07.417301",
     "status": "completed"
    },
    "tags": []
   },
   "outputs": [
    {
     "data": {
      "text/plain": [
       "0.8975950502753058"
      ]
     },
     "execution_count": 58,
     "metadata": {},
     "output_type": "execute_result"
    }
   ],
   "source": [
    "rr.score(x_train_transformed,y_train)"
   ]
  },
  {
   "cell_type": "code",
   "execution_count": 59,
   "id": "65389819",
   "metadata": {
    "execution": {
     "iopub.execute_input": "2024-01-07T10:48:07.504384Z",
     "iopub.status.busy": "2024-01-07T10:48:07.504045Z",
     "iopub.status.idle": "2024-01-07T10:48:07.540200Z",
     "shell.execute_reply": "2024-01-07T10:48:07.539076Z"
    },
    "papermill": {
     "duration": 0.063363,
     "end_time": "2024-01-07T10:48:07.542086",
     "exception": false,
     "start_time": "2024-01-07T10:48:07.478723",
     "status": "completed"
    },
    "tags": []
   },
   "outputs": [
    {
     "data": {
      "text/plain": [
       "0.7510510985495936"
      ]
     },
     "execution_count": 59,
     "metadata": {},
     "output_type": "execute_result"
    }
   ],
   "source": [
    "x_test_transformed = pipeline.transform(x_test)\n",
    "x_test_transformed = pd.DataFrame(x_test_transformed, columns=columns)\n",
    "categorical_imputer = SimpleImputer(strategy='most_frequent')\n",
    "x_test_transformed[ordinal] = categorical_imputer.fit_transform(x_test_transformed[ordinal])\n",
    "rr.score(x_test_transformed,y_test)"
   ]
  },
  {
   "cell_type": "markdown",
   "id": "6b60767a",
   "metadata": {
    "papermill": {
     "duration": 0.023326,
     "end_time": "2024-01-07T10:48:07.589639",
     "exception": false,
     "start_time": "2024-01-07T10:48:07.566313",
     "status": "completed"
    },
    "tags": []
   },
   "source": [
    "## Bagging "
   ]
  },
  {
   "cell_type": "code",
   "execution_count": 60,
   "id": "c9faf118",
   "metadata": {
    "execution": {
     "iopub.execute_input": "2024-01-07T10:48:07.639385Z",
     "iopub.status.busy": "2024-01-07T10:48:07.639000Z",
     "iopub.status.idle": "2024-01-07T10:48:07.644169Z",
     "shell.execute_reply": "2024-01-07T10:48:07.643238Z"
    },
    "papermill": {
     "duration": 0.032415,
     "end_time": "2024-01-07T10:48:07.646033",
     "exception": false,
     "start_time": "2024-01-07T10:48:07.613618",
     "status": "completed"
    },
    "tags": []
   },
   "outputs": [],
   "source": [
    "param_grid = {\n",
    "     'n_estimators': [50, 100, 150],\n",
    "     'max_samples': [0.7, 0.8, 0.9],\n",
    "     'max_features': [0.7, 0.8, 0.9]\n",
    " }"
   ]
  },
  {
   "cell_type": "code",
   "execution_count": 61,
   "id": "e7ba75d1",
   "metadata": {
    "execution": {
     "iopub.execute_input": "2024-01-07T10:48:07.696118Z",
     "iopub.status.busy": "2024-01-07T10:48:07.695806Z",
     "iopub.status.idle": "2024-01-07T10:50:33.809778Z",
     "shell.execute_reply": "2024-01-07T10:50:33.808845Z"
    },
    "papermill": {
     "duration": 146.165316,
     "end_time": "2024-01-07T10:50:33.835849",
     "exception": false,
     "start_time": "2024-01-07T10:48:07.670533",
     "status": "completed"
    },
    "tags": []
   },
   "outputs": [
    {
     "data": {
      "text/html": [
       "<style>#sk-container-id-12 {color: black;background-color: white;}#sk-container-id-12 pre{padding: 0;}#sk-container-id-12 div.sk-toggleable {background-color: white;}#sk-container-id-12 label.sk-toggleable__label {cursor: pointer;display: block;width: 100%;margin-bottom: 0;padding: 0.3em;box-sizing: border-box;text-align: center;}#sk-container-id-12 label.sk-toggleable__label-arrow:before {content: \"▸\";float: left;margin-right: 0.25em;color: #696969;}#sk-container-id-12 label.sk-toggleable__label-arrow:hover:before {color: black;}#sk-container-id-12 div.sk-estimator:hover label.sk-toggleable__label-arrow:before {color: black;}#sk-container-id-12 div.sk-toggleable__content {max-height: 0;max-width: 0;overflow: hidden;text-align: left;background-color: #f0f8ff;}#sk-container-id-12 div.sk-toggleable__content pre {margin: 0.2em;color: black;border-radius: 0.25em;background-color: #f0f8ff;}#sk-container-id-12 input.sk-toggleable__control:checked~div.sk-toggleable__content {max-height: 200px;max-width: 100%;overflow: auto;}#sk-container-id-12 input.sk-toggleable__control:checked~label.sk-toggleable__label-arrow:before {content: \"▾\";}#sk-container-id-12 div.sk-estimator input.sk-toggleable__control:checked~label.sk-toggleable__label {background-color: #d4ebff;}#sk-container-id-12 div.sk-label input.sk-toggleable__control:checked~label.sk-toggleable__label {background-color: #d4ebff;}#sk-container-id-12 input.sk-hidden--visually {border: 0;clip: rect(1px 1px 1px 1px);clip: rect(1px, 1px, 1px, 1px);height: 1px;margin: -1px;overflow: hidden;padding: 0;position: absolute;width: 1px;}#sk-container-id-12 div.sk-estimator {font-family: monospace;background-color: #f0f8ff;border: 1px dotted black;border-radius: 0.25em;box-sizing: border-box;margin-bottom: 0.5em;}#sk-container-id-12 div.sk-estimator:hover {background-color: #d4ebff;}#sk-container-id-12 div.sk-parallel-item::after {content: \"\";width: 100%;border-bottom: 1px solid gray;flex-grow: 1;}#sk-container-id-12 div.sk-label:hover label.sk-toggleable__label {background-color: #d4ebff;}#sk-container-id-12 div.sk-serial::before {content: \"\";position: absolute;border-left: 1px solid gray;box-sizing: border-box;top: 0;bottom: 0;left: 50%;z-index: 0;}#sk-container-id-12 div.sk-serial {display: flex;flex-direction: column;align-items: center;background-color: white;padding-right: 0.2em;padding-left: 0.2em;position: relative;}#sk-container-id-12 div.sk-item {position: relative;z-index: 1;}#sk-container-id-12 div.sk-parallel {display: flex;align-items: stretch;justify-content: center;background-color: white;position: relative;}#sk-container-id-12 div.sk-item::before, #sk-container-id-12 div.sk-parallel-item::before {content: \"\";position: absolute;border-left: 1px solid gray;box-sizing: border-box;top: 0;bottom: 0;left: 50%;z-index: -1;}#sk-container-id-12 div.sk-parallel-item {display: flex;flex-direction: column;z-index: 1;position: relative;background-color: white;}#sk-container-id-12 div.sk-parallel-item:first-child::after {align-self: flex-end;width: 50%;}#sk-container-id-12 div.sk-parallel-item:last-child::after {align-self: flex-start;width: 50%;}#sk-container-id-12 div.sk-parallel-item:only-child::after {width: 0;}#sk-container-id-12 div.sk-dashed-wrapped {border: 1px dashed gray;margin: 0 0.4em 0.5em 0.4em;box-sizing: border-box;padding-bottom: 0.4em;background-color: white;}#sk-container-id-12 div.sk-label label {font-family: monospace;font-weight: bold;display: inline-block;line-height: 1.2em;}#sk-container-id-12 div.sk-label-container {text-align: center;}#sk-container-id-12 div.sk-container {/* jupyter's `normalize.less` sets `[hidden] { display: none; }` but bootstrap.min.css set `[hidden] { display: none !important; }` so we also need the `!important` here to be able to override the default hidden behavior on the sphinx rendered scikit-learn.org. See: https://github.com/scikit-learn/scikit-learn/issues/21755 */display: inline-block !important;position: relative;}#sk-container-id-12 div.sk-text-repr-fallback {display: none;}</style><div id=\"sk-container-id-12\" class=\"sk-top-container\"><div class=\"sk-text-repr-fallback\"><pre>GridSearchCV(cv=5,\n",
       "             estimator=BaggingRegressor(estimator=DecisionTreeRegressor(),\n",
       "                                        random_state=42),\n",
       "             param_grid={&#x27;max_features&#x27;: [0.7, 0.8, 0.9],\n",
       "                         &#x27;max_samples&#x27;: [0.7, 0.8, 0.9],\n",
       "                         &#x27;n_estimators&#x27;: [50, 100, 150]},\n",
       "             scoring=&#x27;r2&#x27;)</pre><b>In a Jupyter environment, please rerun this cell to show the HTML representation or trust the notebook. <br />On GitHub, the HTML representation is unable to render, please try loading this page with nbviewer.org.</b></div><div class=\"sk-container\" hidden><div class=\"sk-item sk-dashed-wrapped\"><div class=\"sk-label-container\"><div class=\"sk-label sk-toggleable\"><input class=\"sk-toggleable__control sk-hidden--visually\" id=\"sk-estimator-id-16\" type=\"checkbox\" ><label for=\"sk-estimator-id-16\" class=\"sk-toggleable__label sk-toggleable__label-arrow\">GridSearchCV</label><div class=\"sk-toggleable__content\"><pre>GridSearchCV(cv=5,\n",
       "             estimator=BaggingRegressor(estimator=DecisionTreeRegressor(),\n",
       "                                        random_state=42),\n",
       "             param_grid={&#x27;max_features&#x27;: [0.7, 0.8, 0.9],\n",
       "                         &#x27;max_samples&#x27;: [0.7, 0.8, 0.9],\n",
       "                         &#x27;n_estimators&#x27;: [50, 100, 150]},\n",
       "             scoring=&#x27;r2&#x27;)</pre></div></div></div><div class=\"sk-parallel\"><div class=\"sk-parallel-item\"><div class=\"sk-item\"><div class=\"sk-label-container\"><div class=\"sk-label sk-toggleable\"><input class=\"sk-toggleable__control sk-hidden--visually\" id=\"sk-estimator-id-17\" type=\"checkbox\" ><label for=\"sk-estimator-id-17\" class=\"sk-toggleable__label sk-toggleable__label-arrow\">estimator: BaggingRegressor</label><div class=\"sk-toggleable__content\"><pre>BaggingRegressor(estimator=DecisionTreeRegressor(), random_state=42)</pre></div></div></div><div class=\"sk-serial\"><div class=\"sk-item sk-dashed-wrapped\"><div class=\"sk-parallel\"><div class=\"sk-parallel-item\"><div class=\"sk-item\"><div class=\"sk-label-container\"><div class=\"sk-label sk-toggleable\"><input class=\"sk-toggleable__control sk-hidden--visually\" id=\"sk-estimator-id-18\" type=\"checkbox\" ><label for=\"sk-estimator-id-18\" class=\"sk-toggleable__label sk-toggleable__label-arrow\">estimator: DecisionTreeRegressor</label><div class=\"sk-toggleable__content\"><pre>DecisionTreeRegressor()</pre></div></div></div><div class=\"sk-serial\"><div class=\"sk-item\"><div class=\"sk-estimator sk-toggleable\"><input class=\"sk-toggleable__control sk-hidden--visually\" id=\"sk-estimator-id-19\" type=\"checkbox\" ><label for=\"sk-estimator-id-19\" class=\"sk-toggleable__label sk-toggleable__label-arrow\">DecisionTreeRegressor</label><div class=\"sk-toggleable__content\"><pre>DecisionTreeRegressor()</pre></div></div></div></div></div></div></div></div></div></div></div></div></div></div></div>"
      ],
      "text/plain": [
       "GridSearchCV(cv=5,\n",
       "             estimator=BaggingRegressor(estimator=DecisionTreeRegressor(),\n",
       "                                        random_state=42),\n",
       "             param_grid={'max_features': [0.7, 0.8, 0.9],\n",
       "                         'max_samples': [0.7, 0.8, 0.9],\n",
       "                         'n_estimators': [50, 100, 150]},\n",
       "             scoring='r2')"
      ]
     },
     "execution_count": 61,
     "metadata": {},
     "output_type": "execute_result"
    }
   ],
   "source": [
    "from sklearn.model_selection import GridSearchCV\n",
    "from sklearn.ensemble import BaggingRegressor\n",
    "from sklearn.tree import DecisionTreeRegressor\n",
    "\n",
    "\n",
    "# Create a base regressor (you can use any regression model)\n",
    "base_regressor = DecisionTreeRegressor()\n",
    "\n",
    " # Create the BaggingRegressor\n",
    "bagging_regressor = BaggingRegressor(base_regressor, n_estimators=10, random_state=42)\n",
    "\n",
    "gri_search_cv5 = GridSearchCV(bagging_regressor,param_grid,cv=5,scoring='r2')\n",
    "\n",
    "# Fit the model to the training data\n",
    "gri_search_cv5.fit(x_train_transformed, y_train)\n"
   ]
  },
  {
   "cell_type": "code",
   "execution_count": 62,
   "id": "888d6b93",
   "metadata": {
    "execution": {
     "iopub.execute_input": "2024-01-07T10:50:33.888936Z",
     "iopub.status.busy": "2024-01-07T10:50:33.888566Z",
     "iopub.status.idle": "2024-01-07T10:50:33.893102Z",
     "shell.execute_reply": "2024-01-07T10:50:33.892218Z"
    },
    "papermill": {
     "duration": 0.033232,
     "end_time": "2024-01-07T10:50:33.894762",
     "exception": false,
     "start_time": "2024-01-07T10:50:33.861530",
     "status": "completed"
    },
    "tags": []
   },
   "outputs": [
    {
     "name": "stdout",
     "output_type": "stream",
     "text": [
      "{'max_features': 0.7, 'max_samples': 0.9, 'n_estimators': 150}\n"
     ]
    }
   ],
   "source": [
    "best_parameters_1=gri_search_cv5.best_params_\n",
    "print(best_parameters_1)"
   ]
  },
  {
   "cell_type": "code",
   "execution_count": 63,
   "id": "253190a6",
   "metadata": {
    "execution": {
     "iopub.execute_input": "2024-01-07T10:50:33.946203Z",
     "iopub.status.busy": "2024-01-07T10:50:33.945656Z",
     "iopub.status.idle": "2024-01-07T10:50:33.949716Z",
     "shell.execute_reply": "2024-01-07T10:50:33.949096Z"
    },
    "papermill": {
     "duration": 0.031651,
     "end_time": "2024-01-07T10:50:33.951306",
     "exception": false,
     "start_time": "2024-01-07T10:50:33.919655",
     "status": "completed"
    },
    "tags": []
   },
   "outputs": [],
   "source": [
    "from sklearn.ensemble import BaggingRegressor\n",
    "from sklearn.tree import DecisionTreeRegressor\n",
    "\n",
    "# Create a base regressor (you can use any regression model)\n",
    "base_regressor = DecisionTreeRegressor()\n",
    "\n",
    "# Create the BaggingRegressor\n",
    "bagging_regressor = BaggingRegressor(**best_parameters_1)"
   ]
  },
  {
   "cell_type": "code",
   "execution_count": 64,
   "id": "a2e5a651",
   "metadata": {
    "execution": {
     "iopub.execute_input": "2024-01-07T10:50:34.005000Z",
     "iopub.status.busy": "2024-01-07T10:50:34.004203Z",
     "iopub.status.idle": "2024-01-07T10:50:35.901153Z",
     "shell.execute_reply": "2024-01-07T10:50:35.900227Z"
    },
    "papermill": {
     "duration": 1.926596,
     "end_time": "2024-01-07T10:50:35.903531",
     "exception": false,
     "start_time": "2024-01-07T10:50:33.976935",
     "status": "completed"
    },
    "tags": []
   },
   "outputs": [
    {
     "data": {
      "text/html": [
       "<style>#sk-container-id-13 {color: black;background-color: white;}#sk-container-id-13 pre{padding: 0;}#sk-container-id-13 div.sk-toggleable {background-color: white;}#sk-container-id-13 label.sk-toggleable__label {cursor: pointer;display: block;width: 100%;margin-bottom: 0;padding: 0.3em;box-sizing: border-box;text-align: center;}#sk-container-id-13 label.sk-toggleable__label-arrow:before {content: \"▸\";float: left;margin-right: 0.25em;color: #696969;}#sk-container-id-13 label.sk-toggleable__label-arrow:hover:before {color: black;}#sk-container-id-13 div.sk-estimator:hover label.sk-toggleable__label-arrow:before {color: black;}#sk-container-id-13 div.sk-toggleable__content {max-height: 0;max-width: 0;overflow: hidden;text-align: left;background-color: #f0f8ff;}#sk-container-id-13 div.sk-toggleable__content pre {margin: 0.2em;color: black;border-radius: 0.25em;background-color: #f0f8ff;}#sk-container-id-13 input.sk-toggleable__control:checked~div.sk-toggleable__content {max-height: 200px;max-width: 100%;overflow: auto;}#sk-container-id-13 input.sk-toggleable__control:checked~label.sk-toggleable__label-arrow:before {content: \"▾\";}#sk-container-id-13 div.sk-estimator input.sk-toggleable__control:checked~label.sk-toggleable__label {background-color: #d4ebff;}#sk-container-id-13 div.sk-label input.sk-toggleable__control:checked~label.sk-toggleable__label {background-color: #d4ebff;}#sk-container-id-13 input.sk-hidden--visually {border: 0;clip: rect(1px 1px 1px 1px);clip: rect(1px, 1px, 1px, 1px);height: 1px;margin: -1px;overflow: hidden;padding: 0;position: absolute;width: 1px;}#sk-container-id-13 div.sk-estimator {font-family: monospace;background-color: #f0f8ff;border: 1px dotted black;border-radius: 0.25em;box-sizing: border-box;margin-bottom: 0.5em;}#sk-container-id-13 div.sk-estimator:hover {background-color: #d4ebff;}#sk-container-id-13 div.sk-parallel-item::after {content: \"\";width: 100%;border-bottom: 1px solid gray;flex-grow: 1;}#sk-container-id-13 div.sk-label:hover label.sk-toggleable__label {background-color: #d4ebff;}#sk-container-id-13 div.sk-serial::before {content: \"\";position: absolute;border-left: 1px solid gray;box-sizing: border-box;top: 0;bottom: 0;left: 50%;z-index: 0;}#sk-container-id-13 div.sk-serial {display: flex;flex-direction: column;align-items: center;background-color: white;padding-right: 0.2em;padding-left: 0.2em;position: relative;}#sk-container-id-13 div.sk-item {position: relative;z-index: 1;}#sk-container-id-13 div.sk-parallel {display: flex;align-items: stretch;justify-content: center;background-color: white;position: relative;}#sk-container-id-13 div.sk-item::before, #sk-container-id-13 div.sk-parallel-item::before {content: \"\";position: absolute;border-left: 1px solid gray;box-sizing: border-box;top: 0;bottom: 0;left: 50%;z-index: -1;}#sk-container-id-13 div.sk-parallel-item {display: flex;flex-direction: column;z-index: 1;position: relative;background-color: white;}#sk-container-id-13 div.sk-parallel-item:first-child::after {align-self: flex-end;width: 50%;}#sk-container-id-13 div.sk-parallel-item:last-child::after {align-self: flex-start;width: 50%;}#sk-container-id-13 div.sk-parallel-item:only-child::after {width: 0;}#sk-container-id-13 div.sk-dashed-wrapped {border: 1px dashed gray;margin: 0 0.4em 0.5em 0.4em;box-sizing: border-box;padding-bottom: 0.4em;background-color: white;}#sk-container-id-13 div.sk-label label {font-family: monospace;font-weight: bold;display: inline-block;line-height: 1.2em;}#sk-container-id-13 div.sk-label-container {text-align: center;}#sk-container-id-13 div.sk-container {/* jupyter's `normalize.less` sets `[hidden] { display: none; }` but bootstrap.min.css set `[hidden] { display: none !important; }` so we also need the `!important` here to be able to override the default hidden behavior on the sphinx rendered scikit-learn.org. See: https://github.com/scikit-learn/scikit-learn/issues/21755 */display: inline-block !important;position: relative;}#sk-container-id-13 div.sk-text-repr-fallback {display: none;}</style><div id=\"sk-container-id-13\" class=\"sk-top-container\"><div class=\"sk-text-repr-fallback\"><pre>BaggingRegressor(max_features=0.7, max_samples=0.9, n_estimators=150)</pre><b>In a Jupyter environment, please rerun this cell to show the HTML representation or trust the notebook. <br />On GitHub, the HTML representation is unable to render, please try loading this page with nbviewer.org.</b></div><div class=\"sk-container\" hidden><div class=\"sk-item\"><div class=\"sk-estimator sk-toggleable\"><input class=\"sk-toggleable__control sk-hidden--visually\" id=\"sk-estimator-id-20\" type=\"checkbox\" checked><label for=\"sk-estimator-id-20\" class=\"sk-toggleable__label sk-toggleable__label-arrow\">BaggingRegressor</label><div class=\"sk-toggleable__content\"><pre>BaggingRegressor(max_features=0.7, max_samples=0.9, n_estimators=150)</pre></div></div></div></div></div>"
      ],
      "text/plain": [
       "BaggingRegressor(max_features=0.7, max_samples=0.9, n_estimators=150)"
      ]
     },
     "execution_count": 64,
     "metadata": {},
     "output_type": "execute_result"
    }
   ],
   "source": [
    "bagging_regressor.fit(x_train_transformed,y_train)"
   ]
  },
  {
   "cell_type": "code",
   "execution_count": 65,
   "id": "a50434d1",
   "metadata": {
    "execution": {
     "iopub.execute_input": "2024-01-07T10:50:35.956069Z",
     "iopub.status.busy": "2024-01-07T10:50:35.955073Z",
     "iopub.status.idle": "2024-01-07T10:50:36.041421Z",
     "shell.execute_reply": "2024-01-07T10:50:36.040439Z"
    },
    "papermill": {
     "duration": 0.114556,
     "end_time": "2024-01-07T10:50:36.043325",
     "exception": false,
     "start_time": "2024-01-07T10:50:35.928769",
     "status": "completed"
    },
    "tags": []
   },
   "outputs": [
    {
     "data": {
      "text/plain": [
       "0.979891621059189"
      ]
     },
     "execution_count": 65,
     "metadata": {},
     "output_type": "execute_result"
    }
   ],
   "source": [
    "bagging_regressor.score(x_train_transformed,y_train)"
   ]
  },
  {
   "cell_type": "code",
   "execution_count": 66,
   "id": "653d6e18",
   "metadata": {
    "execution": {
     "iopub.execute_input": "2024-01-07T10:50:36.096360Z",
     "iopub.status.busy": "2024-01-07T10:50:36.096007Z",
     "iopub.status.idle": "2024-01-07T10:50:36.163056Z",
     "shell.execute_reply": "2024-01-07T10:50:36.161948Z"
    },
    "papermill": {
     "duration": 0.096138,
     "end_time": "2024-01-07T10:50:36.165146",
     "exception": false,
     "start_time": "2024-01-07T10:50:36.069008",
     "status": "completed"
    },
    "tags": []
   },
   "outputs": [
    {
     "data": {
      "text/plain": [
       "0.8775150648910901"
      ]
     },
     "execution_count": 66,
     "metadata": {},
     "output_type": "execute_result"
    }
   ],
   "source": [
    "x_test_transformed = pipeline.transform(x_test)\n",
    "x_test_transformed = pd.DataFrame(x_test_transformed, columns=columns)\n",
    "categorical_imputer = SimpleImputer(strategy='most_frequent')\n",
    "x_test_transformed[ordinal] = categorical_imputer.fit_transform(x_test_transformed[ordinal])\n",
    "bagging_regressor.score(x_test_transformed,y_test)"
   ]
  },
  {
   "cell_type": "markdown",
   "id": "df4555b0",
   "metadata": {
    "papermill": {
     "duration": 0.024823,
     "end_time": "2024-01-07T10:50:36.215397",
     "exception": false,
     "start_time": "2024-01-07T10:50:36.190574",
     "status": "completed"
    },
    "tags": []
   },
   "source": [
    "## RANDOM FOREST"
   ]
  },
  {
   "cell_type": "code",
   "execution_count": 67,
   "id": "2065f0d8",
   "metadata": {
    "execution": {
     "iopub.execute_input": "2024-01-07T10:50:36.268323Z",
     "iopub.status.busy": "2024-01-07T10:50:36.267944Z",
     "iopub.status.idle": "2024-01-07T10:50:36.273080Z",
     "shell.execute_reply": "2024-01-07T10:50:36.272100Z"
    },
    "papermill": {
     "duration": 0.033981,
     "end_time": "2024-01-07T10:50:36.274977",
     "exception": false,
     "start_time": "2024-01-07T10:50:36.240996",
     "status": "completed"
    },
    "tags": []
   },
   "outputs": [],
   "source": [
    "param_grid_r = {\n",
    "    'n_estimators': [50, 100, 200],\n",
    "    'max_depth': [None, 10, 20, 30],\n",
    "    'min_samples_split': [2, 5, 10],\n",
    "    'min_samples_leaf': [1, 2, 4],\n",
    "    'bootstrap': [True, False],\n",
    "}"
   ]
  },
  {
   "cell_type": "code",
   "execution_count": 68,
   "id": "53541f5c",
   "metadata": {
    "execution": {
     "iopub.execute_input": "2024-01-07T10:50:36.329484Z",
     "iopub.status.busy": "2024-01-07T10:50:36.328700Z",
     "iopub.status.idle": "2024-01-07T10:51:49.898585Z",
     "shell.execute_reply": "2024-01-07T10:51:49.897718Z"
    },
    "papermill": {
     "duration": 73.624611,
     "end_time": "2024-01-07T10:51:49.925696",
     "exception": false,
     "start_time": "2024-01-07T10:50:36.301085",
     "status": "completed"
    },
    "tags": []
   },
   "outputs": [
    {
     "data": {
      "text/html": [
       "<style>#sk-container-id-14 {color: black;background-color: white;}#sk-container-id-14 pre{padding: 0;}#sk-container-id-14 div.sk-toggleable {background-color: white;}#sk-container-id-14 label.sk-toggleable__label {cursor: pointer;display: block;width: 100%;margin-bottom: 0;padding: 0.3em;box-sizing: border-box;text-align: center;}#sk-container-id-14 label.sk-toggleable__label-arrow:before {content: \"▸\";float: left;margin-right: 0.25em;color: #696969;}#sk-container-id-14 label.sk-toggleable__label-arrow:hover:before {color: black;}#sk-container-id-14 div.sk-estimator:hover label.sk-toggleable__label-arrow:before {color: black;}#sk-container-id-14 div.sk-toggleable__content {max-height: 0;max-width: 0;overflow: hidden;text-align: left;background-color: #f0f8ff;}#sk-container-id-14 div.sk-toggleable__content pre {margin: 0.2em;color: black;border-radius: 0.25em;background-color: #f0f8ff;}#sk-container-id-14 input.sk-toggleable__control:checked~div.sk-toggleable__content {max-height: 200px;max-width: 100%;overflow: auto;}#sk-container-id-14 input.sk-toggleable__control:checked~label.sk-toggleable__label-arrow:before {content: \"▾\";}#sk-container-id-14 div.sk-estimator input.sk-toggleable__control:checked~label.sk-toggleable__label {background-color: #d4ebff;}#sk-container-id-14 div.sk-label input.sk-toggleable__control:checked~label.sk-toggleable__label {background-color: #d4ebff;}#sk-container-id-14 input.sk-hidden--visually {border: 0;clip: rect(1px 1px 1px 1px);clip: rect(1px, 1px, 1px, 1px);height: 1px;margin: -1px;overflow: hidden;padding: 0;position: absolute;width: 1px;}#sk-container-id-14 div.sk-estimator {font-family: monospace;background-color: #f0f8ff;border: 1px dotted black;border-radius: 0.25em;box-sizing: border-box;margin-bottom: 0.5em;}#sk-container-id-14 div.sk-estimator:hover {background-color: #d4ebff;}#sk-container-id-14 div.sk-parallel-item::after {content: \"\";width: 100%;border-bottom: 1px solid gray;flex-grow: 1;}#sk-container-id-14 div.sk-label:hover label.sk-toggleable__label {background-color: #d4ebff;}#sk-container-id-14 div.sk-serial::before {content: \"\";position: absolute;border-left: 1px solid gray;box-sizing: border-box;top: 0;bottom: 0;left: 50%;z-index: 0;}#sk-container-id-14 div.sk-serial {display: flex;flex-direction: column;align-items: center;background-color: white;padding-right: 0.2em;padding-left: 0.2em;position: relative;}#sk-container-id-14 div.sk-item {position: relative;z-index: 1;}#sk-container-id-14 div.sk-parallel {display: flex;align-items: stretch;justify-content: center;background-color: white;position: relative;}#sk-container-id-14 div.sk-item::before, #sk-container-id-14 div.sk-parallel-item::before {content: \"\";position: absolute;border-left: 1px solid gray;box-sizing: border-box;top: 0;bottom: 0;left: 50%;z-index: -1;}#sk-container-id-14 div.sk-parallel-item {display: flex;flex-direction: column;z-index: 1;position: relative;background-color: white;}#sk-container-id-14 div.sk-parallel-item:first-child::after {align-self: flex-end;width: 50%;}#sk-container-id-14 div.sk-parallel-item:last-child::after {align-self: flex-start;width: 50%;}#sk-container-id-14 div.sk-parallel-item:only-child::after {width: 0;}#sk-container-id-14 div.sk-dashed-wrapped {border: 1px dashed gray;margin: 0 0.4em 0.5em 0.4em;box-sizing: border-box;padding-bottom: 0.4em;background-color: white;}#sk-container-id-14 div.sk-label label {font-family: monospace;font-weight: bold;display: inline-block;line-height: 1.2em;}#sk-container-id-14 div.sk-label-container {text-align: center;}#sk-container-id-14 div.sk-container {/* jupyter's `normalize.less` sets `[hidden] { display: none; }` but bootstrap.min.css set `[hidden] { display: none !important; }` so we also need the `!important` here to be able to override the default hidden behavior on the sphinx rendered scikit-learn.org. See: https://github.com/scikit-learn/scikit-learn/issues/21755 */display: inline-block !important;position: relative;}#sk-container-id-14 div.sk-text-repr-fallback {display: none;}</style><div id=\"sk-container-id-14\" class=\"sk-top-container\"><div class=\"sk-text-repr-fallback\"><pre>RandomizedSearchCV(cv=5, estimator=RandomForestRegressor(),\n",
       "                   param_distributions={&#x27;bootstrap&#x27;: [True, False],\n",
       "                                        &#x27;max_depth&#x27;: [None, 10, 20, 30],\n",
       "                                        &#x27;min_samples_leaf&#x27;: [1, 2, 4],\n",
       "                                        &#x27;min_samples_split&#x27;: [2, 5, 10],\n",
       "                                        &#x27;n_estimators&#x27;: [50, 100, 200]},\n",
       "                   random_state=55, scoring=&#x27;neg_mean_squared_error&#x27;)</pre><b>In a Jupyter environment, please rerun this cell to show the HTML representation or trust the notebook. <br />On GitHub, the HTML representation is unable to render, please try loading this page with nbviewer.org.</b></div><div class=\"sk-container\" hidden><div class=\"sk-item sk-dashed-wrapped\"><div class=\"sk-label-container\"><div class=\"sk-label sk-toggleable\"><input class=\"sk-toggleable__control sk-hidden--visually\" id=\"sk-estimator-id-21\" type=\"checkbox\" ><label for=\"sk-estimator-id-21\" class=\"sk-toggleable__label sk-toggleable__label-arrow\">RandomizedSearchCV</label><div class=\"sk-toggleable__content\"><pre>RandomizedSearchCV(cv=5, estimator=RandomForestRegressor(),\n",
       "                   param_distributions={&#x27;bootstrap&#x27;: [True, False],\n",
       "                                        &#x27;max_depth&#x27;: [None, 10, 20, 30],\n",
       "                                        &#x27;min_samples_leaf&#x27;: [1, 2, 4],\n",
       "                                        &#x27;min_samples_split&#x27;: [2, 5, 10],\n",
       "                                        &#x27;n_estimators&#x27;: [50, 100, 200]},\n",
       "                   random_state=55, scoring=&#x27;neg_mean_squared_error&#x27;)</pre></div></div></div><div class=\"sk-parallel\"><div class=\"sk-parallel-item\"><div class=\"sk-item\"><div class=\"sk-label-container\"><div class=\"sk-label sk-toggleable\"><input class=\"sk-toggleable__control sk-hidden--visually\" id=\"sk-estimator-id-22\" type=\"checkbox\" ><label for=\"sk-estimator-id-22\" class=\"sk-toggleable__label sk-toggleable__label-arrow\">estimator: RandomForestRegressor</label><div class=\"sk-toggleable__content\"><pre>RandomForestRegressor()</pre></div></div></div><div class=\"sk-serial\"><div class=\"sk-item\"><div class=\"sk-estimator sk-toggleable\"><input class=\"sk-toggleable__control sk-hidden--visually\" id=\"sk-estimator-id-23\" type=\"checkbox\" ><label for=\"sk-estimator-id-23\" class=\"sk-toggleable__label sk-toggleable__label-arrow\">RandomForestRegressor</label><div class=\"sk-toggleable__content\"><pre>RandomForestRegressor()</pre></div></div></div></div></div></div></div></div></div></div>"
      ],
      "text/plain": [
       "RandomizedSearchCV(cv=5, estimator=RandomForestRegressor(),\n",
       "                   param_distributions={'bootstrap': [True, False],\n",
       "                                        'max_depth': [None, 10, 20, 30],\n",
       "                                        'min_samples_leaf': [1, 2, 4],\n",
       "                                        'min_samples_split': [2, 5, 10],\n",
       "                                        'n_estimators': [50, 100, 200]},\n",
       "                   random_state=55, scoring='neg_mean_squared_error')"
      ]
     },
     "execution_count": 68,
     "metadata": {},
     "output_type": "execute_result"
    }
   ],
   "source": [
    "from sklearn.model_selection import RandomizedSearchCV\n",
    "from sklearn.ensemble import RandomForestRegressor\n",
    "regr = RandomForestRegressor()\n",
    "gri_search_cv5 = RandomizedSearchCV(regr,param_grid_r,cv=5,scoring='neg_mean_squared_error',random_state=55)\n",
    "gri_search_cv5.fit(x_train_transformed,y_train)"
   ]
  },
  {
   "cell_type": "code",
   "execution_count": 69,
   "id": "c6e5833c",
   "metadata": {
    "execution": {
     "iopub.execute_input": "2024-01-07T10:51:49.978800Z",
     "iopub.status.busy": "2024-01-07T10:51:49.978428Z",
     "iopub.status.idle": "2024-01-07T10:51:49.983555Z",
     "shell.execute_reply": "2024-01-07T10:51:49.982093Z"
    },
    "papermill": {
     "duration": 0.034715,
     "end_time": "2024-01-07T10:51:49.985711",
     "exception": false,
     "start_time": "2024-01-07T10:51:49.950996",
     "status": "completed"
    },
    "tags": []
   },
   "outputs": [
    {
     "name": "stdout",
     "output_type": "stream",
     "text": [
      "{'n_estimators': 200, 'min_samples_split': 2, 'min_samples_leaf': 2, 'max_depth': None, 'bootstrap': True}\n"
     ]
    }
   ],
   "source": [
    "best_parameters5=gri_search_cv5.best_params_\n",
    "print(best_parameters5)"
   ]
  },
  {
   "cell_type": "code",
   "execution_count": 70,
   "id": "b9d6f74c",
   "metadata": {
    "execution": {
     "iopub.execute_input": "2024-01-07T10:51:50.042106Z",
     "iopub.status.busy": "2024-01-07T10:51:50.041784Z",
     "iopub.status.idle": "2024-01-07T10:51:52.879306Z",
     "shell.execute_reply": "2024-01-07T10:51:52.878526Z"
    },
    "papermill": {
     "duration": 2.867518,
     "end_time": "2024-01-07T10:51:52.881124",
     "exception": false,
     "start_time": "2024-01-07T10:51:50.013606",
     "status": "completed"
    },
    "tags": []
   },
   "outputs": [
    {
     "data": {
      "text/html": [
       "<style>#sk-container-id-15 {color: black;background-color: white;}#sk-container-id-15 pre{padding: 0;}#sk-container-id-15 div.sk-toggleable {background-color: white;}#sk-container-id-15 label.sk-toggleable__label {cursor: pointer;display: block;width: 100%;margin-bottom: 0;padding: 0.3em;box-sizing: border-box;text-align: center;}#sk-container-id-15 label.sk-toggleable__label-arrow:before {content: \"▸\";float: left;margin-right: 0.25em;color: #696969;}#sk-container-id-15 label.sk-toggleable__label-arrow:hover:before {color: black;}#sk-container-id-15 div.sk-estimator:hover label.sk-toggleable__label-arrow:before {color: black;}#sk-container-id-15 div.sk-toggleable__content {max-height: 0;max-width: 0;overflow: hidden;text-align: left;background-color: #f0f8ff;}#sk-container-id-15 div.sk-toggleable__content pre {margin: 0.2em;color: black;border-radius: 0.25em;background-color: #f0f8ff;}#sk-container-id-15 input.sk-toggleable__control:checked~div.sk-toggleable__content {max-height: 200px;max-width: 100%;overflow: auto;}#sk-container-id-15 input.sk-toggleable__control:checked~label.sk-toggleable__label-arrow:before {content: \"▾\";}#sk-container-id-15 div.sk-estimator input.sk-toggleable__control:checked~label.sk-toggleable__label {background-color: #d4ebff;}#sk-container-id-15 div.sk-label input.sk-toggleable__control:checked~label.sk-toggleable__label {background-color: #d4ebff;}#sk-container-id-15 input.sk-hidden--visually {border: 0;clip: rect(1px 1px 1px 1px);clip: rect(1px, 1px, 1px, 1px);height: 1px;margin: -1px;overflow: hidden;padding: 0;position: absolute;width: 1px;}#sk-container-id-15 div.sk-estimator {font-family: monospace;background-color: #f0f8ff;border: 1px dotted black;border-radius: 0.25em;box-sizing: border-box;margin-bottom: 0.5em;}#sk-container-id-15 div.sk-estimator:hover {background-color: #d4ebff;}#sk-container-id-15 div.sk-parallel-item::after {content: \"\";width: 100%;border-bottom: 1px solid gray;flex-grow: 1;}#sk-container-id-15 div.sk-label:hover label.sk-toggleable__label {background-color: #d4ebff;}#sk-container-id-15 div.sk-serial::before {content: \"\";position: absolute;border-left: 1px solid gray;box-sizing: border-box;top: 0;bottom: 0;left: 50%;z-index: 0;}#sk-container-id-15 div.sk-serial {display: flex;flex-direction: column;align-items: center;background-color: white;padding-right: 0.2em;padding-left: 0.2em;position: relative;}#sk-container-id-15 div.sk-item {position: relative;z-index: 1;}#sk-container-id-15 div.sk-parallel {display: flex;align-items: stretch;justify-content: center;background-color: white;position: relative;}#sk-container-id-15 div.sk-item::before, #sk-container-id-15 div.sk-parallel-item::before {content: \"\";position: absolute;border-left: 1px solid gray;box-sizing: border-box;top: 0;bottom: 0;left: 50%;z-index: -1;}#sk-container-id-15 div.sk-parallel-item {display: flex;flex-direction: column;z-index: 1;position: relative;background-color: white;}#sk-container-id-15 div.sk-parallel-item:first-child::after {align-self: flex-end;width: 50%;}#sk-container-id-15 div.sk-parallel-item:last-child::after {align-self: flex-start;width: 50%;}#sk-container-id-15 div.sk-parallel-item:only-child::after {width: 0;}#sk-container-id-15 div.sk-dashed-wrapped {border: 1px dashed gray;margin: 0 0.4em 0.5em 0.4em;box-sizing: border-box;padding-bottom: 0.4em;background-color: white;}#sk-container-id-15 div.sk-label label {font-family: monospace;font-weight: bold;display: inline-block;line-height: 1.2em;}#sk-container-id-15 div.sk-label-container {text-align: center;}#sk-container-id-15 div.sk-container {/* jupyter's `normalize.less` sets `[hidden] { display: none; }` but bootstrap.min.css set `[hidden] { display: none !important; }` so we also need the `!important` here to be able to override the default hidden behavior on the sphinx rendered scikit-learn.org. See: https://github.com/scikit-learn/scikit-learn/issues/21755 */display: inline-block !important;position: relative;}#sk-container-id-15 div.sk-text-repr-fallback {display: none;}</style><div id=\"sk-container-id-15\" class=\"sk-top-container\"><div class=\"sk-text-repr-fallback\"><pre>RandomForestRegressor(min_samples_leaf=2, n_estimators=200)</pre><b>In a Jupyter environment, please rerun this cell to show the HTML representation or trust the notebook. <br />On GitHub, the HTML representation is unable to render, please try loading this page with nbviewer.org.</b></div><div class=\"sk-container\" hidden><div class=\"sk-item\"><div class=\"sk-estimator sk-toggleable\"><input class=\"sk-toggleable__control sk-hidden--visually\" id=\"sk-estimator-id-24\" type=\"checkbox\" checked><label for=\"sk-estimator-id-24\" class=\"sk-toggleable__label sk-toggleable__label-arrow\">RandomForestRegressor</label><div class=\"sk-toggleable__content\"><pre>RandomForestRegressor(min_samples_leaf=2, n_estimators=200)</pre></div></div></div></div></div>"
      ],
      "text/plain": [
       "RandomForestRegressor(min_samples_leaf=2, n_estimators=200)"
      ]
     },
     "execution_count": 70,
     "metadata": {},
     "output_type": "execute_result"
    }
   ],
   "source": [
    "from sklearn.ensemble import RandomForestRegressor\n",
    "regrh = RandomForestRegressor(**best_parameters5)\n",
    "regrh.fit(x_train_transformed,y_train)"
   ]
  },
  {
   "cell_type": "code",
   "execution_count": 71,
   "id": "f37c94f1",
   "metadata": {
    "execution": {
     "iopub.execute_input": "2024-01-07T10:51:52.933943Z",
     "iopub.status.busy": "2024-01-07T10:51:52.933636Z",
     "iopub.status.idle": "2024-01-07T10:51:52.975218Z",
     "shell.execute_reply": "2024-01-07T10:51:52.973981Z"
    },
    "papermill": {
     "duration": 0.070532,
     "end_time": "2024-01-07T10:51:52.977271",
     "exception": false,
     "start_time": "2024-01-07T10:51:52.906739",
     "status": "completed"
    },
    "tags": []
   },
   "outputs": [
    {
     "data": {
      "text/plain": [
       "0.9740785430524882"
      ]
     },
     "execution_count": 71,
     "metadata": {},
     "output_type": "execute_result"
    }
   ],
   "source": [
    "regrh.score(x_train_transformed,y_train)"
   ]
  },
  {
   "cell_type": "code",
   "execution_count": 72,
   "id": "9511f90c",
   "metadata": {
    "execution": {
     "iopub.execute_input": "2024-01-07T10:51:53.031497Z",
     "iopub.status.busy": "2024-01-07T10:51:53.031094Z",
     "iopub.status.idle": "2024-01-07T10:51:53.082070Z",
     "shell.execute_reply": "2024-01-07T10:51:53.081224Z"
    },
    "papermill": {
     "duration": 0.080108,
     "end_time": "2024-01-07T10:51:53.083697",
     "exception": false,
     "start_time": "2024-01-07T10:51:53.003589",
     "status": "completed"
    },
    "tags": []
   },
   "outputs": [
    {
     "data": {
      "text/plain": [
       "0.8721611227338875"
      ]
     },
     "execution_count": 72,
     "metadata": {},
     "output_type": "execute_result"
    }
   ],
   "source": [
    "x_test_transformed = pipeline.transform(x_test)\n",
    "x_test_transformed = pd.DataFrame(x_test_transformed, columns=columns)\n",
    "categorical_imputer = SimpleImputer(strategy='most_frequent')\n",
    "x_test_transformed[ordinal] = categorical_imputer.fit_transform(x_test_transformed[ordinal])\n",
    "regrh.score(x_test_transformed,y_test)"
   ]
  },
  {
   "cell_type": "markdown",
   "id": "69d5abf9",
   "metadata": {
    "papermill": {
     "duration": 0.025204,
     "end_time": "2024-01-07T10:51:53.134422",
     "exception": false,
     "start_time": "2024-01-07T10:51:53.109218",
     "status": "completed"
    },
    "tags": []
   },
   "source": [
    "## Boosting(Gradient)"
   ]
  },
  {
   "cell_type": "code",
   "execution_count": 73,
   "id": "986dad30",
   "metadata": {
    "execution": {
     "iopub.execute_input": "2024-01-07T10:51:53.188261Z",
     "iopub.status.busy": "2024-01-07T10:51:53.187887Z",
     "iopub.status.idle": "2024-01-07T10:51:53.192500Z",
     "shell.execute_reply": "2024-01-07T10:51:53.191634Z"
    },
    "papermill": {
     "duration": 0.034654,
     "end_time": "2024-01-07T10:51:53.194799",
     "exception": false,
     "start_time": "2024-01-07T10:51:53.160145",
     "status": "completed"
    },
    "tags": []
   },
   "outputs": [],
   "source": [
    "param_dist = {\n",
    "    'n_estimators': [50, 100, 200],\n",
    "    'learning_rate': [0.01, 0.1, 0.2],\n",
    "    'max_depth': [3, 4, 5],\n",
    "    'min_samples_split': [2, 5, 10],\n",
    "    'min_samples_leaf': [1, 2, 4],\n",
    "    'subsample': [0.8, 0.9, 1.0],\n",
    "}\n"
   ]
  },
  {
   "cell_type": "code",
   "execution_count": 74,
   "id": "88dfff9a",
   "metadata": {
    "execution": {
     "iopub.execute_input": "2024-01-07T10:51:53.249763Z",
     "iopub.status.busy": "2024-01-07T10:51:53.249410Z",
     "iopub.status.idle": "2024-01-07T10:52:37.563519Z",
     "shell.execute_reply": "2024-01-07T10:52:37.562387Z"
    },
    "papermill": {
     "duration": 44.369836,
     "end_time": "2024-01-07T10:52:37.590867",
     "exception": false,
     "start_time": "2024-01-07T10:51:53.221031",
     "status": "completed"
    },
    "tags": []
   },
   "outputs": [
    {
     "data": {
      "text/html": [
       "<style>#sk-container-id-16 {color: black;background-color: white;}#sk-container-id-16 pre{padding: 0;}#sk-container-id-16 div.sk-toggleable {background-color: white;}#sk-container-id-16 label.sk-toggleable__label {cursor: pointer;display: block;width: 100%;margin-bottom: 0;padding: 0.3em;box-sizing: border-box;text-align: center;}#sk-container-id-16 label.sk-toggleable__label-arrow:before {content: \"▸\";float: left;margin-right: 0.25em;color: #696969;}#sk-container-id-16 label.sk-toggleable__label-arrow:hover:before {color: black;}#sk-container-id-16 div.sk-estimator:hover label.sk-toggleable__label-arrow:before {color: black;}#sk-container-id-16 div.sk-toggleable__content {max-height: 0;max-width: 0;overflow: hidden;text-align: left;background-color: #f0f8ff;}#sk-container-id-16 div.sk-toggleable__content pre {margin: 0.2em;color: black;border-radius: 0.25em;background-color: #f0f8ff;}#sk-container-id-16 input.sk-toggleable__control:checked~div.sk-toggleable__content {max-height: 200px;max-width: 100%;overflow: auto;}#sk-container-id-16 input.sk-toggleable__control:checked~label.sk-toggleable__label-arrow:before {content: \"▾\";}#sk-container-id-16 div.sk-estimator input.sk-toggleable__control:checked~label.sk-toggleable__label {background-color: #d4ebff;}#sk-container-id-16 div.sk-label input.sk-toggleable__control:checked~label.sk-toggleable__label {background-color: #d4ebff;}#sk-container-id-16 input.sk-hidden--visually {border: 0;clip: rect(1px 1px 1px 1px);clip: rect(1px, 1px, 1px, 1px);height: 1px;margin: -1px;overflow: hidden;padding: 0;position: absolute;width: 1px;}#sk-container-id-16 div.sk-estimator {font-family: monospace;background-color: #f0f8ff;border: 1px dotted black;border-radius: 0.25em;box-sizing: border-box;margin-bottom: 0.5em;}#sk-container-id-16 div.sk-estimator:hover {background-color: #d4ebff;}#sk-container-id-16 div.sk-parallel-item::after {content: \"\";width: 100%;border-bottom: 1px solid gray;flex-grow: 1;}#sk-container-id-16 div.sk-label:hover label.sk-toggleable__label {background-color: #d4ebff;}#sk-container-id-16 div.sk-serial::before {content: \"\";position: absolute;border-left: 1px solid gray;box-sizing: border-box;top: 0;bottom: 0;left: 50%;z-index: 0;}#sk-container-id-16 div.sk-serial {display: flex;flex-direction: column;align-items: center;background-color: white;padding-right: 0.2em;padding-left: 0.2em;position: relative;}#sk-container-id-16 div.sk-item {position: relative;z-index: 1;}#sk-container-id-16 div.sk-parallel {display: flex;align-items: stretch;justify-content: center;background-color: white;position: relative;}#sk-container-id-16 div.sk-item::before, #sk-container-id-16 div.sk-parallel-item::before {content: \"\";position: absolute;border-left: 1px solid gray;box-sizing: border-box;top: 0;bottom: 0;left: 50%;z-index: -1;}#sk-container-id-16 div.sk-parallel-item {display: flex;flex-direction: column;z-index: 1;position: relative;background-color: white;}#sk-container-id-16 div.sk-parallel-item:first-child::after {align-self: flex-end;width: 50%;}#sk-container-id-16 div.sk-parallel-item:last-child::after {align-self: flex-start;width: 50%;}#sk-container-id-16 div.sk-parallel-item:only-child::after {width: 0;}#sk-container-id-16 div.sk-dashed-wrapped {border: 1px dashed gray;margin: 0 0.4em 0.5em 0.4em;box-sizing: border-box;padding-bottom: 0.4em;background-color: white;}#sk-container-id-16 div.sk-label label {font-family: monospace;font-weight: bold;display: inline-block;line-height: 1.2em;}#sk-container-id-16 div.sk-label-container {text-align: center;}#sk-container-id-16 div.sk-container {/* jupyter's `normalize.less` sets `[hidden] { display: none; }` but bootstrap.min.css set `[hidden] { display: none !important; }` so we also need the `!important` here to be able to override the default hidden behavior on the sphinx rendered scikit-learn.org. See: https://github.com/scikit-learn/scikit-learn/issues/21755 */display: inline-block !important;position: relative;}#sk-container-id-16 div.sk-text-repr-fallback {display: none;}</style><div id=\"sk-container-id-16\" class=\"sk-top-container\"><div class=\"sk-text-repr-fallback\"><pre>RandomizedSearchCV(cv=5, estimator=GradientBoostingRegressor(),\n",
       "                   param_distributions={&#x27;learning_rate&#x27;: [0.01, 0.1, 0.2],\n",
       "                                        &#x27;max_depth&#x27;: [3, 4, 5],\n",
       "                                        &#x27;min_samples_leaf&#x27;: [1, 2, 4],\n",
       "                                        &#x27;min_samples_split&#x27;: [2, 5, 10],\n",
       "                                        &#x27;n_estimators&#x27;: [50, 100, 200],\n",
       "                                        &#x27;subsample&#x27;: [0.8, 0.9, 1.0]},\n",
       "                   random_state=55, scoring=&#x27;neg_mean_squared_error&#x27;)</pre><b>In a Jupyter environment, please rerun this cell to show the HTML representation or trust the notebook. <br />On GitHub, the HTML representation is unable to render, please try loading this page with nbviewer.org.</b></div><div class=\"sk-container\" hidden><div class=\"sk-item sk-dashed-wrapped\"><div class=\"sk-label-container\"><div class=\"sk-label sk-toggleable\"><input class=\"sk-toggleable__control sk-hidden--visually\" id=\"sk-estimator-id-25\" type=\"checkbox\" ><label for=\"sk-estimator-id-25\" class=\"sk-toggleable__label sk-toggleable__label-arrow\">RandomizedSearchCV</label><div class=\"sk-toggleable__content\"><pre>RandomizedSearchCV(cv=5, estimator=GradientBoostingRegressor(),\n",
       "                   param_distributions={&#x27;learning_rate&#x27;: [0.01, 0.1, 0.2],\n",
       "                                        &#x27;max_depth&#x27;: [3, 4, 5],\n",
       "                                        &#x27;min_samples_leaf&#x27;: [1, 2, 4],\n",
       "                                        &#x27;min_samples_split&#x27;: [2, 5, 10],\n",
       "                                        &#x27;n_estimators&#x27;: [50, 100, 200],\n",
       "                                        &#x27;subsample&#x27;: [0.8, 0.9, 1.0]},\n",
       "                   random_state=55, scoring=&#x27;neg_mean_squared_error&#x27;)</pre></div></div></div><div class=\"sk-parallel\"><div class=\"sk-parallel-item\"><div class=\"sk-item\"><div class=\"sk-label-container\"><div class=\"sk-label sk-toggleable\"><input class=\"sk-toggleable__control sk-hidden--visually\" id=\"sk-estimator-id-26\" type=\"checkbox\" ><label for=\"sk-estimator-id-26\" class=\"sk-toggleable__label sk-toggleable__label-arrow\">estimator: GradientBoostingRegressor</label><div class=\"sk-toggleable__content\"><pre>GradientBoostingRegressor()</pre></div></div></div><div class=\"sk-serial\"><div class=\"sk-item\"><div class=\"sk-estimator sk-toggleable\"><input class=\"sk-toggleable__control sk-hidden--visually\" id=\"sk-estimator-id-27\" type=\"checkbox\" ><label for=\"sk-estimator-id-27\" class=\"sk-toggleable__label sk-toggleable__label-arrow\">GradientBoostingRegressor</label><div class=\"sk-toggleable__content\"><pre>GradientBoostingRegressor()</pre></div></div></div></div></div></div></div></div></div></div>"
      ],
      "text/plain": [
       "RandomizedSearchCV(cv=5, estimator=GradientBoostingRegressor(),\n",
       "                   param_distributions={'learning_rate': [0.01, 0.1, 0.2],\n",
       "                                        'max_depth': [3, 4, 5],\n",
       "                                        'min_samples_leaf': [1, 2, 4],\n",
       "                                        'min_samples_split': [2, 5, 10],\n",
       "                                        'n_estimators': [50, 100, 200],\n",
       "                                        'subsample': [0.8, 0.9, 1.0]},\n",
       "                   random_state=55, scoring='neg_mean_squared_error')"
      ]
     },
     "execution_count": 74,
     "metadata": {},
     "output_type": "execute_result"
    }
   ],
   "source": [
    "from sklearn.model_selection import RandomizedSearchCV\n",
    "from sklearn.ensemble import GradientBoostingRegressor\n",
    "grid = GradientBoostingRegressor()\n",
    "gri_search_cv6 = RandomizedSearchCV(grid,param_dist,cv=5,scoring='neg_mean_squared_error',random_state=55)\n",
    "gri_search_cv6.fit(x_train_transformed,y_train)"
   ]
  },
  {
   "cell_type": "code",
   "execution_count": 75,
   "id": "0df26898",
   "metadata": {
    "execution": {
     "iopub.execute_input": "2024-01-07T10:52:37.646606Z",
     "iopub.status.busy": "2024-01-07T10:52:37.646286Z",
     "iopub.status.idle": "2024-01-07T10:52:37.652198Z",
     "shell.execute_reply": "2024-01-07T10:52:37.650849Z"
    },
    "papermill": {
     "duration": 0.036002,
     "end_time": "2024-01-07T10:52:37.654439",
     "exception": false,
     "start_time": "2024-01-07T10:52:37.618437",
     "status": "completed"
    },
    "tags": []
   },
   "outputs": [
    {
     "name": "stdout",
     "output_type": "stream",
     "text": [
      "{'max_depth': 20, 'min_samples_leaf': 10, 'min_samples_split': 20}\n"
     ]
    }
   ],
   "source": [
    "best_parameters6=gri_search_cv.best_params_\n",
    "print(best_parameters6)"
   ]
  },
  {
   "cell_type": "code",
   "execution_count": 76,
   "id": "23a91469",
   "metadata": {
    "execution": {
     "iopub.execute_input": "2024-01-07T10:52:37.709876Z",
     "iopub.status.busy": "2024-01-07T10:52:37.709556Z",
     "iopub.status.idle": "2024-01-07T10:52:40.606206Z",
     "shell.execute_reply": "2024-01-07T10:52:40.605246Z"
    },
    "papermill": {
     "duration": 2.926688,
     "end_time": "2024-01-07T10:52:40.607992",
     "exception": false,
     "start_time": "2024-01-07T10:52:37.681304",
     "status": "completed"
    },
    "tags": []
   },
   "outputs": [
    {
     "data": {
      "text/html": [
       "<style>#sk-container-id-17 {color: black;background-color: white;}#sk-container-id-17 pre{padding: 0;}#sk-container-id-17 div.sk-toggleable {background-color: white;}#sk-container-id-17 label.sk-toggleable__label {cursor: pointer;display: block;width: 100%;margin-bottom: 0;padding: 0.3em;box-sizing: border-box;text-align: center;}#sk-container-id-17 label.sk-toggleable__label-arrow:before {content: \"▸\";float: left;margin-right: 0.25em;color: #696969;}#sk-container-id-17 label.sk-toggleable__label-arrow:hover:before {color: black;}#sk-container-id-17 div.sk-estimator:hover label.sk-toggleable__label-arrow:before {color: black;}#sk-container-id-17 div.sk-toggleable__content {max-height: 0;max-width: 0;overflow: hidden;text-align: left;background-color: #f0f8ff;}#sk-container-id-17 div.sk-toggleable__content pre {margin: 0.2em;color: black;border-radius: 0.25em;background-color: #f0f8ff;}#sk-container-id-17 input.sk-toggleable__control:checked~div.sk-toggleable__content {max-height: 200px;max-width: 100%;overflow: auto;}#sk-container-id-17 input.sk-toggleable__control:checked~label.sk-toggleable__label-arrow:before {content: \"▾\";}#sk-container-id-17 div.sk-estimator input.sk-toggleable__control:checked~label.sk-toggleable__label {background-color: #d4ebff;}#sk-container-id-17 div.sk-label input.sk-toggleable__control:checked~label.sk-toggleable__label {background-color: #d4ebff;}#sk-container-id-17 input.sk-hidden--visually {border: 0;clip: rect(1px 1px 1px 1px);clip: rect(1px, 1px, 1px, 1px);height: 1px;margin: -1px;overflow: hidden;padding: 0;position: absolute;width: 1px;}#sk-container-id-17 div.sk-estimator {font-family: monospace;background-color: #f0f8ff;border: 1px dotted black;border-radius: 0.25em;box-sizing: border-box;margin-bottom: 0.5em;}#sk-container-id-17 div.sk-estimator:hover {background-color: #d4ebff;}#sk-container-id-17 div.sk-parallel-item::after {content: \"\";width: 100%;border-bottom: 1px solid gray;flex-grow: 1;}#sk-container-id-17 div.sk-label:hover label.sk-toggleable__label {background-color: #d4ebff;}#sk-container-id-17 div.sk-serial::before {content: \"\";position: absolute;border-left: 1px solid gray;box-sizing: border-box;top: 0;bottom: 0;left: 50%;z-index: 0;}#sk-container-id-17 div.sk-serial {display: flex;flex-direction: column;align-items: center;background-color: white;padding-right: 0.2em;padding-left: 0.2em;position: relative;}#sk-container-id-17 div.sk-item {position: relative;z-index: 1;}#sk-container-id-17 div.sk-parallel {display: flex;align-items: stretch;justify-content: center;background-color: white;position: relative;}#sk-container-id-17 div.sk-item::before, #sk-container-id-17 div.sk-parallel-item::before {content: \"\";position: absolute;border-left: 1px solid gray;box-sizing: border-box;top: 0;bottom: 0;left: 50%;z-index: -1;}#sk-container-id-17 div.sk-parallel-item {display: flex;flex-direction: column;z-index: 1;position: relative;background-color: white;}#sk-container-id-17 div.sk-parallel-item:first-child::after {align-self: flex-end;width: 50%;}#sk-container-id-17 div.sk-parallel-item:last-child::after {align-self: flex-start;width: 50%;}#sk-container-id-17 div.sk-parallel-item:only-child::after {width: 0;}#sk-container-id-17 div.sk-dashed-wrapped {border: 1px dashed gray;margin: 0 0.4em 0.5em 0.4em;box-sizing: border-box;padding-bottom: 0.4em;background-color: white;}#sk-container-id-17 div.sk-label label {font-family: monospace;font-weight: bold;display: inline-block;line-height: 1.2em;}#sk-container-id-17 div.sk-label-container {text-align: center;}#sk-container-id-17 div.sk-container {/* jupyter's `normalize.less` sets `[hidden] { display: none; }` but bootstrap.min.css set `[hidden] { display: none !important; }` so we also need the `!important` here to be able to override the default hidden behavior on the sphinx rendered scikit-learn.org. See: https://github.com/scikit-learn/scikit-learn/issues/21755 */display: inline-block !important;position: relative;}#sk-container-id-17 div.sk-text-repr-fallback {display: none;}</style><div id=\"sk-container-id-17\" class=\"sk-top-container\"><div class=\"sk-text-repr-fallback\"><pre>GradientBoostingRegressor(max_depth=20, min_samples_leaf=10,\n",
       "                          min_samples_split=20)</pre><b>In a Jupyter environment, please rerun this cell to show the HTML representation or trust the notebook. <br />On GitHub, the HTML representation is unable to render, please try loading this page with nbviewer.org.</b></div><div class=\"sk-container\" hidden><div class=\"sk-item\"><div class=\"sk-estimator sk-toggleable\"><input class=\"sk-toggleable__control sk-hidden--visually\" id=\"sk-estimator-id-28\" type=\"checkbox\" checked><label for=\"sk-estimator-id-28\" class=\"sk-toggleable__label sk-toggleable__label-arrow\">GradientBoostingRegressor</label><div class=\"sk-toggleable__content\"><pre>GradientBoostingRegressor(max_depth=20, min_samples_leaf=10,\n",
       "                          min_samples_split=20)</pre></div></div></div></div></div>"
      ],
      "text/plain": [
       "GradientBoostingRegressor(max_depth=20, min_samples_leaf=10,\n",
       "                          min_samples_split=20)"
      ]
     },
     "execution_count": 76,
     "metadata": {},
     "output_type": "execute_result"
    }
   ],
   "source": [
    "from sklearn.ensemble import GradientBoostingRegressor\n",
    "grad_bo = GradientBoostingRegressor(**best_parameters6)\n",
    "grad_bo.fit(x_train_transformed,y_train)"
   ]
  },
  {
   "cell_type": "code",
   "execution_count": 77,
   "id": "2053e244",
   "metadata": {
    "execution": {
     "iopub.execute_input": "2024-01-07T10:52:40.662106Z",
     "iopub.status.busy": "2024-01-07T10:52:40.661791Z",
     "iopub.status.idle": "2024-01-07T10:52:40.679759Z",
     "shell.execute_reply": "2024-01-07T10:52:40.679017Z"
    },
    "papermill": {
     "duration": 0.047394,
     "end_time": "2024-01-07T10:52:40.681652",
     "exception": false,
     "start_time": "2024-01-07T10:52:40.634258",
     "status": "completed"
    },
    "tags": []
   },
   "outputs": [
    {
     "data": {
      "text/plain": [
       "0.9968872643524438"
      ]
     },
     "execution_count": 77,
     "metadata": {},
     "output_type": "execute_result"
    }
   ],
   "source": [
    "grad_bo.score(x_train_transformed,y_train)"
   ]
  },
  {
   "cell_type": "code",
   "execution_count": 78,
   "id": "358af605",
   "metadata": {
    "execution": {
     "iopub.execute_input": "2024-01-07T10:52:40.736760Z",
     "iopub.status.busy": "2024-01-07T10:52:40.736004Z",
     "iopub.status.idle": "2024-01-07T10:52:40.779208Z",
     "shell.execute_reply": "2024-01-07T10:52:40.778452Z"
    },
    "papermill": {
     "duration": 0.072917,
     "end_time": "2024-01-07T10:52:40.780914",
     "exception": false,
     "start_time": "2024-01-07T10:52:40.707997",
     "status": "completed"
    },
    "tags": []
   },
   "outputs": [
    {
     "data": {
      "text/plain": [
       "0.8753190759508471"
      ]
     },
     "execution_count": 78,
     "metadata": {},
     "output_type": "execute_result"
    }
   ],
   "source": [
    "x_test_transformed = pipeline.transform(x_test)\n",
    "x_test_transformed = pd.DataFrame(x_test_transformed, columns=columns)\n",
    "categorical_imputer = SimpleImputer(strategy='most_frequent')\n",
    "x_test_transformed[ordinal] = categorical_imputer.fit_transform(x_test_transformed[ordinal])\n",
    "grad_bo.score(x_test_transformed,y_test)"
   ]
  },
  {
   "cell_type": "markdown",
   "id": "82b7bd98",
   "metadata": {
    "papermill": {
     "duration": 0.02604,
     "end_time": "2024-01-07T10:52:40.833536",
     "exception": false,
     "start_time": "2024-01-07T10:52:40.807496",
     "status": "completed"
    },
    "tags": []
   },
   "source": [
    "**test scores after hyperparameter tuning are** \n",
    "\n",
    "desicion tree: 0.7510\n",
    "\n",
    "Bagging:      0.8741\n",
    "\n",
    "Random forest: 0.8721\n",
    "\n",
    "Boosting(Gradient): 0.8736\n"
   ]
  },
  {
   "cell_type": "markdown",
   "id": "e7852349",
   "metadata": {
    "papermill": {
     "duration": 0.026083,
     "end_time": "2024-01-07T10:52:40.885887",
     "exception": false,
     "start_time": "2024-01-07T10:52:40.859804",
     "status": "completed"
    },
    "tags": []
   },
   "source": [
    "**Bagging using base model decision tree, Random Forest and Boosting(Gradient) trere score are quite closte after hypertunning in test data**"
   ]
  },
  {
   "cell_type": "markdown",
   "id": "e2a329cb",
   "metadata": {
    "papermill": {
     "duration": 0.03061,
     "end_time": "2024-01-07T10:52:40.944485",
     "exception": false,
     "start_time": "2024-01-07T10:52:40.913875",
     "status": "completed"
    },
    "tags": []
   },
   "source": [
    "# Prediction Time"
   ]
  },
  {
   "cell_type": "code",
   "execution_count": 79,
   "id": "8327f617",
   "metadata": {
    "execution": {
     "iopub.execute_input": "2024-01-07T10:52:41.002522Z",
     "iopub.status.busy": "2024-01-07T10:52:41.002199Z",
     "iopub.status.idle": "2024-01-07T10:52:41.024689Z",
     "shell.execute_reply": "2024-01-07T10:52:41.023636Z"
    },
    "papermill": {
     "duration": 0.055131,
     "end_time": "2024-01-07T10:52:41.026994",
     "exception": false,
     "start_time": "2024-01-07T10:52:40.971863",
     "status": "completed"
    },
    "tags": []
   },
   "outputs": [
    {
     "data": {
      "text/html": [
       "<div>\n",
       "<style scoped>\n",
       "    .dataframe tbody tr th:only-of-type {\n",
       "        vertical-align: middle;\n",
       "    }\n",
       "\n",
       "    .dataframe tbody tr th {\n",
       "        vertical-align: top;\n",
       "    }\n",
       "\n",
       "    .dataframe thead th {\n",
       "        text-align: right;\n",
       "    }\n",
       "</style>\n",
       "<table border=\"1\" class=\"dataframe\">\n",
       "  <thead>\n",
       "    <tr style=\"text-align: right;\">\n",
       "      <th></th>\n",
       "      <th>Id</th>\n",
       "      <th>SalePrice</th>\n",
       "    </tr>\n",
       "  </thead>\n",
       "  <tbody>\n",
       "    <tr>\n",
       "      <th>0</th>\n",
       "      <td>1461</td>\n",
       "      <td>169277.052498</td>\n",
       "    </tr>\n",
       "    <tr>\n",
       "      <th>1</th>\n",
       "      <td>1462</td>\n",
       "      <td>187758.393989</td>\n",
       "    </tr>\n",
       "    <tr>\n",
       "      <th>2</th>\n",
       "      <td>1463</td>\n",
       "      <td>183583.683570</td>\n",
       "    </tr>\n",
       "    <tr>\n",
       "      <th>3</th>\n",
       "      <td>1464</td>\n",
       "      <td>179317.477511</td>\n",
       "    </tr>\n",
       "    <tr>\n",
       "      <th>4</th>\n",
       "      <td>1465</td>\n",
       "      <td>150730.079977</td>\n",
       "    </tr>\n",
       "  </tbody>\n",
       "</table>\n",
       "</div>"
      ],
      "text/plain": [
       "     Id      SalePrice\n",
       "0  1461  169277.052498\n",
       "1  1462  187758.393989\n",
       "2  1463  183583.683570\n",
       "3  1464  179317.477511\n",
       "4  1465  150730.079977"
      ]
     },
     "execution_count": 79,
     "metadata": {},
     "output_type": "execute_result"
    }
   ],
   "source": [
    "sample = pd.read_csv(\"/kaggle/input/house-prices-advanced-regression-techniques/sample_submission.csv\")\n",
    "sample.head()"
   ]
  },
  {
   "cell_type": "code",
   "execution_count": 80,
   "id": "dd737ac7",
   "metadata": {
    "execution": {
     "iopub.execute_input": "2024-01-07T10:52:41.086463Z",
     "iopub.status.busy": "2024-01-07T10:52:41.086146Z",
     "iopub.status.idle": "2024-01-07T10:52:41.120904Z",
     "shell.execute_reply": "2024-01-07T10:52:41.120162Z"
    },
    "papermill": {
     "duration": 0.064363,
     "end_time": "2024-01-07T10:52:41.123033",
     "exception": false,
     "start_time": "2024-01-07T10:52:41.058670",
     "status": "completed"
    },
    "tags": []
   },
   "outputs": [],
   "source": [
    "X_test = pd.read_csv(\"/kaggle/input/house-prices-advanced-regression-techniques/test.csv\")"
   ]
  },
  {
   "cell_type": "code",
   "execution_count": 81,
   "id": "08f632d7",
   "metadata": {
    "execution": {
     "iopub.execute_input": "2024-01-07T10:52:41.178214Z",
     "iopub.status.busy": "2024-01-07T10:52:41.177721Z",
     "iopub.status.idle": "2024-01-07T10:52:41.194224Z",
     "shell.execute_reply": "2024-01-07T10:52:41.193225Z"
    },
    "papermill": {
     "duration": 0.046315,
     "end_time": "2024-01-07T10:52:41.196206",
     "exception": false,
     "start_time": "2024-01-07T10:52:41.149891",
     "status": "completed"
    },
    "tags": []
   },
   "outputs": [
    {
     "data": {
      "text/html": [
       "<div>\n",
       "<style scoped>\n",
       "    .dataframe tbody tr th:only-of-type {\n",
       "        vertical-align: middle;\n",
       "    }\n",
       "\n",
       "    .dataframe tbody tr th {\n",
       "        vertical-align: top;\n",
       "    }\n",
       "\n",
       "    .dataframe thead th {\n",
       "        text-align: right;\n",
       "    }\n",
       "</style>\n",
       "<table border=\"1\" class=\"dataframe\">\n",
       "  <thead>\n",
       "    <tr style=\"text-align: right;\">\n",
       "      <th></th>\n",
       "      <th>Id</th>\n",
       "      <th>MSSubClass</th>\n",
       "      <th>MSZoning</th>\n",
       "      <th>LotFrontage</th>\n",
       "      <th>LotArea</th>\n",
       "      <th>Street</th>\n",
       "      <th>Alley</th>\n",
       "      <th>LotShape</th>\n",
       "      <th>LandContour</th>\n",
       "      <th>Utilities</th>\n",
       "      <th>...</th>\n",
       "      <th>ScreenPorch</th>\n",
       "      <th>PoolArea</th>\n",
       "      <th>PoolQC</th>\n",
       "      <th>Fence</th>\n",
       "      <th>MiscFeature</th>\n",
       "      <th>MiscVal</th>\n",
       "      <th>MoSold</th>\n",
       "      <th>YrSold</th>\n",
       "      <th>SaleType</th>\n",
       "      <th>SaleCondition</th>\n",
       "    </tr>\n",
       "  </thead>\n",
       "  <tbody>\n",
       "    <tr>\n",
       "      <th>0</th>\n",
       "      <td>1461</td>\n",
       "      <td>20</td>\n",
       "      <td>RH</td>\n",
       "      <td>80.0</td>\n",
       "      <td>11622</td>\n",
       "      <td>Pave</td>\n",
       "      <td>NaN</td>\n",
       "      <td>Reg</td>\n",
       "      <td>Lvl</td>\n",
       "      <td>AllPub</td>\n",
       "      <td>...</td>\n",
       "      <td>120</td>\n",
       "      <td>0</td>\n",
       "      <td>NaN</td>\n",
       "      <td>MnPrv</td>\n",
       "      <td>NaN</td>\n",
       "      <td>0</td>\n",
       "      <td>6</td>\n",
       "      <td>2010</td>\n",
       "      <td>WD</td>\n",
       "      <td>Normal</td>\n",
       "    </tr>\n",
       "    <tr>\n",
       "      <th>1</th>\n",
       "      <td>1462</td>\n",
       "      <td>20</td>\n",
       "      <td>RL</td>\n",
       "      <td>81.0</td>\n",
       "      <td>14267</td>\n",
       "      <td>Pave</td>\n",
       "      <td>NaN</td>\n",
       "      <td>IR1</td>\n",
       "      <td>Lvl</td>\n",
       "      <td>AllPub</td>\n",
       "      <td>...</td>\n",
       "      <td>0</td>\n",
       "      <td>0</td>\n",
       "      <td>NaN</td>\n",
       "      <td>NaN</td>\n",
       "      <td>Gar2</td>\n",
       "      <td>12500</td>\n",
       "      <td>6</td>\n",
       "      <td>2010</td>\n",
       "      <td>WD</td>\n",
       "      <td>Normal</td>\n",
       "    </tr>\n",
       "  </tbody>\n",
       "</table>\n",
       "<p>2 rows × 80 columns</p>\n",
       "</div>"
      ],
      "text/plain": [
       "     Id  MSSubClass MSZoning  LotFrontage  LotArea Street Alley LotShape  \\\n",
       "0  1461          20       RH         80.0    11622   Pave   NaN      Reg   \n",
       "1  1462          20       RL         81.0    14267   Pave   NaN      IR1   \n",
       "\n",
       "  LandContour Utilities  ... ScreenPorch PoolArea PoolQC  Fence MiscFeature  \\\n",
       "0         Lvl    AllPub  ...         120        0    NaN  MnPrv         NaN   \n",
       "1         Lvl    AllPub  ...           0        0    NaN    NaN        Gar2   \n",
       "\n",
       "  MiscVal MoSold  YrSold  SaleType  SaleCondition  \n",
       "0       0      6    2010        WD         Normal  \n",
       "1   12500      6    2010        WD         Normal  \n",
       "\n",
       "[2 rows x 80 columns]"
      ]
     },
     "execution_count": 81,
     "metadata": {},
     "output_type": "execute_result"
    }
   ],
   "source": [
    "X_test.head(2)"
   ]
  },
  {
   "cell_type": "code",
   "execution_count": 82,
   "id": "33c990a0",
   "metadata": {
    "execution": {
     "iopub.execute_input": "2024-01-07T10:52:41.254064Z",
     "iopub.status.busy": "2024-01-07T10:52:41.253736Z",
     "iopub.status.idle": "2024-01-07T10:52:41.298537Z",
     "shell.execute_reply": "2024-01-07T10:52:41.297416Z"
    },
    "papermill": {
     "duration": 0.077203,
     "end_time": "2024-01-07T10:52:41.300959",
     "exception": false,
     "start_time": "2024-01-07T10:52:41.223756",
     "status": "completed"
    },
    "tags": []
   },
   "outputs": [],
   "source": [
    "X_test_transformed = pipeline.transform(X_test)\n",
    "X_test_transformed = pd.DataFrame(X_test_transformed, columns=columns)\n",
    "categorical_imputer = SimpleImputer(strategy='most_frequent')\n",
    "X_test_transformed[ordinal] = categorical_imputer.fit_transform(X_test_transformed[ordinal])"
   ]
  },
  {
   "cell_type": "code",
   "execution_count": 83,
   "id": "613898a3",
   "metadata": {
    "execution": {
     "iopub.execute_input": "2024-01-07T10:52:41.355345Z",
     "iopub.status.busy": "2024-01-07T10:52:41.354987Z",
     "iopub.status.idle": "2024-01-07T10:52:41.429570Z",
     "shell.execute_reply": "2024-01-07T10:52:41.428292Z"
    },
    "papermill": {
     "duration": 0.108113,
     "end_time": "2024-01-07T10:52:41.435620",
     "exception": false,
     "start_time": "2024-01-07T10:52:41.327507",
     "status": "completed"
    },
    "tags": []
   },
   "outputs": [],
   "source": [
    "prediction = bagging_regressor.predict(X_test_transformed)"
   ]
  },
  {
   "cell_type": "markdown",
   "id": "9189112c",
   "metadata": {
    "papermill": {
     "duration": 0.027368,
     "end_time": "2024-01-07T10:52:41.491506",
     "exception": false,
     "start_time": "2024-01-07T10:52:41.464138",
     "status": "completed"
    },
    "tags": []
   },
   "source": [
    "# Submission"
   ]
  },
  {
   "cell_type": "code",
   "execution_count": 84,
   "id": "96713a37",
   "metadata": {
    "execution": {
     "iopub.execute_input": "2024-01-07T10:52:41.548538Z",
     "iopub.status.busy": "2024-01-07T10:52:41.548219Z",
     "iopub.status.idle": "2024-01-07T10:52:41.555833Z",
     "shell.execute_reply": "2024-01-07T10:52:41.555101Z"
    },
    "papermill": {
     "duration": 0.038132,
     "end_time": "2024-01-07T10:52:41.557466",
     "exception": false,
     "start_time": "2024-01-07T10:52:41.519334",
     "status": "completed"
    },
    "tags": []
   },
   "outputs": [],
   "source": [
    "submit = pd.DataFrame(columns=['ID', 'SalePrice'])\n",
    "submit['ID'] = [i for i in range(1461,1461+len(prediction))]\n",
    "submit['SalePrice'] = prediction"
   ]
  },
  {
   "cell_type": "code",
   "execution_count": 85,
   "id": "d235c55b",
   "metadata": {
    "execution": {
     "iopub.execute_input": "2024-01-07T10:52:41.611895Z",
     "iopub.status.busy": "2024-01-07T10:52:41.611331Z",
     "iopub.status.idle": "2024-01-07T10:52:41.621953Z",
     "shell.execute_reply": "2024-01-07T10:52:41.620593Z"
    },
    "papermill": {
     "duration": 0.040463,
     "end_time": "2024-01-07T10:52:41.624240",
     "exception": false,
     "start_time": "2024-01-07T10:52:41.583777",
     "status": "completed"
    },
    "tags": []
   },
   "outputs": [],
   "source": [
    "submit.to_csv('submission.csv',index=False)"
   ]
  }
 ],
 "metadata": {
  "kaggle": {
   "accelerator": "none",
   "dataSources": [
    {
     "databundleVersionId": 868283,
     "sourceId": 5407,
     "sourceType": "competition"
    }
   ],
   "dockerImageVersionId": 30558,
   "isGpuEnabled": false,
   "isInternetEnabled": true,
   "language": "python",
   "sourceType": "notebook"
  },
  "kernelspec": {
   "display_name": "Python 3",
   "language": "python",
   "name": "python3"
  },
  "language_info": {
   "codemirror_mode": {
    "name": "ipython",
    "version": 3
   },
   "file_extension": ".py",
   "mimetype": "text/x-python",
   "name": "python",
   "nbconvert_exporter": "python",
   "pygments_lexer": "ipython3",
   "version": "3.10.12"
  },
  "papermill": {
   "default_parameters": {},
   "duration": 298.038691,
   "end_time": "2024-01-07T10:52:42.371577",
   "environment_variables": {},
   "exception": null,
   "input_path": "__notebook__.ipynb",
   "output_path": "__notebook__.ipynb",
   "parameters": {},
   "start_time": "2024-01-07T10:47:44.332886",
   "version": "2.4.0"
  }
 },
 "nbformat": 4,
 "nbformat_minor": 5
}
